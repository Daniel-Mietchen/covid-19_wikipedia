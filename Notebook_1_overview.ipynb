{
 "cells": [
  {
   "cell_type": "markdown",
   "metadata": {},
   "source": [
    "# Overview\n",
    "\n",
    "In this notebook, we provide an overview of publication medatata for CORD-19."
   ]
  },
  {
   "cell_type": "code",
   "execution_count": 2,
   "metadata": {},
   "outputs": [
    {
     "name": "stdout",
     "output_type": "stream",
     "text": [
      "The autoreload extension is already loaded. To reload it, use:\n",
      "  %reload_ext autoreload\n"
     ]
    }
   ],
   "source": [
    "%matplotlib inline\n",
    "import matplotlib.pyplot as plt\n",
    "\n",
    "# magics and warnings\n",
    "%load_ext autoreload\n",
    "%autoreload 2\n",
    "import warnings; warnings.simplefilter('ignore')\n",
    "\n",
    "import os, random, codecs, json\n",
    "import pandas as pd\n",
    "import numpy as np\n",
    "\n",
    "seed = 99\n",
    "random.seed(seed)\n",
    "np.random.seed(seed)\n",
    "\n",
    "import nltk, sklearn\n",
    "import matplotlib.pyplot as plt\n",
    "import seaborn as sns\n",
    "sns.set(style=\"white\")\n",
    "sns.set_context(\"notebook\", font_scale=1.2, rc={\"lines.linewidth\": 2.5})"
   ]
  },
  {
   "cell_type": "code",
   "execution_count": 3,
   "metadata": {},
   "outputs": [],
   "source": [
    "# load publication metadata\n",
    "\n",
    "df_meta = pd.read_csv(\"../cwts_covid/datasets_output/df_pub.csv\",compression=\"gzip\")"
   ]
  },
  {
   "cell_type": "code",
   "execution_count": 4,
   "metadata": {},
   "outputs": [
    {
     "data": {
      "text/html": [
       "<div>\n",
       "<style scoped>\n",
       "    .dataframe tbody tr th:only-of-type {\n",
       "        vertical-align: middle;\n",
       "    }\n",
       "\n",
       "    .dataframe tbody tr th {\n",
       "        vertical-align: top;\n",
       "    }\n",
       "\n",
       "    .dataframe thead th {\n",
       "        text-align: right;\n",
       "    }\n",
       "</style>\n",
       "<table border=\"1\" class=\"dataframe\">\n",
       "  <thead>\n",
       "    <tr style=\"text-align: right;\">\n",
       "      <th></th>\n",
       "      <th>pub_id</th>\n",
       "      <th>title</th>\n",
       "      <th>abstract</th>\n",
       "      <th>publication_year</th>\n",
       "      <th>publication_month</th>\n",
       "      <th>journal</th>\n",
       "      <th>volume</th>\n",
       "      <th>issue</th>\n",
       "      <th>pages</th>\n",
       "      <th>doi</th>\n",
       "      <th>pmid</th>\n",
       "      <th>pmcid</th>\n",
       "      <th>dimensions_id</th>\n",
       "      <th>timestamp</th>\n",
       "    </tr>\n",
       "  </thead>\n",
       "  <tbody>\n",
       "    <tr>\n",
       "      <th>0</th>\n",
       "      <td>0</td>\n",
       "      <td>‘A ticking time bomb’: Scientists worry about ...</td>\n",
       "      <td>CAPE TOWN, SOUTH AFRICA—Late on Sunday evening...</td>\n",
       "      <td>2020.0</td>\n",
       "      <td>NaN</td>\n",
       "      <td>Science</td>\n",
       "      <td>NaN</td>\n",
       "      <td>NaN</td>\n",
       "      <td>NaN</td>\n",
       "      <td>0.1126/science.abb7331</td>\n",
       "      <td>NaN</td>\n",
       "      <td>NaN</td>\n",
       "      <td>NaN</td>\n",
       "      <td>2020-04-18 09:20:24.986698</td>\n",
       "    </tr>\n",
       "    <tr>\n",
       "      <th>1</th>\n",
       "      <td>1</td>\n",
       "      <td>[Ten hot issues of breast cancer under the nov...</td>\n",
       "      <td>NaN</td>\n",
       "      <td>2020.0</td>\n",
       "      <td>2.0</td>\n",
       "      <td>Chinese medical journal</td>\n",
       "      <td>100</td>\n",
       "      <td>0</td>\n",
       "      <td>e002</td>\n",
       "      <td>10.0376/cma.j.issn.0376-2491.2020.0002</td>\n",
       "      <td>32036640.0</td>\n",
       "      <td>NaN</td>\n",
       "      <td>pub.1124777091</td>\n",
       "      <td>2020-04-18 09:20:24.986698</td>\n",
       "    </tr>\n",
       "    <tr>\n",
       "      <th>2</th>\n",
       "      <td>2</td>\n",
       "      <td>Another Piece of the Puzzle: Human Metapneumov...</td>\n",
       "      <td>BACKGROUND: Each winter respiratory viruses ac...</td>\n",
       "      <td>2008.0</td>\n",
       "      <td>12.0</td>\n",
       "      <td>Archives of Internal Medicine</td>\n",
       "      <td>NaN</td>\n",
       "      <td>NaN</td>\n",
       "      <td>NaN</td>\n",
       "      <td>10.1001/archinte.168.22.2489</td>\n",
       "      <td>19064834.0</td>\n",
       "      <td>pmc2783624</td>\n",
       "      <td>NaN</td>\n",
       "      <td>2020-04-18 09:20:24.986698</td>\n",
       "    </tr>\n",
       "    <tr>\n",
       "      <th>3</th>\n",
       "      <td>3</td>\n",
       "      <td>Viral etiology of severe pneumonia among Kenya...</td>\n",
       "      <td>CONTEXT: Pneumonia is the leading cause of chi...</td>\n",
       "      <td>2010.0</td>\n",
       "      <td>5.0</td>\n",
       "      <td>JAMA</td>\n",
       "      <td>NaN</td>\n",
       "      <td>NaN</td>\n",
       "      <td>NaN</td>\n",
       "      <td>10.1001/jama.2010.675</td>\n",
       "      <td>20501927.0</td>\n",
       "      <td>pmc2968755</td>\n",
       "      <td>NaN</td>\n",
       "      <td>2020-04-18 09:20:24.986698</td>\n",
       "    </tr>\n",
       "    <tr>\n",
       "      <th>4</th>\n",
       "      <td>4</td>\n",
       "      <td>Critically Ill Patients With Influenza A(H1N1)...</td>\n",
       "      <td>NaN</td>\n",
       "      <td>2014.0</td>\n",
       "      <td>4.0</td>\n",
       "      <td>JAMA</td>\n",
       "      <td>NaN</td>\n",
       "      <td>NaN</td>\n",
       "      <td>NaN</td>\n",
       "      <td>10.1001/jama.2014.2116</td>\n",
       "      <td>24566924.0</td>\n",
       "      <td>pmc6689404</td>\n",
       "      <td>NaN</td>\n",
       "      <td>2020-04-18 09:20:24.986698</td>\n",
       "    </tr>\n",
       "  </tbody>\n",
       "</table>\n",
       "</div>"
      ],
      "text/plain": [
       "   pub_id                                              title  \\\n",
       "0       0  ‘A ticking time bomb’: Scientists worry about ...   \n",
       "1       1  [Ten hot issues of breast cancer under the nov...   \n",
       "2       2  Another Piece of the Puzzle: Human Metapneumov...   \n",
       "3       3  Viral etiology of severe pneumonia among Kenya...   \n",
       "4       4  Critically Ill Patients With Influenza A(H1N1)...   \n",
       "\n",
       "                                            abstract  publication_year  \\\n",
       "0  CAPE TOWN, SOUTH AFRICA—Late on Sunday evening...            2020.0   \n",
       "1                                                NaN            2020.0   \n",
       "2  BACKGROUND: Each winter respiratory viruses ac...            2008.0   \n",
       "3  CONTEXT: Pneumonia is the leading cause of chi...            2010.0   \n",
       "4                                                NaN            2014.0   \n",
       "\n",
       "   publication_month                        journal volume issue pages  \\\n",
       "0                NaN                        Science    NaN   NaN   NaN   \n",
       "1                2.0        Chinese medical journal    100     0  e002   \n",
       "2               12.0  Archives of Internal Medicine    NaN   NaN   NaN   \n",
       "3                5.0                           JAMA    NaN   NaN   NaN   \n",
       "4                4.0                           JAMA    NaN   NaN   NaN   \n",
       "\n",
       "                                      doi        pmid       pmcid  \\\n",
       "0                  0.1126/science.abb7331         NaN         NaN   \n",
       "1  10.0376/cma.j.issn.0376-2491.2020.0002  32036640.0         NaN   \n",
       "2            10.1001/archinte.168.22.2489  19064834.0  pmc2783624   \n",
       "3                   10.1001/jama.2010.675  20501927.0  pmc2968755   \n",
       "4                  10.1001/jama.2014.2116  24566924.0  pmc6689404   \n",
       "\n",
       "    dimensions_id                   timestamp  \n",
       "0             NaN  2020-04-18 09:20:24.986698  \n",
       "1  pub.1124777091  2020-04-18 09:20:24.986698  \n",
       "2             NaN  2020-04-18 09:20:24.986698  \n",
       "3             NaN  2020-04-18 09:20:24.986698  \n",
       "4             NaN  2020-04-18 09:20:24.986698  "
      ]
     },
     "execution_count": 4,
     "metadata": {},
     "output_type": "execute_result"
    }
   ],
   "source": [
    "df_meta.head()"
   ]
  },
  {
   "cell_type": "code",
   "execution_count": 5,
   "metadata": {},
   "outputs": [
    {
     "data": {
      "text/plain": [
       "Index(['pub_id', 'title', 'abstract', 'publication_year', 'publication_month',\n",
       "       'journal', 'volume', 'issue', 'pages', 'doi', 'pmid', 'pmcid',\n",
       "       'dimensions_id', 'timestamp'],\n",
       "      dtype='object')"
      ]
     },
     "execution_count": 5,
     "metadata": {},
     "output_type": "execute_result"
    }
   ],
   "source": [
    "df_meta.columns"
   ]
  },
  {
   "cell_type": "code",
   "execution_count": 6,
   "metadata": {},
   "outputs": [
    {
     "data": {
      "text/plain": [
       "(61482, 14)"
      ]
     },
     "execution_count": 6,
     "metadata": {},
     "output_type": "execute_result"
    }
   ],
   "source": [
    "df_meta.shape"
   ]
  },
  {
   "cell_type": "markdown",
   "metadata": {},
   "source": [
    "#### Publication years"
   ]
  },
  {
   "cell_type": "code",
   "execution_count": 7,
   "metadata": {},
   "outputs": [],
   "source": [
    "import re\n",
    "\n",
    "def clean_year(s):\n",
    "    if pd.isna(s):\n",
    "        return np.nan\n",
    "    if not (s>1900):\n",
    "        return np.nan\n",
    "    elif s>2020:\n",
    "        return 2020\n",
    "    return s\n",
    "\n",
    "df_meta[\"publication_year\"] = df_meta[\"publication_year\"].apply(clean_year)"
   ]
  },
  {
   "cell_type": "code",
   "execution_count": 8,
   "metadata": {},
   "outputs": [
    {
     "data": {
      "text/plain": [
       "count    61467.000000\n",
       "mean      2012.434851\n",
       "std          8.671299\n",
       "min       1951.000000\n",
       "25%       2009.000000\n",
       "50%       2015.000000\n",
       "75%       2020.000000\n",
       "max       2020.000000\n",
       "Name: publication_year, dtype: float64"
      ]
     },
     "execution_count": 8,
     "metadata": {},
     "output_type": "execute_result"
    }
   ],
   "source": [
    "df_meta.publication_year.describe()"
   ]
  },
  {
   "cell_type": "markdown",
   "metadata": {},
   "source": [
    "## Dimensions"
   ]
  },
  {
   "cell_type": "code",
   "execution_count": 9,
   "metadata": {},
   "outputs": [],
   "source": [
    "# load Dimensions data (you will need to download it on your own)\n",
    "\n",
    "directory_name = \"../cwts_covid/datasets_output/json_dimensions_cwts\"\n",
    "\n",
    "all_dimensions = list()\n",
    "for root, dirs, files in os.walk(directory_name):\n",
    "    for file in files:\n",
    "        if \".json\" in file:\n",
    "            all_data = codecs.open(os.path.join(root,file)).read()\n",
    "            for record in all_data.split(\"\\n\"):\n",
    "                if record:\n",
    "                    all_dimensions.append(json.loads(record))"
   ]
  },
  {
   "cell_type": "code",
   "execution_count": 10,
   "metadata": {
    "scrolled": false
   },
   "outputs": [],
   "source": [
    "#all_dimensions[0]"
   ]
  },
  {
   "cell_type": "code",
   "execution_count": 11,
   "metadata": {},
   "outputs": [],
   "source": [
    "df_dimensions = pd.DataFrame.from_dict({\n",
    "    \"id\":[r[\"id\"] for r in all_dimensions],\n",
    "    \"year\":[r[\"year\"] for r in all_dimensions],\n",
    "    \"month\":[int(r[\"publication_date\"][5:7]) for r in all_dimensions],\n",
    "    \"publication_date\":[r[\"publication_date\"] for r in all_dimensions],\n",
    "    \"publication_type\":[r[\"publication_type\"] for r in all_dimensions],\n",
    "    \"doi\":[r[\"doi\"] for r in all_dimensions],\n",
    "    \"pmid\":[r[\"pmid\"] for r in all_dimensions],\n",
    "    \"issn\":[r[\"journal\"][\"issn\"] for r in all_dimensions],\n",
    "    \"times_cited\":[r[\"times_cited\"] for r in all_dimensions],\n",
    "    \"relative_citation_ratio\":[r[\"relative_citation_ratio\"] for r in all_dimensions],\n",
    "    \"for_top\":[r[\"for\"][0][\"first_level\"][\"name\"] if len(r[\"for\"])>0 else \"\" for r in all_dimensions],\n",
    "    \"for_bottom\":[r[\"for\"][0][\"second_level\"][\"name\"] if len(r[\"for\"])>0 else \"\" for r in all_dimensions]\n",
    "})"
   ]
  },
  {
   "cell_type": "code",
   "execution_count": 12,
   "metadata": {},
   "outputs": [
    {
     "data": {
      "text/html": [
       "<div>\n",
       "<style scoped>\n",
       "    .dataframe tbody tr th:only-of-type {\n",
       "        vertical-align: middle;\n",
       "    }\n",
       "\n",
       "    .dataframe tbody tr th {\n",
       "        vertical-align: top;\n",
       "    }\n",
       "\n",
       "    .dataframe thead th {\n",
       "        text-align: right;\n",
       "    }\n",
       "</style>\n",
       "<table border=\"1\" class=\"dataframe\">\n",
       "  <thead>\n",
       "    <tr style=\"text-align: right;\">\n",
       "      <th></th>\n",
       "      <th>id</th>\n",
       "      <th>year</th>\n",
       "      <th>month</th>\n",
       "      <th>publication_date</th>\n",
       "      <th>publication_type</th>\n",
       "      <th>doi</th>\n",
       "      <th>pmid</th>\n",
       "      <th>issn</th>\n",
       "      <th>times_cited</th>\n",
       "      <th>relative_citation_ratio</th>\n",
       "      <th>for_top</th>\n",
       "      <th>for_bottom</th>\n",
       "    </tr>\n",
       "  </thead>\n",
       "  <tbody>\n",
       "    <tr>\n",
       "      <th>0</th>\n",
       "      <td>pub.1117509804</td>\n",
       "      <td>2019</td>\n",
       "      <td>6</td>\n",
       "      <td>2019-06-26</td>\n",
       "      <td>article</td>\n",
       "      <td>10.1128/jvi.00490-19</td>\n",
       "      <td>31243130</td>\n",
       "      <td>0022-538X</td>\n",
       "      <td>0</td>\n",
       "      <td>NaN</td>\n",
       "      <td>Medical and Health Sciences</td>\n",
       "      <td>Medical Microbiology</td>\n",
       "    </tr>\n",
       "    <tr>\n",
       "      <th>1</th>\n",
       "      <td>pub.1117412644</td>\n",
       "      <td>2019</td>\n",
       "      <td>6</td>\n",
       "      <td>2019-06-26</td>\n",
       "      <td>article</td>\n",
       "      <td>10.1128/jvi.00714-19</td>\n",
       "      <td>31243124</td>\n",
       "      <td>0022-538X</td>\n",
       "      <td>0</td>\n",
       "      <td>NaN</td>\n",
       "      <td>Biological Sciences</td>\n",
       "      <td>Genetics</td>\n",
       "    </tr>\n",
       "    <tr>\n",
       "      <th>2</th>\n",
       "      <td>pub.1117412640</td>\n",
       "      <td>2019</td>\n",
       "      <td>6</td>\n",
       "      <td>2019-06-26</td>\n",
       "      <td>article</td>\n",
       "      <td>10.1128/jvi.00240-19</td>\n",
       "      <td>31243125</td>\n",
       "      <td>0022-538X</td>\n",
       "      <td>3</td>\n",
       "      <td>NaN</td>\n",
       "      <td>Medical and Health Sciences</td>\n",
       "      <td>Neurosciences</td>\n",
       "    </tr>\n",
       "    <tr>\n",
       "      <th>3</th>\n",
       "      <td>pub.1117509802</td>\n",
       "      <td>2019</td>\n",
       "      <td>6</td>\n",
       "      <td>2019-06-26</td>\n",
       "      <td>article</td>\n",
       "      <td>10.1128/jvi.00564-19</td>\n",
       "      <td>31243128</td>\n",
       "      <td>0022-538X</td>\n",
       "      <td>5</td>\n",
       "      <td>NaN</td>\n",
       "      <td>Biological Sciences</td>\n",
       "      <td>Genetics</td>\n",
       "    </tr>\n",
       "    <tr>\n",
       "      <th>4</th>\n",
       "      <td>pub.1117293115</td>\n",
       "      <td>2019</td>\n",
       "      <td>6</td>\n",
       "      <td>2019-06-19</td>\n",
       "      <td>article</td>\n",
       "      <td>10.1128/jvi.00505-19</td>\n",
       "      <td>31217243</td>\n",
       "      <td>0022-538X</td>\n",
       "      <td>1</td>\n",
       "      <td>NaN</td>\n",
       "      <td>Medical and Health Sciences</td>\n",
       "      <td>Medical Microbiology</td>\n",
       "    </tr>\n",
       "  </tbody>\n",
       "</table>\n",
       "</div>"
      ],
      "text/plain": [
       "               id  year  month publication_date publication_type  \\\n",
       "0  pub.1117509804  2019      6       2019-06-26          article   \n",
       "1  pub.1117412644  2019      6       2019-06-26          article   \n",
       "2  pub.1117412640  2019      6       2019-06-26          article   \n",
       "3  pub.1117509802  2019      6       2019-06-26          article   \n",
       "4  pub.1117293115  2019      6       2019-06-19          article   \n",
       "\n",
       "                    doi      pmid       issn  times_cited  \\\n",
       "0  10.1128/jvi.00490-19  31243130  0022-538X            0   \n",
       "1  10.1128/jvi.00714-19  31243124  0022-538X            0   \n",
       "2  10.1128/jvi.00240-19  31243125  0022-538X            3   \n",
       "3  10.1128/jvi.00564-19  31243128  0022-538X            5   \n",
       "4  10.1128/jvi.00505-19  31217243  0022-538X            1   \n",
       "\n",
       "   relative_citation_ratio                      for_top            for_bottom  \n",
       "0                      NaN  Medical and Health Sciences  Medical Microbiology  \n",
       "1                      NaN          Biological Sciences              Genetics  \n",
       "2                      NaN  Medical and Health Sciences         Neurosciences  \n",
       "3                      NaN          Biological Sciences              Genetics  \n",
       "4                      NaN  Medical and Health Sciences  Medical Microbiology  "
      ]
     },
     "execution_count": 12,
     "metadata": {},
     "output_type": "execute_result"
    }
   ],
   "source": [
    "df_dimensions.head()"
   ]
  },
  {
   "cell_type": "code",
   "execution_count": 13,
   "metadata": {},
   "outputs": [
    {
     "data": {
      "text/plain": [
       "id                          object\n",
       "year                         int64\n",
       "month                        int64\n",
       "publication_date            object\n",
       "publication_type            object\n",
       "doi                         object\n",
       "pmid                        object\n",
       "issn                        object\n",
       "times_cited                  int64\n",
       "relative_citation_ratio    float64\n",
       "for_top                     object\n",
       "for_bottom                  object\n",
       "dtype: object"
      ]
     },
     "execution_count": 13,
     "metadata": {},
     "output_type": "execute_result"
    }
   ],
   "source": [
    "df_dimensions.dtypes"
   ]
  },
  {
   "cell_type": "code",
   "execution_count": 14,
   "metadata": {},
   "outputs": [],
   "source": [
    "# We only focus on publications with DOI or PMID since Altmetrics data is limited to those"
   ]
  },
  {
   "cell_type": "code",
   "execution_count": 15,
   "metadata": {},
   "outputs": [],
   "source": [
    "df_dimensions.pmid = df_dimensions.pmid.astype(float)"
   ]
  },
  {
   "cell_type": "code",
   "execution_count": 16,
   "metadata": {},
   "outputs": [
    {
     "data": {
      "text/plain": [
       "(59457, 12)"
      ]
     },
     "execution_count": 16,
     "metadata": {},
     "output_type": "execute_result"
    }
   ],
   "source": [
    "df_dimensions.shape"
   ]
  },
  {
   "cell_type": "code",
   "execution_count": 17,
   "metadata": {},
   "outputs": [],
   "source": [
    "df_joined_doi = df_meta[pd.notnull(df_meta.doi)].merge(df_dimensions[pd.notnull(df_dimensions.doi)], how=\"inner\", suffixes=('','_y'), left_on=\"doi\", right_on=\"doi\", copy=False)"
   ]
  },
  {
   "cell_type": "code",
   "execution_count": 18,
   "metadata": {},
   "outputs": [
    {
     "data": {
      "text/plain": [
       "(56144, 25)"
      ]
     },
     "execution_count": 18,
     "metadata": {},
     "output_type": "execute_result"
    }
   ],
   "source": [
    "df_joined_doi.shape"
   ]
  },
  {
   "cell_type": "code",
   "execution_count": 19,
   "metadata": {},
   "outputs": [],
   "source": [
    "df_joined_pmid = df_meta[pd.isnull(df_meta.doi) & pd.notnull(df_meta.pmid)].merge(df_dimensions[pd.isnull(df_dimensions.doi) & pd.notnull(df_dimensions.pmid)], how=\"inner\", suffixes=('','_y'), left_on=\"pmid\", right_on=\"pmid\", copy=False)"
   ]
  },
  {
   "cell_type": "code",
   "execution_count": 20,
   "metadata": {},
   "outputs": [
    {
     "data": {
      "text/plain": [
       "(1052, 25)"
      ]
     },
     "execution_count": 20,
     "metadata": {},
     "output_type": "execute_result"
    }
   ],
   "source": [
    "df_joined_pmid.shape"
   ]
  },
  {
   "cell_type": "code",
   "execution_count": 21,
   "metadata": {},
   "outputs": [],
   "source": [
    "df_joined = pd.concat([df_joined_doi,df_joined_pmid])\n",
    "df_joined = df_joined[df_joined.columns.drop([\"doi_y\",\"pmid_y\"])]"
   ]
  },
  {
   "cell_type": "code",
   "execution_count": 22,
   "metadata": {},
   "outputs": [
    {
     "data": {
      "text/html": [
       "<div>\n",
       "<style scoped>\n",
       "    .dataframe tbody tr th:only-of-type {\n",
       "        vertical-align: middle;\n",
       "    }\n",
       "\n",
       "    .dataframe tbody tr th {\n",
       "        vertical-align: top;\n",
       "    }\n",
       "\n",
       "    .dataframe thead th {\n",
       "        text-align: right;\n",
       "    }\n",
       "</style>\n",
       "<table border=\"1\" class=\"dataframe\">\n",
       "  <thead>\n",
       "    <tr style=\"text-align: right;\">\n",
       "      <th></th>\n",
       "      <th>pub_id</th>\n",
       "      <th>title</th>\n",
       "      <th>abstract</th>\n",
       "      <th>publication_year</th>\n",
       "      <th>publication_month</th>\n",
       "      <th>journal</th>\n",
       "      <th>volume</th>\n",
       "      <th>issue</th>\n",
       "      <th>pages</th>\n",
       "      <th>doi</th>\n",
       "      <th>...</th>\n",
       "      <th>id</th>\n",
       "      <th>year</th>\n",
       "      <th>month</th>\n",
       "      <th>publication_date</th>\n",
       "      <th>publication_type</th>\n",
       "      <th>issn</th>\n",
       "      <th>times_cited</th>\n",
       "      <th>relative_citation_ratio</th>\n",
       "      <th>for_top</th>\n",
       "      <th>for_bottom</th>\n",
       "    </tr>\n",
       "  </thead>\n",
       "  <tbody>\n",
       "    <tr>\n",
       "      <th>0</th>\n",
       "      <td>1</td>\n",
       "      <td>[Ten hot issues of breast cancer under the nov...</td>\n",
       "      <td>NaN</td>\n",
       "      <td>2020.0</td>\n",
       "      <td>2.0</td>\n",
       "      <td>Chinese medical journal</td>\n",
       "      <td>100</td>\n",
       "      <td>0</td>\n",
       "      <td>e002</td>\n",
       "      <td>10.0376/cma.j.issn.0376-2491.2020.0002</td>\n",
       "      <td>...</td>\n",
       "      <td>pub.1124777091</td>\n",
       "      <td>2020</td>\n",
       "      <td>2</td>\n",
       "      <td>2020-02-10</td>\n",
       "      <td>article</td>\n",
       "      <td>0376-2491</td>\n",
       "      <td>0</td>\n",
       "      <td>NaN</td>\n",
       "      <td></td>\n",
       "      <td></td>\n",
       "    </tr>\n",
       "    <tr>\n",
       "      <th>1</th>\n",
       "      <td>2</td>\n",
       "      <td>Another Piece of the Puzzle: Human Metapneumov...</td>\n",
       "      <td>BACKGROUND: Each winter respiratory viruses ac...</td>\n",
       "      <td>2008.0</td>\n",
       "      <td>12.0</td>\n",
       "      <td>Archives of Internal Medicine</td>\n",
       "      <td>NaN</td>\n",
       "      <td>NaN</td>\n",
       "      <td>NaN</td>\n",
       "      <td>10.1001/archinte.168.22.2489</td>\n",
       "      <td>...</td>\n",
       "      <td>pub.1033454789</td>\n",
       "      <td>2008</td>\n",
       "      <td>12</td>\n",
       "      <td>2008-12-08</td>\n",
       "      <td>article</td>\n",
       "      <td>2168-6106</td>\n",
       "      <td>120</td>\n",
       "      <td>3.11</td>\n",
       "      <td>Medical and Health Sciences</td>\n",
       "      <td>Medical Microbiology</td>\n",
       "    </tr>\n",
       "    <tr>\n",
       "      <th>2</th>\n",
       "      <td>3</td>\n",
       "      <td>Viral etiology of severe pneumonia among Kenya...</td>\n",
       "      <td>CONTEXT: Pneumonia is the leading cause of chi...</td>\n",
       "      <td>2010.0</td>\n",
       "      <td>5.0</td>\n",
       "      <td>JAMA</td>\n",
       "      <td>NaN</td>\n",
       "      <td>NaN</td>\n",
       "      <td>NaN</td>\n",
       "      <td>10.1001/jama.2010.675</td>\n",
       "      <td>...</td>\n",
       "      <td>pub.1000272326</td>\n",
       "      <td>2010</td>\n",
       "      <td>5</td>\n",
       "      <td>2010-05-26</td>\n",
       "      <td>article</td>\n",
       "      <td>0098-7484</td>\n",
       "      <td>208</td>\n",
       "      <td>8.35</td>\n",
       "      <td>Medical and Health Sciences</td>\n",
       "      <td>Medical Microbiology</td>\n",
       "    </tr>\n",
       "    <tr>\n",
       "      <th>3</th>\n",
       "      <td>4</td>\n",
       "      <td>Critically Ill Patients With Influenza A(H1N1)...</td>\n",
       "      <td>NaN</td>\n",
       "      <td>2014.0</td>\n",
       "      <td>4.0</td>\n",
       "      <td>JAMA</td>\n",
       "      <td>NaN</td>\n",
       "      <td>NaN</td>\n",
       "      <td>NaN</td>\n",
       "      <td>10.1001/jama.2014.2116</td>\n",
       "      <td>...</td>\n",
       "      <td>pub.1008273195</td>\n",
       "      <td>2014</td>\n",
       "      <td>4</td>\n",
       "      <td>2014-04-02</td>\n",
       "      <td>article</td>\n",
       "      <td>0098-7484</td>\n",
       "      <td>17</td>\n",
       "      <td>0.76</td>\n",
       "      <td></td>\n",
       "      <td></td>\n",
       "    </tr>\n",
       "    <tr>\n",
       "      <th>4</th>\n",
       "      <td>5</td>\n",
       "      <td>Prevalence of Depression, Depressive Symptoms,...</td>\n",
       "      <td>IMPORTANCE: Medical students are at high risk ...</td>\n",
       "      <td>2016.0</td>\n",
       "      <td>12.0</td>\n",
       "      <td>JAMA</td>\n",
       "      <td>NaN</td>\n",
       "      <td>NaN</td>\n",
       "      <td>NaN</td>\n",
       "      <td>10.1001/jama.2016.17324</td>\n",
       "      <td>...</td>\n",
       "      <td>pub.1002516735</td>\n",
       "      <td>2016</td>\n",
       "      <td>12</td>\n",
       "      <td>2016-12-06</td>\n",
       "      <td>article</td>\n",
       "      <td>0098-7484</td>\n",
       "      <td>339</td>\n",
       "      <td>37.44</td>\n",
       "      <td>Medical and Health Sciences</td>\n",
       "      <td>Public Health and Health Services</td>\n",
       "    </tr>\n",
       "  </tbody>\n",
       "</table>\n",
       "<p>5 rows × 24 columns</p>\n",
       "</div>"
      ],
      "text/plain": [
       "   pub_id                                              title  \\\n",
       "0       1  [Ten hot issues of breast cancer under the nov...   \n",
       "1       2  Another Piece of the Puzzle: Human Metapneumov...   \n",
       "2       3  Viral etiology of severe pneumonia among Kenya...   \n",
       "3       4  Critically Ill Patients With Influenza A(H1N1)...   \n",
       "4       5  Prevalence of Depression, Depressive Symptoms,...   \n",
       "\n",
       "                                            abstract  publication_year  \\\n",
       "0                                                NaN            2020.0   \n",
       "1  BACKGROUND: Each winter respiratory viruses ac...            2008.0   \n",
       "2  CONTEXT: Pneumonia is the leading cause of chi...            2010.0   \n",
       "3                                                NaN            2014.0   \n",
       "4  IMPORTANCE: Medical students are at high risk ...            2016.0   \n",
       "\n",
       "   publication_month                        journal volume issue pages  \\\n",
       "0                2.0        Chinese medical journal    100     0  e002   \n",
       "1               12.0  Archives of Internal Medicine    NaN   NaN   NaN   \n",
       "2                5.0                           JAMA    NaN   NaN   NaN   \n",
       "3                4.0                           JAMA    NaN   NaN   NaN   \n",
       "4               12.0                           JAMA    NaN   NaN   NaN   \n",
       "\n",
       "                                      doi  ...              id  year month  \\\n",
       "0  10.0376/cma.j.issn.0376-2491.2020.0002  ...  pub.1124777091  2020     2   \n",
       "1            10.1001/archinte.168.22.2489  ...  pub.1033454789  2008    12   \n",
       "2                   10.1001/jama.2010.675  ...  pub.1000272326  2010     5   \n",
       "3                  10.1001/jama.2014.2116  ...  pub.1008273195  2014     4   \n",
       "4                 10.1001/jama.2016.17324  ...  pub.1002516735  2016    12   \n",
       "\n",
       "  publication_date publication_type       issn  times_cited  \\\n",
       "0       2020-02-10          article  0376-2491            0   \n",
       "1       2008-12-08          article  2168-6106          120   \n",
       "2       2010-05-26          article  0098-7484          208   \n",
       "3       2014-04-02          article  0098-7484           17   \n",
       "4       2016-12-06          article  0098-7484          339   \n",
       "\n",
       "  relative_citation_ratio                      for_top  \\\n",
       "0                     NaN                                \n",
       "1                    3.11  Medical and Health Sciences   \n",
       "2                    8.35  Medical and Health Sciences   \n",
       "3                    0.76                                \n",
       "4                   37.44  Medical and Health Sciences   \n",
       "\n",
       "                          for_bottom  \n",
       "0                                     \n",
       "1               Medical Microbiology  \n",
       "2               Medical Microbiology  \n",
       "3                                     \n",
       "4  Public Health and Health Services  \n",
       "\n",
       "[5 rows x 24 columns]"
      ]
     },
     "execution_count": 22,
     "metadata": {},
     "output_type": "execute_result"
    }
   ],
   "source": [
    "df_joined.head()"
   ]
  },
  {
   "cell_type": "code",
   "execution_count": 23,
   "metadata": {},
   "outputs": [],
   "source": [
    "# Most publications are in Dimensions via DOI or PMID: we focus on these"
   ]
  },
  {
   "cell_type": "code",
   "execution_count": 24,
   "metadata": {},
   "outputs": [
    {
     "data": {
      "text/plain": [
       "(57196, 24)"
      ]
     },
     "execution_count": 24,
     "metadata": {},
     "output_type": "execute_result"
    }
   ],
   "source": [
    "df_joined.shape"
   ]
  },
  {
   "cell_type": "code",
   "execution_count": 25,
   "metadata": {},
   "outputs": [],
   "source": [
    "df_joined.drop_duplicates(\"pub_id\",inplace=True)"
   ]
  },
  {
   "cell_type": "code",
   "execution_count": 26,
   "metadata": {},
   "outputs": [
    {
     "data": {
      "text/plain": [
       "(55875, 24)"
      ]
     },
     "execution_count": 26,
     "metadata": {},
     "output_type": "execute_result"
    }
   ],
   "source": [
    "df_joined.shape"
   ]
  },
  {
   "cell_type": "code",
   "execution_count": 27,
   "metadata": {},
   "outputs": [
    {
     "data": {
      "text/html": [
       "<div>\n",
       "<style scoped>\n",
       "    .dataframe tbody tr th:only-of-type {\n",
       "        vertical-align: middle;\n",
       "    }\n",
       "\n",
       "    .dataframe tbody tr th {\n",
       "        vertical-align: top;\n",
       "    }\n",
       "\n",
       "    .dataframe thead th {\n",
       "        text-align: right;\n",
       "    }\n",
       "</style>\n",
       "<table border=\"1\" class=\"dataframe\">\n",
       "  <thead>\n",
       "    <tr style=\"text-align: right;\">\n",
       "      <th></th>\n",
       "      <th>pub_id</th>\n",
       "      <th>title</th>\n",
       "      <th>abstract</th>\n",
       "      <th>publication_year</th>\n",
       "      <th>publication_month</th>\n",
       "      <th>journal</th>\n",
       "      <th>volume</th>\n",
       "      <th>issue</th>\n",
       "      <th>pages</th>\n",
       "      <th>doi</th>\n",
       "      <th>...</th>\n",
       "      <th>id</th>\n",
       "      <th>year</th>\n",
       "      <th>month</th>\n",
       "      <th>publication_date</th>\n",
       "      <th>publication_type</th>\n",
       "      <th>issn</th>\n",
       "      <th>times_cited</th>\n",
       "      <th>relative_citation_ratio</th>\n",
       "      <th>for_top</th>\n",
       "      <th>for_bottom</th>\n",
       "    </tr>\n",
       "  </thead>\n",
       "  <tbody>\n",
       "    <tr>\n",
       "      <th>29718</th>\n",
       "      <td>29534</td>\n",
       "      <td>Clinical Characteristics of Covid-19 in China.</td>\n",
       "      <td>NaN</td>\n",
       "      <td>2020.0</td>\n",
       "      <td>3.0</td>\n",
       "      <td>New England Journal of Medicine</td>\n",
       "      <td>382</td>\n",
       "      <td>NaN</td>\n",
       "      <td>NaN</td>\n",
       "      <td>10.1056/nejmc2005203</td>\n",
       "      <td>...</td>\n",
       "      <td>pub.1125958251</td>\n",
       "      <td>2020</td>\n",
       "      <td>3</td>\n",
       "      <td>2020-03-27</td>\n",
       "      <td>article</td>\n",
       "      <td>0028-4793</td>\n",
       "      <td>4</td>\n",
       "      <td>NaN</td>\n",
       "      <td></td>\n",
       "      <td></td>\n",
       "    </tr>\n",
       "  </tbody>\n",
       "</table>\n",
       "<p>1 rows × 24 columns</p>\n",
       "</div>"
      ],
      "text/plain": [
       "       pub_id                                           title abstract  \\\n",
       "29718   29534  Clinical Characteristics of Covid-19 in China.      NaN   \n",
       "\n",
       "       publication_year  publication_month                          journal  \\\n",
       "29718            2020.0                3.0  New England Journal of Medicine   \n",
       "\n",
       "      volume issue pages                   doi  ...              id  year  \\\n",
       "29718    382   NaN   NaN  10.1056/nejmc2005203  ...  pub.1125958251  2020   \n",
       "\n",
       "      month publication_date publication_type       issn  times_cited  \\\n",
       "29718     3       2020-03-27          article  0028-4793            4   \n",
       "\n",
       "      relative_citation_ratio for_top for_bottom  \n",
       "29718                     NaN                     \n",
       "\n",
       "[1 rows x 24 columns]"
      ]
     },
     "execution_count": 27,
     "metadata": {},
     "output_type": "execute_result"
    }
   ],
   "source": [
    "df_joined[df_joined.pub_id==29534]"
   ]
  },
  {
   "cell_type": "code",
   "execution_count": 28,
   "metadata": {},
   "outputs": [
    {
     "data": {
      "text/plain": [
       "(61482, 14)"
      ]
     },
     "execution_count": 28,
     "metadata": {},
     "output_type": "execute_result"
    }
   ],
   "source": [
    "df_meta.shape"
   ]
  },
  {
   "cell_type": "code",
   "execution_count": 29,
   "metadata": {},
   "outputs": [
    {
     "data": {
      "image/png": "[encoded data removed]",
      "text/plain": [
       "<Figure size 432x288 with 1 Axes>"
      ]
     },
     "metadata": {},
     "output_type": "display_data"
    }
   ],
   "source": [
    "# publication type\n",
    "\n",
    "df_sub = df_joined[df_joined.publication_type.isin(df_joined.publication_type.value_counts()[:10].index.tolist())]\n",
    "b = sns.countplot(y=\"publication_type\", data=df_sub, order=df_sub['publication_type'].value_counts().index)\n",
    "#b.axes.set_title(\"Title\",fontsize=50)\n",
    "b.set_xlabel(\"Count\",fontsize=15)\n",
    "b.set_ylabel(\"Publication type\",fontsize=15)\n",
    "b.tick_params(labelsize=12)\n",
    "plt.tight_layout()\n",
    "#plt.savefig(\"figures/dim_pub_type.pdf\")"
   ]
  },
  {
   "cell_type": "markdown",
   "metadata": {},
   "source": [
    "#### Citation counts"
   ]
  },
  {
   "cell_type": "code",
   "execution_count": 30,
   "metadata": {},
   "outputs": [
    {
     "data": {
      "image/png": "[encoded data removed]",
      "text/plain": [
       "<Figure size 432x288 with 1 Axes>"
      ]
     },
     "metadata": {},
     "output_type": "display_data"
    }
   ],
   "source": [
    "# scatter of citations vs time of publication\n",
    "\n",
    "sns.scatterplot(df_joined.publication_year.to_list(),df_joined.times_cited.to_list())\n",
    "plt.xlabel(\"Year\", fontsize=15)\n",
    "plt.ylabel(\"Count\", fontsize=15)\n",
    "plt.tight_layout()\n",
    "#plt.savefig(\"figures/dim_citations_year.pdf\")"
   ]
  },
  {
   "cell_type": "code",
   "execution_count": 31,
   "metadata": {},
   "outputs": [
    {
     "data": {
      "text/html": [
       "<div>\n",
       "<style scoped>\n",
       "    .dataframe tbody tr th:only-of-type {\n",
       "        vertical-align: middle;\n",
       "    }\n",
       "\n",
       "    .dataframe tbody tr th {\n",
       "        vertical-align: top;\n",
       "    }\n",
       "\n",
       "    .dataframe thead th {\n",
       "        text-align: right;\n",
       "    }\n",
       "</style>\n",
       "<table border=\"1\" class=\"dataframe\">\n",
       "  <thead>\n",
       "    <tr style=\"text-align: right;\">\n",
       "      <th></th>\n",
       "      <th>title</th>\n",
       "      <th>times_cited</th>\n",
       "      <th>relative_citation_ratio</th>\n",
       "      <th>journal</th>\n",
       "      <th>publication_year</th>\n",
       "      <th>doi</th>\n",
       "    </tr>\n",
       "  </thead>\n",
       "  <tbody>\n",
       "    <tr>\n",
       "      <th>31071</th>\n",
       "      <td>Infectious Diseases Society of America/America...</td>\n",
       "      <td>3878</td>\n",
       "      <td>108.91</td>\n",
       "      <td>Clin Infect Dis</td>\n",
       "      <td>2007.0</td>\n",
       "      <td>10.1086/511159</td>\n",
       "    </tr>\n",
       "    <tr>\n",
       "      <th>23655</th>\n",
       "      <td>Epidemiology and causes of preterm birth</td>\n",
       "      <td>3572</td>\n",
       "      <td>118.32</td>\n",
       "      <td>The Lancet</td>\n",
       "      <td>2008.0</td>\n",
       "      <td>10.1016/s0140-6736(08)60074-4</td>\n",
       "    </tr>\n",
       "    <tr>\n",
       "      <th>27920</th>\n",
       "      <td>Global trends in emerging infectious diseases</td>\n",
       "      <td>2832</td>\n",
       "      <td>70.32</td>\n",
       "      <td>Nature</td>\n",
       "      <td>2008.0</td>\n",
       "      <td>10.1038/nature06536</td>\n",
       "    </tr>\n",
       "    <tr>\n",
       "      <th>30666</th>\n",
       "      <td>Guidelines for the use and interpretation of a...</td>\n",
       "      <td>2684</td>\n",
       "      <td>207.35</td>\n",
       "      <td>Autophagy</td>\n",
       "      <td>2016.0</td>\n",
       "      <td>10.1080/15548627.2015.1100356</td>\n",
       "    </tr>\n",
       "    <tr>\n",
       "      <th>23256</th>\n",
       "      <td>Biology of Natural Killer Cells</td>\n",
       "      <td>2361</td>\n",
       "      <td>47.85</td>\n",
       "      <td>Advances in Immunology</td>\n",
       "      <td>1989.0</td>\n",
       "      <td>10.1016/s0065-2776(08)60664-1</td>\n",
       "    </tr>\n",
       "    <tr>\n",
       "      <th>28204</th>\n",
       "      <td>Knocking down barriers: advances in siRNA deli...</td>\n",
       "      <td>1909</td>\n",
       "      <td>47.46</td>\n",
       "      <td>Nat Rev Drug Discov</td>\n",
       "      <td>2009.0</td>\n",
       "      <td>10.1038/nrd2742</td>\n",
       "    </tr>\n",
       "    <tr>\n",
       "      <th>14768</th>\n",
       "      <td>Antimicrobial activity of flavonoids</td>\n",
       "      <td>1708</td>\n",
       "      <td>35.02</td>\n",
       "      <td>International Journal of Antimicrobial Agents</td>\n",
       "      <td>2005.0</td>\n",
       "      <td>10.1016/j.ijantimicag.2005.09.002</td>\n",
       "    </tr>\n",
       "    <tr>\n",
       "      <th>23442</th>\n",
       "      <td>Coronavirus as a possible cause of severe acut...</td>\n",
       "      <td>1571</td>\n",
       "      <td>34.25</td>\n",
       "      <td>The Lancet</td>\n",
       "      <td>2003.0</td>\n",
       "      <td>10.1016/s0140-6736(03)13077-2</td>\n",
       "    </tr>\n",
       "    <tr>\n",
       "      <th>29742</th>\n",
       "      <td>Isolation of a novel coronavirus from a man wi...</td>\n",
       "      <td>1556</td>\n",
       "      <td>56.64</td>\n",
       "      <td>N Engl J Med</td>\n",
       "      <td>2012.0</td>\n",
       "      <td>10.1056/nejmoa1211721</td>\n",
       "    </tr>\n",
       "    <tr>\n",
       "      <th>10135</th>\n",
       "      <td>2007 Guideline for Isolation Precautions: Prev...</td>\n",
       "      <td>1516</td>\n",
       "      <td>36.68</td>\n",
       "      <td>American Journal of Infection Control</td>\n",
       "      <td>2007.0</td>\n",
       "      <td>10.1016/j.ajic.2007.10.007</td>\n",
       "    </tr>\n",
       "  </tbody>\n",
       "</table>\n",
       "</div>"
      ],
      "text/plain": [
       "                                                   title  times_cited  \\\n",
       "31071  Infectious Diseases Society of America/America...         3878   \n",
       "23655           Epidemiology and causes of preterm birth         3572   \n",
       "27920      Global trends in emerging infectious diseases         2832   \n",
       "30666  Guidelines for the use and interpretation of a...         2684   \n",
       "23256                    Biology of Natural Killer Cells         2361   \n",
       "28204  Knocking down barriers: advances in siRNA deli...         1909   \n",
       "14768               Antimicrobial activity of flavonoids         1708   \n",
       "23442  Coronavirus as a possible cause of severe acut...         1571   \n",
       "29742  Isolation of a novel coronavirus from a man wi...         1556   \n",
       "10135  2007 Guideline for Isolation Precautions: Prev...         1516   \n",
       "\n",
       "       relative_citation_ratio                                        journal  \\\n",
       "31071                   108.91                                Clin Infect Dis   \n",
       "23655                   118.32                                     The Lancet   \n",
       "27920                    70.32                                         Nature   \n",
       "30666                   207.35                                      Autophagy   \n",
       "23256                    47.85                         Advances in Immunology   \n",
       "28204                    47.46                            Nat Rev Drug Discov   \n",
       "14768                    35.02  International Journal of Antimicrobial Agents   \n",
       "23442                    34.25                                     The Lancet   \n",
       "29742                    56.64                                   N Engl J Med   \n",
       "10135                    36.68          American Journal of Infection Control   \n",
       "\n",
       "       publication_year                                doi  \n",
       "31071            2007.0                     10.1086/511159  \n",
       "23655            2008.0      10.1016/s0140-6736(08)60074-4  \n",
       "27920            2008.0                10.1038/nature06536  \n",
       "30666            2016.0      10.1080/15548627.2015.1100356  \n",
       "23256            1989.0      10.1016/s0065-2776(08)60664-1  \n",
       "28204            2009.0                    10.1038/nrd2742  \n",
       "14768            2005.0  10.1016/j.ijantimicag.2005.09.002  \n",
       "23442            2003.0      10.1016/s0140-6736(03)13077-2  \n",
       "29742            2012.0              10.1056/nejmoa1211721  \n",
       "10135            2007.0         10.1016/j.ajic.2007.10.007  "
      ]
     },
     "execution_count": 31,
     "metadata": {},
     "output_type": "execute_result"
    }
   ],
   "source": [
    "# most cited papers\n",
    "\n",
    "df_joined[[\"title\",\"times_cited\",\"relative_citation_ratio\",\"journal\",\"publication_year\",\"doi\"]].sort_values(\"times_cited\",ascending=False).head(10)"
   ]
  },
  {
   "cell_type": "code",
   "execution_count": 32,
   "metadata": {},
   "outputs": [
    {
     "data": {
      "text/html": [
       "<div>\n",
       "<style scoped>\n",
       "    .dataframe tbody tr th:only-of-type {\n",
       "        vertical-align: middle;\n",
       "    }\n",
       "\n",
       "    .dataframe tbody tr th {\n",
       "        vertical-align: top;\n",
       "    }\n",
       "\n",
       "    .dataframe thead th {\n",
       "        text-align: right;\n",
       "    }\n",
       "</style>\n",
       "<table border=\"1\" class=\"dataframe\">\n",
       "  <thead>\n",
       "    <tr style=\"text-align: right;\">\n",
       "      <th></th>\n",
       "      <th>title</th>\n",
       "      <th>times_cited</th>\n",
       "      <th>relative_citation_ratio</th>\n",
       "      <th>journal</th>\n",
       "      <th>publication_year</th>\n",
       "      <th>doi</th>\n",
       "    </tr>\n",
       "  </thead>\n",
       "  <tbody>\n",
       "    <tr>\n",
       "      <th>23883</th>\n",
       "      <td>Clinical features of patients infected with 20...</td>\n",
       "      <td>1307</td>\n",
       "      <td>NaN</td>\n",
       "      <td>The Lancet</td>\n",
       "      <td>2020.0</td>\n",
       "      <td>10.1016/s0140-6736(20)30183-5</td>\n",
       "    </tr>\n",
       "    <tr>\n",
       "      <th>29749</th>\n",
       "      <td>A Novel Coronavirus from Patients with Pneumon...</td>\n",
       "      <td>865</td>\n",
       "      <td>NaN</td>\n",
       "      <td>New England Journal of Medicine</td>\n",
       "      <td>2020.0</td>\n",
       "      <td>10.1056/nejmoa2001017</td>\n",
       "    </tr>\n",
       "    <tr>\n",
       "      <th>29752</th>\n",
       "      <td>Early Transmission Dynamics in Wuhan, China, o...</td>\n",
       "      <td>756</td>\n",
       "      <td>NaN</td>\n",
       "      <td>New England Journal of Medicine</td>\n",
       "      <td>2020.0</td>\n",
       "      <td>10.1056/nejmoa2001316</td>\n",
       "    </tr>\n",
       "    <tr>\n",
       "      <th>15</th>\n",
       "      <td>Clinical Characteristics of 138 Hospitalized P...</td>\n",
       "      <td>719</td>\n",
       "      <td>NaN</td>\n",
       "      <td>JAMA</td>\n",
       "      <td>2020.0</td>\n",
       "      <td>10.1001/jama.2020.1585</td>\n",
       "    </tr>\n",
       "    <tr>\n",
       "      <th>23888</th>\n",
       "      <td>Epidemiological and clinical characteristics o...</td>\n",
       "      <td>719</td>\n",
       "      <td>NaN</td>\n",
       "      <td>The Lancet</td>\n",
       "      <td>2020.0</td>\n",
       "      <td>10.1016/s0140-6736(20)30211-7</td>\n",
       "    </tr>\n",
       "    <tr>\n",
       "      <th>29753</th>\n",
       "      <td>Clinical Characteristics of Coronavirus Diseas...</td>\n",
       "      <td>513</td>\n",
       "      <td>NaN</td>\n",
       "      <td>New England Journal of Medicine</td>\n",
       "      <td>2020.0</td>\n",
       "      <td>10.1056/nejmoa2002032</td>\n",
       "    </tr>\n",
       "    <tr>\n",
       "      <th>28683</th>\n",
       "      <td>A pneumonia outbreak associated with a new cor...</td>\n",
       "      <td>501</td>\n",
       "      <td>NaN</td>\n",
       "      <td>Nature</td>\n",
       "      <td>2020.0</td>\n",
       "      <td>10.1038/s41586-020-2012-7</td>\n",
       "    </tr>\n",
       "    <tr>\n",
       "      <th>23882</th>\n",
       "      <td>A familial cluster of pneumonia associated wit...</td>\n",
       "      <td>493</td>\n",
       "      <td>NaN</td>\n",
       "      <td>The Lancet</td>\n",
       "      <td>2020.0</td>\n",
       "      <td>10.1016/s0140-6736(20)30154-9</td>\n",
       "    </tr>\n",
       "    <tr>\n",
       "      <th>23893</th>\n",
       "      <td>Genomic characterisation and epidemiology of 2...</td>\n",
       "      <td>416</td>\n",
       "      <td>NaN</td>\n",
       "      <td>The Lancet</td>\n",
       "      <td>2020.0</td>\n",
       "      <td>10.1016/s0140-6736(20)30251-8</td>\n",
       "    </tr>\n",
       "    <tr>\n",
       "      <th>29</th>\n",
       "      <td>Characteristics of and Important Lessons From ...</td>\n",
       "      <td>352</td>\n",
       "      <td>NaN</td>\n",
       "      <td>JAMA</td>\n",
       "      <td>2020.0</td>\n",
       "      <td>10.1001/jama.2020.2648</td>\n",
       "    </tr>\n",
       "  </tbody>\n",
       "</table>\n",
       "</div>"
      ],
      "text/plain": [
       "                                                   title  times_cited  \\\n",
       "23883  Clinical features of patients infected with 20...         1307   \n",
       "29749  A Novel Coronavirus from Patients with Pneumon...          865   \n",
       "29752  Early Transmission Dynamics in Wuhan, China, o...          756   \n",
       "15     Clinical Characteristics of 138 Hospitalized P...          719   \n",
       "23888  Epidemiological and clinical characteristics o...          719   \n",
       "29753  Clinical Characteristics of Coronavirus Diseas...          513   \n",
       "28683  A pneumonia outbreak associated with a new cor...          501   \n",
       "23882  A familial cluster of pneumonia associated wit...          493   \n",
       "23893  Genomic characterisation and epidemiology of 2...          416   \n",
       "29     Characteristics of and Important Lessons From ...          352   \n",
       "\n",
       "       relative_citation_ratio                          journal  \\\n",
       "23883                      NaN                       The Lancet   \n",
       "29749                      NaN  New England Journal of Medicine   \n",
       "29752                      NaN  New England Journal of Medicine   \n",
       "15                         NaN                             JAMA   \n",
       "23888                      NaN                       The Lancet   \n",
       "29753                      NaN  New England Journal of Medicine   \n",
       "28683                      NaN                           Nature   \n",
       "23882                      NaN                       The Lancet   \n",
       "23893                      NaN                       The Lancet   \n",
       "29                         NaN                             JAMA   \n",
       "\n",
       "       publication_year                            doi  \n",
       "23883            2020.0  10.1016/s0140-6736(20)30183-5  \n",
       "29749            2020.0          10.1056/nejmoa2001017  \n",
       "29752            2020.0          10.1056/nejmoa2001316  \n",
       "15               2020.0         10.1001/jama.2020.1585  \n",
       "23888            2020.0  10.1016/s0140-6736(20)30211-7  \n",
       "29753            2020.0          10.1056/nejmoa2002032  \n",
       "28683            2020.0      10.1038/s41586-020-2012-7  \n",
       "23882            2020.0  10.1016/s0140-6736(20)30154-9  \n",
       "23893            2020.0  10.1016/s0140-6736(20)30251-8  \n",
       "29               2020.0         10.1001/jama.2020.2648  "
      ]
     },
     "execution_count": 32,
     "metadata": {},
     "output_type": "execute_result"
    }
   ],
   "source": [
    "# same but in 2020; note that duplicates are due to SI or pre-prints with different PMIDs\n",
    "\n",
    "df_joined[df_joined.publication_year>2019][[\"title\",\"times_cited\",\"relative_citation_ratio\",\"journal\",\"publication_year\",\"doi\"]].sort_values(\"times_cited\",ascending=False).head(10)"
   ]
  },
  {
   "cell_type": "code",
   "execution_count": 33,
   "metadata": {},
   "outputs": [
    {
     "data": {
      "text/html": [
       "<div>\n",
       "<style scoped>\n",
       "    .dataframe tbody tr th:only-of-type {\n",
       "        vertical-align: middle;\n",
       "    }\n",
       "\n",
       "    .dataframe tbody tr th {\n",
       "        vertical-align: top;\n",
       "    }\n",
       "\n",
       "    .dataframe thead th {\n",
       "        text-align: right;\n",
       "    }\n",
       "</style>\n",
       "<table border=\"1\" class=\"dataframe\">\n",
       "  <thead>\n",
       "    <tr style=\"text-align: right;\">\n",
       "      <th></th>\n",
       "      <th>times_cited</th>\n",
       "    </tr>\n",
       "    <tr>\n",
       "      <th>journal</th>\n",
       "      <th></th>\n",
       "    </tr>\n",
       "  </thead>\n",
       "  <tbody>\n",
       "    <tr>\n",
       "      <th>Journal of Virology</th>\n",
       "      <td>78100</td>\n",
       "    </tr>\n",
       "    <tr>\n",
       "      <th>The Lancet</th>\n",
       "      <td>39051</td>\n",
       "    </tr>\n",
       "    <tr>\n",
       "      <th>PLoS One</th>\n",
       "      <td>35217</td>\n",
       "    </tr>\n",
       "    <tr>\n",
       "      <th>Proceedings of the National Academy of Sciences</th>\n",
       "      <td>35213</td>\n",
       "    </tr>\n",
       "    <tr>\n",
       "      <th>Virology</th>\n",
       "      <td>33802</td>\n",
       "    </tr>\n",
       "    <tr>\n",
       "      <th>Emerg Infect Dis</th>\n",
       "      <td>31672</td>\n",
       "    </tr>\n",
       "    <tr>\n",
       "      <th>Nature</th>\n",
       "      <td>22831</td>\n",
       "    </tr>\n",
       "    <tr>\n",
       "      <th>PLoS Pathog</th>\n",
       "      <td>19362</td>\n",
       "    </tr>\n",
       "    <tr>\n",
       "      <th>Journal of Clinical Microbiology</th>\n",
       "      <td>15942</td>\n",
       "    </tr>\n",
       "    <tr>\n",
       "      <th>Clin Infect Dis</th>\n",
       "      <td>15508</td>\n",
       "    </tr>\n",
       "  </tbody>\n",
       "</table>\n",
       "</div>"
      ],
      "text/plain": [
       "                                                 times_cited\n",
       "journal                                                     \n",
       "Journal of Virology                                    78100\n",
       "The Lancet                                             39051\n",
       "PLoS One                                               35217\n",
       "Proceedings of the National Academy of Sciences        35213\n",
       "Virology                                               33802\n",
       "Emerg Infect Dis                                       31672\n",
       "Nature                                                 22831\n",
       "PLoS Pathog                                            19362\n",
       "Journal of Clinical Microbiology                       15942\n",
       "Clin Infect Dis                                        15508"
      ]
     },
     "execution_count": 33,
     "metadata": {},
     "output_type": "execute_result"
    }
   ],
   "source": [
    "# most cited journals\n",
    "\n",
    "df_joined[['journal','times_cited']].groupby('journal').sum().sort_values('times_cited',ascending=False).head(10)"
   ]
  },
  {
   "cell_type": "markdown",
   "metadata": {},
   "source": [
    "## Altmetrics"
   ]
  },
  {
   "cell_type": "code",
   "execution_count": 34,
   "metadata": {},
   "outputs": [],
   "source": [
    "directory_name = \"../cwts_covid/datasets_output/json_altmetrics_cwts\"\n",
    "\n",
    "all_altmetrics = list()\n",
    "for root, dirs, files in os.walk(directory_name):\n",
    "    for file in files:\n",
    "        if \".json\" in file:\n",
    "            all_altmetrics.append(json.loads(codecs.open(os.path.join(root,file)).read()))"
   ]
  },
  {
   "cell_type": "code",
   "execution_count": 35,
   "metadata": {
    "scrolled": false
   },
   "outputs": [],
   "source": [
    "#all_altmetrics[1]"
   ]
  },
  {
   "cell_type": "code",
   "execution_count": 36,
   "metadata": {},
   "outputs": [
    {
     "data": {
      "text/plain": [
       "39117"
      ]
     },
     "execution_count": 36,
     "metadata": {},
     "output_type": "execute_result"
    }
   ],
   "source": [
    "len(all_altmetrics)"
   ]
  },
  {
   "cell_type": "code",
   "execution_count": 37,
   "metadata": {},
   "outputs": [],
   "source": [
    "df_altmetrics = pd.DataFrame.from_dict({\n",
    "    \"altmetric_id\":[r[\"altmetric_id\"] if \"altmetric_id\" in r.keys() else None for r in all_altmetrics],\n",
    "    \"counts_mendeley\":[r[\"counts\"][\"readers\"][\"mendeley\"] if \"readers\" in r[\"counts\"].keys() else 0 for r in all_altmetrics],\n",
    "    \"counts_news\":[r[\"counts\"][\"news\"][\"posts_count\"] if \"news\" in r[\"counts\"].keys() else 0 for r in all_altmetrics],\n",
    "    \"counts_blogs\":[r[\"counts\"][\"blogs\"][\"posts_count\"] if \"blogs\" in r[\"counts\"].keys() else 0 for r in all_altmetrics],\n",
    "    \"counts_facebook\":[r[\"counts\"][\"facebook\"][\"posts_count\"] if \"facebook\" in r[\"counts\"].keys() else 0 for r in all_altmetrics],\n",
    "    \"counts_policy\":[r[\"counts\"][\"policy\"][\"posts_count\"] if \"policy\" in r[\"counts\"].keys() else 0 for r in all_altmetrics],\n",
    "    \"counts_wikipedia\":[r[\"counts\"][\"wikipedia\"][\"posts_count\"] if \"wikipedia\" in r[\"counts\"].keys() else 0 for r in all_altmetrics],\n",
    "    \"counts_twitter_count\":[r[\"counts\"][\"twitter\"][\"posts_count\"] if \"twitter\" in r[\"counts\"].keys() else 0 for r in all_altmetrics],\n",
    "    \"counts_twitter_unique\":[r[\"counts\"][\"twitter\"][\"unique_users_count\"] if \"twitter\" in r[\"counts\"].keys() else 0 for r in all_altmetrics],\n",
    "    \"counts_total\":[r[\"counts\"][\"total\"][\"posts_count\"] if \"total\" in r[\"counts\"].keys() else 0 for r in all_altmetrics],\n",
    "    \"doi\":[r[\"citation\"][\"doi\"] if \"doi\" in r[\"citation\"] else None for r in all_altmetrics],\n",
    "    \"pmid\":[r[\"citation\"][\"pmid\"] if \"pmid\" in r[\"citation\"] else None for r in all_altmetrics],\n",
    "    \"year\":[int(r[\"citation\"][\"pubdate\"][:4]) if \"pubdate\" in r[\"citation\"] else None for r in all_altmetrics],\n",
    "    \"title\":[r[\"citation\"][\"title\"] if \"title\" in r[\"citation\"] else None for r in all_altmetrics],\n",
    "    #\"abstract\":[r[\"citation\"][\"abstract\"] if \"abstract\" in r[\"citation\"] else None for r in all_altmetrics],\n",
    "    \"altmetric_score\":[r[\"altmetric_score\"][\"score\"] for r in all_altmetrics],\n",
    "    \"member_of_the_public\":[r[\"demographics\"][\"poster_types\"][\"member_of_the_public\"] if \"demographics\" in r.keys() and isinstance(r[\"demographics\"],dict) and \"poster_types\" in r[\"demographics\"].keys() and \"member_of_the_public\" in r[\"demographics\"][\"poster_types\"].keys() else 0 for r in all_altmetrics],\n",
    "    \"researcher\":[r[\"demographics\"][\"poster_types\"][\"researcher\"] if \"demographics\" in r.keys() and isinstance(r[\"demographics\"],dict) and \"poster_types\" in r[\"demographics\"].keys() and \"researcher\" in r[\"demographics\"][\"poster_types\"].keys() else 0 for r in all_altmetrics],\n",
    "    \"practitioner\":[r[\"demographics\"][\"poster_types\"][\"practitioner\"] if \"demographics\" in r.keys() and isinstance(r[\"demographics\"],dict) and \"poster_types\" in r[\"demographics\"].keys() and \"practitioner\" in r[\"demographics\"][\"poster_types\"].keys() else 0 for r in all_altmetrics],\n",
    "    \"science_communicator\":[r[\"demographics\"][\"poster_types\"][\"science_communicator\"] if \"demographics\" in r.keys() and isinstance(r[\"demographics\"],dict) and \"poster_types\" in r[\"demographics\"].keys() and \"science_communicator\" in r[\"demographics\"][\"poster_types\"].keys() else 0 for r in all_altmetrics]\n",
    "})\n",
    "\n",
    "# note: at the moment, only 50 abstracts are in Altmetrics and not in df_meta (of which 4 of papers in_wikipedia). Not worth it to integrate them, but check again in the future."
   ]
  },
  {
   "cell_type": "code",
   "execution_count": 38,
   "metadata": {},
   "outputs": [
    {
     "data": {
      "text/plain": [
       "(39117, 19)"
      ]
     },
     "execution_count": 38,
     "metadata": {},
     "output_type": "execute_result"
    }
   ],
   "source": [
    "df_altmetrics.shape"
   ]
  },
  {
   "cell_type": "code",
   "execution_count": 39,
   "metadata": {},
   "outputs": [],
   "source": [
    "df_altmetrics['counts_mendeley'] = df_altmetrics['counts_mendeley'].astype(float)"
   ]
  },
  {
   "cell_type": "code",
   "execution_count": 40,
   "metadata": {},
   "outputs": [],
   "source": [
    "# aggregate possible duplicates by summing their values up\n",
    "\n",
    "df_altmetrics_aggr = df_altmetrics[['altmetric_id', 'counts_mendeley', 'counts_news', 'counts_blogs',\n",
    "       'counts_facebook', 'counts_policy', 'counts_wikipedia',\n",
    "       'counts_twitter_count', 'counts_twitter_unique', 'counts_total', 'altmetric_score', 'member_of_the_public',\n",
    "       'researcher', 'practitioner', 'science_communicator']].groupby(\"altmetric_id\").agg('sum')"
   ]
  },
  {
   "cell_type": "code",
   "execution_count": 41,
   "metadata": {},
   "outputs": [],
   "source": [
    "df_altmetrics = df_altmetrics[['altmetric_id', 'doi',\n",
    "       'pmid', 'year', 'title']].merge(df_altmetrics_aggr, how=\"inner\", left_on=\"altmetric_id\", right_on=\"altmetric_id\")"
   ]
  },
  {
   "cell_type": "code",
   "execution_count": 42,
   "metadata": {},
   "outputs": [],
   "source": [
    "df_altmetrics.drop_duplicates('altmetric_id',inplace=True)"
   ]
  },
  {
   "cell_type": "code",
   "execution_count": 43,
   "metadata": {},
   "outputs": [
    {
     "data": {
      "text/plain": [
       "(36584, 19)"
      ]
     },
     "execution_count": 43,
     "metadata": {},
     "output_type": "execute_result"
    }
   ],
   "source": [
    "df_altmetrics.shape"
   ]
  },
  {
   "cell_type": "code",
   "execution_count": 44,
   "metadata": {},
   "outputs": [
    {
     "data": {
      "text/html": [
       "<div>\n",
       "<style scoped>\n",
       "    .dataframe tbody tr th:only-of-type {\n",
       "        vertical-align: middle;\n",
       "    }\n",
       "\n",
       "    .dataframe tbody tr th {\n",
       "        vertical-align: top;\n",
       "    }\n",
       "\n",
       "    .dataframe thead th {\n",
       "        text-align: right;\n",
       "    }\n",
       "</style>\n",
       "<table border=\"1\" class=\"dataframe\">\n",
       "  <thead>\n",
       "    <tr style=\"text-align: right;\">\n",
       "      <th></th>\n",
       "      <th>altmetric_id</th>\n",
       "      <th>doi</th>\n",
       "      <th>pmid</th>\n",
       "      <th>year</th>\n",
       "      <th>title</th>\n",
       "      <th>counts_mendeley</th>\n",
       "      <th>counts_news</th>\n",
       "      <th>counts_blogs</th>\n",
       "      <th>counts_facebook</th>\n",
       "      <th>counts_policy</th>\n",
       "      <th>counts_wikipedia</th>\n",
       "      <th>counts_twitter_count</th>\n",
       "      <th>counts_twitter_unique</th>\n",
       "      <th>counts_total</th>\n",
       "      <th>altmetric_score</th>\n",
       "      <th>member_of_the_public</th>\n",
       "      <th>researcher</th>\n",
       "      <th>practitioner</th>\n",
       "      <th>science_communicator</th>\n",
       "    </tr>\n",
       "  </thead>\n",
       "  <tbody>\n",
       "    <tr>\n",
       "      <th>25107</th>\n",
       "      <td>390412.0</td>\n",
       "      <td>10.1086/511159</td>\n",
       "      <td>17278083</td>\n",
       "      <td>2007.0</td>\n",
       "      <td>Infectious Diseases Society of America/America...</td>\n",
       "      <td>3472.0</td>\n",
       "      <td>12</td>\n",
       "      <td>16</td>\n",
       "      <td>2</td>\n",
       "      <td>4</td>\n",
       "      <td>8</td>\n",
       "      <td>52</td>\n",
       "      <td>48</td>\n",
       "      <td>95</td>\n",
       "      <td>140.444</td>\n",
       "      <td>35</td>\n",
       "      <td>2</td>\n",
       "      <td>10</td>\n",
       "      <td>1</td>\n",
       "    </tr>\n",
       "  </tbody>\n",
       "</table>\n",
       "</div>"
      ],
      "text/plain": [
       "       altmetric_id             doi      pmid    year  \\\n",
       "25107      390412.0  10.1086/511159  17278083  2007.0   \n",
       "\n",
       "                                                   title  counts_mendeley  \\\n",
       "25107  Infectious Diseases Society of America/America...           3472.0   \n",
       "\n",
       "       counts_news  counts_blogs  counts_facebook  counts_policy  \\\n",
       "25107           12            16                2              4   \n",
       "\n",
       "       counts_wikipedia  counts_twitter_count  counts_twitter_unique  \\\n",
       "25107                 8                    52                     48   \n",
       "\n",
       "       counts_total  altmetric_score  member_of_the_public  researcher  \\\n",
       "25107            95          140.444                    35           2   \n",
       "\n",
       "       practitioner  science_communicator  \n",
       "25107            10                     1  "
      ]
     },
     "execution_count": 44,
     "metadata": {},
     "output_type": "execute_result"
    }
   ],
   "source": [
    "df_altmetrics[df_altmetrics.doi==\"10.1086/511159\"]"
   ]
  },
  {
   "cell_type": "code",
   "execution_count": 45,
   "metadata": {
    "scrolled": false
   },
   "outputs": [],
   "source": [
    "#all_altmetrics[26239]"
   ]
  },
  {
   "cell_type": "code",
   "execution_count": 46,
   "metadata": {},
   "outputs": [
    {
     "data": {
      "text/html": [
       "<div>\n",
       "<style scoped>\n",
       "    .dataframe tbody tr th:only-of-type {\n",
       "        vertical-align: middle;\n",
       "    }\n",
       "\n",
       "    .dataframe tbody tr th {\n",
       "        vertical-align: top;\n",
       "    }\n",
       "\n",
       "    .dataframe thead th {\n",
       "        text-align: right;\n",
       "    }\n",
       "</style>\n",
       "<table border=\"1\" class=\"dataframe\">\n",
       "  <thead>\n",
       "    <tr style=\"text-align: right;\">\n",
       "      <th></th>\n",
       "      <th>altmetric_id</th>\n",
       "      <th>doi</th>\n",
       "      <th>pmid</th>\n",
       "      <th>year</th>\n",
       "      <th>title</th>\n",
       "      <th>counts_mendeley</th>\n",
       "      <th>counts_news</th>\n",
       "      <th>counts_blogs</th>\n",
       "      <th>counts_facebook</th>\n",
       "      <th>counts_policy</th>\n",
       "      <th>counts_wikipedia</th>\n",
       "      <th>counts_twitter_count</th>\n",
       "      <th>counts_twitter_unique</th>\n",
       "      <th>counts_total</th>\n",
       "      <th>altmetric_score</th>\n",
       "      <th>member_of_the_public</th>\n",
       "      <th>researcher</th>\n",
       "      <th>practitioner</th>\n",
       "      <th>science_communicator</th>\n",
       "    </tr>\n",
       "  </thead>\n",
       "  <tbody>\n",
       "    <tr>\n",
       "      <th>0</th>\n",
       "      <td>44518982.0</td>\n",
       "      <td>10.1128/aem.00551-18</td>\n",
       "      <td>29625986</td>\n",
       "      <td>2018.0</td>\n",
       "      <td>Survival of the Enveloped Virus Phi6 in Drople...</td>\n",
       "      <td>32.0</td>\n",
       "      <td>1</td>\n",
       "      <td>1</td>\n",
       "      <td>0</td>\n",
       "      <td>0</td>\n",
       "      <td>0</td>\n",
       "      <td>9</td>\n",
       "      <td>4</td>\n",
       "      <td>11</td>\n",
       "      <td>18.58</td>\n",
       "      <td>4</td>\n",
       "      <td>0</td>\n",
       "      <td>0</td>\n",
       "      <td>0</td>\n",
       "    </tr>\n",
       "    <tr>\n",
       "      <th>1</th>\n",
       "      <td>37036429.0</td>\n",
       "      <td>10.1186/s13287-018-0774-8</td>\n",
       "      <td>29378639</td>\n",
       "      <td>2018.0</td>\n",
       "      <td>Mesenchymal stem cell-derived extracellular ve...</td>\n",
       "      <td>50.0</td>\n",
       "      <td>0</td>\n",
       "      <td>0</td>\n",
       "      <td>0</td>\n",
       "      <td>0</td>\n",
       "      <td>0</td>\n",
       "      <td>0</td>\n",
       "      <td>0</td>\n",
       "      <td>0</td>\n",
       "      <td>0.00</td>\n",
       "      <td>0</td>\n",
       "      <td>0</td>\n",
       "      <td>0</td>\n",
       "      <td>0</td>\n",
       "    </tr>\n",
       "    <tr>\n",
       "      <th>2</th>\n",
       "      <td>1121449.0</td>\n",
       "      <td>10.1128/jvi.02476-12</td>\n",
       "      <td>23236062</td>\n",
       "      <td>2013.0</td>\n",
       "      <td>Sequencing, Annotation, and Characterization o...</td>\n",
       "      <td>60.0</td>\n",
       "      <td>0</td>\n",
       "      <td>0</td>\n",
       "      <td>1</td>\n",
       "      <td>0</td>\n",
       "      <td>0</td>\n",
       "      <td>3</td>\n",
       "      <td>3</td>\n",
       "      <td>6</td>\n",
       "      <td>5.25</td>\n",
       "      <td>2</td>\n",
       "      <td>1</td>\n",
       "      <td>0</td>\n",
       "      <td>0</td>\n",
       "    </tr>\n",
       "    <tr>\n",
       "      <th>3</th>\n",
       "      <td>78530289.0</td>\n",
       "      <td>10.2174/1871523019999200228100917</td>\n",
       "      <td>32213152</td>\n",
       "      <td>2020.0</td>\n",
       "      <td>Are there any Therapeutic Options Currently Av...</td>\n",
       "      <td>0.0</td>\n",
       "      <td>0</td>\n",
       "      <td>0</td>\n",
       "      <td>0</td>\n",
       "      <td>0</td>\n",
       "      <td>0</td>\n",
       "      <td>1</td>\n",
       "      <td>1</td>\n",
       "      <td>1</td>\n",
       "      <td>0.25</td>\n",
       "      <td>1</td>\n",
       "      <td>0</td>\n",
       "      <td>0</td>\n",
       "      <td>0</td>\n",
       "    </tr>\n",
       "    <tr>\n",
       "      <th>4</th>\n",
       "      <td>13617964.0</td>\n",
       "      <td>10.1016/j.chom.2009.05.012</td>\n",
       "      <td>19527883</td>\n",
       "      <td>2009.0</td>\n",
       "      <td>Ubiquitination, Ubiquitin-like Modifiers, and ...</td>\n",
       "      <td>152.0</td>\n",
       "      <td>0</td>\n",
       "      <td>0</td>\n",
       "      <td>0</td>\n",
       "      <td>0</td>\n",
       "      <td>1</td>\n",
       "      <td>0</td>\n",
       "      <td>0</td>\n",
       "      <td>1</td>\n",
       "      <td>3.00</td>\n",
       "      <td>0</td>\n",
       "      <td>0</td>\n",
       "      <td>0</td>\n",
       "      <td>0</td>\n",
       "    </tr>\n",
       "  </tbody>\n",
       "</table>\n",
       "</div>"
      ],
      "text/plain": [
       "   altmetric_id                                doi      pmid    year  \\\n",
       "0    44518982.0               10.1128/aem.00551-18  29625986  2018.0   \n",
       "1    37036429.0          10.1186/s13287-018-0774-8  29378639  2018.0   \n",
       "2     1121449.0               10.1128/jvi.02476-12  23236062  2013.0   \n",
       "3    78530289.0  10.2174/1871523019999200228100917  32213152  2020.0   \n",
       "4    13617964.0         10.1016/j.chom.2009.05.012  19527883  2009.0   \n",
       "\n",
       "                                               title  counts_mendeley  \\\n",
       "0  Survival of the Enveloped Virus Phi6 in Drople...             32.0   \n",
       "1  Mesenchymal stem cell-derived extracellular ve...             50.0   \n",
       "2  Sequencing, Annotation, and Characterization o...             60.0   \n",
       "3  Are there any Therapeutic Options Currently Av...              0.0   \n",
       "4  Ubiquitination, Ubiquitin-like Modifiers, and ...            152.0   \n",
       "\n",
       "   counts_news  counts_blogs  counts_facebook  counts_policy  \\\n",
       "0            1             1                0              0   \n",
       "1            0             0                0              0   \n",
       "2            0             0                1              0   \n",
       "3            0             0                0              0   \n",
       "4            0             0                0              0   \n",
       "\n",
       "   counts_wikipedia  counts_twitter_count  counts_twitter_unique  \\\n",
       "0                 0                     9                      4   \n",
       "1                 0                     0                      0   \n",
       "2                 0                     3                      3   \n",
       "3                 0                     1                      1   \n",
       "4                 1                     0                      0   \n",
       "\n",
       "   counts_total  altmetric_score  member_of_the_public  researcher  \\\n",
       "0            11            18.58                     4           0   \n",
       "1             0             0.00                     0           0   \n",
       "2             6             5.25                     2           1   \n",
       "3             1             0.25                     1           0   \n",
       "4             1             3.00                     0           0   \n",
       "\n",
       "   practitioner  science_communicator  \n",
       "0             0                     0  \n",
       "1             0                     0  \n",
       "2             0                     0  \n",
       "3             0                     0  \n",
       "4             0                     0  "
      ]
     },
     "execution_count": 46,
     "metadata": {},
     "output_type": "execute_result"
    }
   ],
   "source": [
    "df_altmetrics.head()"
   ]
  },
  {
   "cell_type": "code",
   "execution_count": 47,
   "metadata": {},
   "outputs": [],
   "source": [
    "# Extract Wikipedia data frames\n",
    "from datetime import date\n",
    "#>>> date.fromisoformat('2019-12-04')\n",
    "\n",
    "dois = list()\n",
    "altmetric_ids = list()\n",
    "wikipedia_ids = list()\n",
    "wikipedia_titles = list()\n",
    "wikipedia_urls = list()\n",
    "wikipedia_langs = list()\n",
    "wikipedia_summaries = list()\n",
    "wikipedia_postedons = list()\n",
    "\n",
    "for a in all_altmetrics:\n",
    "    if \"counts\" in a.keys():\n",
    "        if \"wikipedia\" in a[\"counts\"].keys():\n",
    "            for w in a[\"posts\"][\"wikipedia\"]:\n",
    "                try:\n",
    "                    if \"doi\" in a[\"citation\"].keys():\n",
    "                        dois.append(a[\"citation\"][\"doi\"])\n",
    "                    else:\n",
    "                        dois.append(None)\n",
    "                    altmetric_ids.append(a[\"altmetric_id\"])\n",
    "                    wiki_id = w[\"page_url\"].split(\"curid=\")[-1]\n",
    "                    wikipedia_ids.append(wiki_id)\n",
    "                    wikipedia_titles.append(w[\"title\"])\n",
    "                    wikipedia_urls.append(w[\"page_url\"])\n",
    "                    wikipedia_langs.append(w[\"wiki_lang\"])\n",
    "                    if \"summary\" in w.keys():\n",
    "                        wikipedia_summaries.append(w[\"summary\"])\n",
    "                    else:\n",
    "                        wikipedia_summaries.append(\"\")\n",
    "                    wikipedia_postedons.append(date.fromisoformat(w[\"posted_on\"].split(\"T\")[0]))\n",
    "                except:\n",
    "                    print(w)\n",
    "                    continue"
   ]
  },
  {
   "cell_type": "code",
   "execution_count": 48,
   "metadata": {},
   "outputs": [
    {
     "data": {
      "text/plain": [
       "3262"
      ]
     },
     "execution_count": 48,
     "metadata": {},
     "output_type": "execute_result"
    }
   ],
   "source": [
    "len(wikipedia_ids)"
   ]
  },
  {
   "cell_type": "code",
   "execution_count": 49,
   "metadata": {},
   "outputs": [],
   "source": [
    "df_wikipedia = pd.DataFrame.from_dict({\n",
    "    \"wikipedia_id\": wikipedia_ids,\n",
    "    \"title\": wikipedia_titles,\n",
    "    \"page_url\": wikipedia_urls,\n",
    "    \"lang\": wikipedia_langs,\n",
    "    \"summary\": wikipedia_summaries\n",
    "})"
   ]
  },
  {
   "cell_type": "code",
   "execution_count": 50,
   "metadata": {},
   "outputs": [],
   "source": [
    "df_wikipedia = df_wikipedia.groupby('wikipedia_id').first()\n",
    "df_wikipedia.reset_index(inplace=True)"
   ]
  },
  {
   "cell_type": "code",
   "execution_count": 51,
   "metadata": {},
   "outputs": [
    {
     "data": {
      "text/plain": [
       "(1579, 5)"
      ]
     },
     "execution_count": 51,
     "metadata": {},
     "output_type": "execute_result"
    }
   ],
   "source": [
    "df_wikipedia.shape"
   ]
  },
  {
   "cell_type": "code",
   "execution_count": 52,
   "metadata": {},
   "outputs": [
    {
     "data": {
      "text/html": [
       "<div>\n",
       "<style scoped>\n",
       "    .dataframe tbody tr th:only-of-type {\n",
       "        vertical-align: middle;\n",
       "    }\n",
       "\n",
       "    .dataframe tbody tr th {\n",
       "        vertical-align: top;\n",
       "    }\n",
       "\n",
       "    .dataframe thead th {\n",
       "        text-align: right;\n",
       "    }\n",
       "</style>\n",
       "<table border=\"1\" class=\"dataframe\">\n",
       "  <thead>\n",
       "    <tr style=\"text-align: right;\">\n",
       "      <th></th>\n",
       "      <th>wikipedia_id</th>\n",
       "      <th>title</th>\n",
       "      <th>page_url</th>\n",
       "      <th>lang</th>\n",
       "      <th>summary</th>\n",
       "    </tr>\n",
       "  </thead>\n",
       "  <tbody>\n",
       "    <tr>\n",
       "      <th>0</th>\n",
       "      <td>10008283</td>\n",
       "      <td>Basigin</td>\n",
       "      <td>http://en.wikipedia.org/?curid=10008283</td>\n",
       "      <td>en</td>\n",
       "      <td>Basigin (BSG) also known as extracellular matr...</td>\n",
       "    </tr>\n",
       "    <tr>\n",
       "      <th>1</th>\n",
       "      <td>10012786</td>\n",
       "      <td>Pelargonium sidoides</td>\n",
       "      <td>http://en.wikipedia.org/?curid=10012786</td>\n",
       "      <td>en</td>\n",
       "      <td>Pelargonium sidoides is a medicinal plant nati...</td>\n",
       "    </tr>\n",
       "    <tr>\n",
       "      <th>2</th>\n",
       "      <td>10044864</td>\n",
       "      <td>Research question</td>\n",
       "      <td>http://en.wikipedia.org/?curid=10044864</td>\n",
       "      <td>en</td>\n",
       "      <td>A research question is the objective of a stud...</td>\n",
       "    </tr>\n",
       "    <tr>\n",
       "      <th>3</th>\n",
       "      <td>1006597</td>\n",
       "      <td>Nanorobotics</td>\n",
       "      <td>http://en.wikipedia.org/?curid=1006597</td>\n",
       "      <td>en</td>\n",
       "      <td>Nanorobotics is an emerging technology field c...</td>\n",
       "    </tr>\n",
       "    <tr>\n",
       "      <th>4</th>\n",
       "      <td>10071675</td>\n",
       "      <td>Civet</td>\n",
       "      <td>http://en.wikipedia.org/?curid=10071675</td>\n",
       "      <td>en</td>\n",
       "      <td>A civet is a small, lean, mostly nocturnal mam...</td>\n",
       "    </tr>\n",
       "  </tbody>\n",
       "</table>\n",
       "</div>"
      ],
      "text/plain": [
       "  wikipedia_id                 title                                 page_url  \\\n",
       "0     10008283               Basigin  http://en.wikipedia.org/?curid=10008283   \n",
       "1     10012786  Pelargonium sidoides  http://en.wikipedia.org/?curid=10012786   \n",
       "2     10044864     Research question  http://en.wikipedia.org/?curid=10044864   \n",
       "3      1006597          Nanorobotics   http://en.wikipedia.org/?curid=1006597   \n",
       "4     10071675                 Civet  http://en.wikipedia.org/?curid=10071675   \n",
       "\n",
       "  lang                                            summary  \n",
       "0   en  Basigin (BSG) also known as extracellular matr...  \n",
       "1   en  Pelargonium sidoides is a medicinal plant nati...  \n",
       "2   en  A research question is the objective of a stud...  \n",
       "3   en  Nanorobotics is an emerging technology field c...  \n",
       "4   en  A civet is a small, lean, mostly nocturnal mam...  "
      ]
     },
     "execution_count": 52,
     "metadata": {},
     "output_type": "execute_result"
    }
   ],
   "source": [
    "df_wikipedia.head()"
   ]
  },
  {
   "cell_type": "code",
   "execution_count": 53,
   "metadata": {},
   "outputs": [],
   "source": [
    "def to_ym(d):\n",
    "    if d.month < 10:\n",
    "        return str(d.year)+\"-0\"+str(d.month)\n",
    "    return str(d.year)+\"-\"+str(d.month)\n",
    "\n",
    "df_alt_to_wiki = pd.DataFrame.from_dict({\n",
    "    \"doi\": dois,\n",
    "    \"altmetric_id\": altmetric_ids,\n",
    "    \"wikipedia_id\": wikipedia_ids,\n",
    "    \"posted_on\": wikipedia_postedons,\n",
    "    \"posted_on_year\": [d.year for d in wikipedia_postedons],\n",
    "    \"posted_on_month\": [d.month for d in wikipedia_postedons],\n",
    "    \"posted_on_ym\": [to_ym(d) for d in wikipedia_postedons]\n",
    "})"
   ]
  },
  {
   "cell_type": "code",
   "execution_count": 54,
   "metadata": {},
   "outputs": [
    {
     "data": {
      "text/plain": [
       "(3262, 7)"
      ]
     },
     "execution_count": 54,
     "metadata": {},
     "output_type": "execute_result"
    }
   ],
   "source": [
    "df_alt_to_wiki.shape"
   ]
  },
  {
   "cell_type": "code",
   "execution_count": 55,
   "metadata": {},
   "outputs": [],
   "source": [
    "df_alt_to_wiki.drop_duplicates(inplace=True)"
   ]
  },
  {
   "cell_type": "code",
   "execution_count": 56,
   "metadata": {},
   "outputs": [
    {
     "data": {
      "text/plain": [
       "(3133, 7)"
      ]
     },
     "execution_count": 56,
     "metadata": {},
     "output_type": "execute_result"
    }
   ],
   "source": [
    "df_alt_to_wiki.shape"
   ]
  },
  {
   "cell_type": "code",
   "execution_count": 57,
   "metadata": {},
   "outputs": [
    {
     "data": {
      "text/html": [
       "<div>\n",
       "<style scoped>\n",
       "    .dataframe tbody tr th:only-of-type {\n",
       "        vertical-align: middle;\n",
       "    }\n",
       "\n",
       "    .dataframe tbody tr th {\n",
       "        vertical-align: top;\n",
       "    }\n",
       "\n",
       "    .dataframe thead th {\n",
       "        text-align: right;\n",
       "    }\n",
       "</style>\n",
       "<table border=\"1\" class=\"dataframe\">\n",
       "  <thead>\n",
       "    <tr style=\"text-align: right;\">\n",
       "      <th></th>\n",
       "      <th>doi</th>\n",
       "      <th>altmetric_id</th>\n",
       "      <th>wikipedia_id</th>\n",
       "      <th>posted_on</th>\n",
       "      <th>posted_on_year</th>\n",
       "      <th>posted_on_month</th>\n",
       "      <th>posted_on_ym</th>\n",
       "    </tr>\n",
       "  </thead>\n",
       "  <tbody>\n",
       "    <tr>\n",
       "      <th>0</th>\n",
       "      <td>10.1016/j.chom.2009.05.012</td>\n",
       "      <td>13617964</td>\n",
       "      <td>46181852</td>\n",
       "      <td>2016-11-15</td>\n",
       "      <td>2016</td>\n",
       "      <td>11</td>\n",
       "      <td>2016-11</td>\n",
       "    </tr>\n",
       "    <tr>\n",
       "      <th>1</th>\n",
       "      <td>10.1007/s40262-015-0364-1</td>\n",
       "      <td>5028631</td>\n",
       "      <td>43478312</td>\n",
       "      <td>2016-07-21</td>\n",
       "      <td>2016</td>\n",
       "      <td>7</td>\n",
       "      <td>2016-07</td>\n",
       "    </tr>\n",
       "    <tr>\n",
       "      <th>2</th>\n",
       "      <td>10.1016/s0378-1119(02)01056-9</td>\n",
       "      <td>3414235</td>\n",
       "      <td>4387438</td>\n",
       "      <td>2008-09-12</td>\n",
       "      <td>2008</td>\n",
       "      <td>9</td>\n",
       "      <td>2008-09</td>\n",
       "    </tr>\n",
       "    <tr>\n",
       "      <th>3</th>\n",
       "      <td>10.1016/s0378-1119(02)01056-9</td>\n",
       "      <td>3414235</td>\n",
       "      <td>30625026</td>\n",
       "      <td>2014-09-09</td>\n",
       "      <td>2014</td>\n",
       "      <td>9</td>\n",
       "      <td>2014-09</td>\n",
       "    </tr>\n",
       "    <tr>\n",
       "      <th>4</th>\n",
       "      <td>10.1098/rsif.2009.0384</td>\n",
       "      <td>13548930</td>\n",
       "      <td>1649692</td>\n",
       "      <td>2020-04-13</td>\n",
       "      <td>2020</td>\n",
       "      <td>4</td>\n",
       "      <td>2020-04</td>\n",
       "    </tr>\n",
       "  </tbody>\n",
       "</table>\n",
       "</div>"
      ],
      "text/plain": [
       "                             doi  altmetric_id wikipedia_id   posted_on  \\\n",
       "0     10.1016/j.chom.2009.05.012      13617964     46181852  2016-11-15   \n",
       "1      10.1007/s40262-015-0364-1       5028631     43478312  2016-07-21   \n",
       "2  10.1016/s0378-1119(02)01056-9       3414235      4387438  2008-09-12   \n",
       "3  10.1016/s0378-1119(02)01056-9       3414235     30625026  2014-09-09   \n",
       "4         10.1098/rsif.2009.0384      13548930      1649692  2020-04-13   \n",
       "\n",
       "   posted_on_year  posted_on_month posted_on_ym  \n",
       "0            2016               11      2016-11  \n",
       "1            2016                7      2016-07  \n",
       "2            2008                9      2008-09  \n",
       "3            2014                9      2014-09  \n",
       "4            2020                4      2020-04  "
      ]
     },
     "execution_count": 57,
     "metadata": {},
     "output_type": "execute_result"
    }
   ],
   "source": [
    "df_alt_to_wiki.head()"
   ]
  },
  {
   "cell_type": "code",
   "execution_count": 58,
   "metadata": {},
   "outputs": [
    {
     "data": {
      "image/png": "[encoded data removed]",
      "text/plain": [
       "<Figure size 720x360 with 1 Axes>"
      ]
     },
     "metadata": {},
     "output_type": "display_data"
    }
   ],
   "source": [
    "# year posted_on actions histogram\n",
    "\n",
    "plt.figure(figsize=(10,5))\n",
    "chart = sns.countplot(x=\"posted_on_year\", data=df_alt_to_wiki, color=\"skyblue\")\n",
    "chart.set_xticklabels(chart.get_xticklabels(), rotation=45)\n",
    "plt.show()"
   ]
  },
  {
   "cell_type": "code",
   "execution_count": 59,
   "metadata": {},
   "outputs": [
    {
     "data": {
      "image/png": "[encoded data removed]",
      "text/plain": [
       "<Figure size 720x360 with 1 Axes>"
      ]
     },
     "metadata": {},
     "output_type": "display_data"
    }
   ],
   "source": [
    "# month-year posted_on actions histogram\n",
    "\n",
    "since_when = 2018\n",
    "plt.figure(figsize=(10,5))\n",
    "chart = sns.countplot(x=\"posted_on_ym\", data=df_alt_to_wiki[df_alt_to_wiki.posted_on_year>=since_when], order=sorted(df_alt_to_wiki[df_alt_to_wiki.posted_on_year>=since_when].posted_on_ym.unique()), color=\"skyblue\")\n",
    "chart.set_xticklabels(chart.get_xticklabels(), rotation=45)\n",
    "plt.show()"
   ]
  },
  {
   "cell_type": "code",
   "execution_count": 60,
   "metadata": {},
   "outputs": [
    {
     "data": {
      "image/png": "[encoded data removed]",
      "text/plain": [
       "<Figure size 720x360 with 1 Axes>"
      ]
     },
     "metadata": {},
     "output_type": "display_data"
    }
   ],
   "source": [
    "# publication years of articles cited by Wikipedia by posted_on action \n",
    "#(i.e., with duplicates for multiple posted_on actions on different Wikipedia pages)\n",
    "\n",
    "since_when = 2020\n",
    "from_when = 2000\n",
    "\n",
    "df_alt_to_wiki_joined_altmetrics = df_alt_to_wiki.merge(df_altmetrics, how=\"left\", left_on=\"altmetric_id\", right_on=\"altmetric_id\")\n",
    "plt.figure(figsize=(10,5))\n",
    "sns.distplot([int(l) for l in df_alt_to_wiki_joined_altmetrics[(df_alt_to_wiki_joined_altmetrics.posted_on_year<since_when) & (df_alt_to_wiki_joined_altmetrics.year>=from_when)].year.to_list()], bins=20, color=\"green\", kde=False, label=\"Posted before %d\"%since_when)\n",
    "chart = sns.distplot([int(l) for l in df_alt_to_wiki_joined_altmetrics[(df_alt_to_wiki_joined_altmetrics.posted_on_year>=since_when) & (df_alt_to_wiki_joined_altmetrics.year>=from_when)].year.to_list()], bins=20, color=\"red\", kde=False, label=\"Posted on %d\"%since_when)\n",
    "#chart.set_xticklabels(chart.get_xticklabels(), rotation=45)\n",
    "plt.legend(fontsize=18)\n",
    "plt.show()"
   ]
  },
  {
   "cell_type": "code",
   "execution_count": 61,
   "metadata": {},
   "outputs": [
    {
     "data": {
      "image/png": "[encoded data removed]",
      "text/plain": [
       "<Figure size 720x360 with 1 Axes>"
      ]
     },
     "metadata": {},
     "output_type": "display_data"
    }
   ],
   "source": [
    "# publication years of articles cited by Wikipedia\n",
    "\n",
    "plt.figure(figsize=(10,5))\n",
    "chart = sns.countplot(x=\"year\", data=df_alt_to_wiki_joined_altmetrics.groupby(\"altmetric_id\").first(), color=\"skyblue\")\n",
    "chart.set_xticklabels(chart.get_xticklabels(), rotation=45)\n",
    "plt.show()"
   ]
  },
  {
   "cell_type": "code",
   "execution_count": 62,
   "metadata": {},
   "outputs": [],
   "source": [
    "# most Wiki cited papers"
   ]
  },
  {
   "cell_type": "code",
   "execution_count": 63,
   "metadata": {},
   "outputs": [],
   "source": [
    "df_top_cited = df_alt_to_wiki.groupby(\"doi\").agg('count').sort_values('wikipedia_id',ascending=False)[:20]\n",
    "df_top_cited.reset_index(inplace=True)"
   ]
  },
  {
   "cell_type": "code",
   "execution_count": 64,
   "metadata": {},
   "outputs": [
    {
     "data": {
      "text/html": [
       "<div>\n",
       "<style scoped>\n",
       "    .dataframe tbody tr th:only-of-type {\n",
       "        vertical-align: middle;\n",
       "    }\n",
       "\n",
       "    .dataframe tbody tr th {\n",
       "        vertical-align: top;\n",
       "    }\n",
       "\n",
       "    .dataframe thead th {\n",
       "        text-align: right;\n",
       "    }\n",
       "</style>\n",
       "<table border=\"1\" class=\"dataframe\">\n",
       "  <thead>\n",
       "    <tr style=\"text-align: right;\">\n",
       "      <th></th>\n",
       "      <th>doi</th>\n",
       "      <th>wikipedia_id</th>\n",
       "      <th>title</th>\n",
       "      <th>publication_year</th>\n",
       "      <th>journal</th>\n",
       "      <th>times_cited</th>\n",
       "    </tr>\n",
       "  </thead>\n",
       "  <tbody>\n",
       "    <tr>\n",
       "      <th>0</th>\n",
       "      <td>10.1007/s00705-012-1299-6</td>\n",
       "      <td>18</td>\n",
       "      <td>Ratification vote on taxonomic proposals to th...</td>\n",
       "      <td>2012.0</td>\n",
       "      <td>Arch Virol</td>\n",
       "      <td>206.0</td>\n",
       "    </tr>\n",
       "    <tr>\n",
       "      <th>1</th>\n",
       "      <td>10.3390/v2081803</td>\n",
       "      <td>15</td>\n",
       "      <td>Coronavirus Genomics and Bioinformatics Analysis</td>\n",
       "      <td>2010.0</td>\n",
       "      <td>Viruses</td>\n",
       "      <td>96.0</td>\n",
       "    </tr>\n",
       "    <tr>\n",
       "      <th>2</th>\n",
       "      <td>10.1007/978-1-4939-2438-7_1</td>\n",
       "      <td>13</td>\n",
       "      <td>Coronaviruses: An Overview of Their Replicatio...</td>\n",
       "      <td>2015.0</td>\n",
       "      <td>Methods in Molecular Biology</td>\n",
       "      <td>128.0</td>\n",
       "    </tr>\n",
       "    <tr>\n",
       "      <th>3</th>\n",
       "      <td>10.1016/s0140-6736(20)30183-5</td>\n",
       "      <td>12</td>\n",
       "      <td>Clinical features of patients infected with 20...</td>\n",
       "      <td>2020.0</td>\n",
       "      <td>The Lancet</td>\n",
       "      <td>1307.0</td>\n",
       "    </tr>\n",
       "    <tr>\n",
       "      <th>4</th>\n",
       "      <td>10.1083/jcb.148.5.931</td>\n",
       "      <td>10</td>\n",
       "      <td>NaN</td>\n",
       "      <td>NaN</td>\n",
       "      <td>NaN</td>\n",
       "      <td>NaN</td>\n",
       "    </tr>\n",
       "    <tr>\n",
       "      <th>5</th>\n",
       "      <td>10.3390/v11020174</td>\n",
       "      <td>10</td>\n",
       "      <td>Global Epidemiology of Bat Coronaviruses</td>\n",
       "      <td>2019.0</td>\n",
       "      <td>Viruses</td>\n",
       "      <td>19.0</td>\n",
       "    </tr>\n",
       "    <tr>\n",
       "      <th>6</th>\n",
       "      <td>10.1038/s41422-020-0282-0</td>\n",
       "      <td>10</td>\n",
       "      <td>Remdesivir and chloroquine effectively inhibit...</td>\n",
       "      <td>2020.0</td>\n",
       "      <td>Cell Research</td>\n",
       "      <td>211.0</td>\n",
       "    </tr>\n",
       "    <tr>\n",
       "      <th>7</th>\n",
       "      <td>10.1038/d41586-020-00548-w</td>\n",
       "      <td>9</td>\n",
       "      <td>Mystery deepens over animal source of coronavirus</td>\n",
       "      <td>2020.0</td>\n",
       "      <td>Nature</td>\n",
       "      <td>3.0</td>\n",
       "    </tr>\n",
       "    <tr>\n",
       "      <th>8</th>\n",
       "      <td>10.1128/jvi.06540-11</td>\n",
       "      <td>9</td>\n",
       "      <td>Discovery of Seven Novel Mammalian and Avian C...</td>\n",
       "      <td>2012.0</td>\n",
       "      <td>Journal of Virology</td>\n",
       "      <td>377.0</td>\n",
       "    </tr>\n",
       "    <tr>\n",
       "      <th>9</th>\n",
       "      <td>10.1038/s41586-020-2012-7</td>\n",
       "      <td>9</td>\n",
       "      <td>A pneumonia outbreak associated with a new cor...</td>\n",
       "      <td>2020.0</td>\n",
       "      <td>Nature</td>\n",
       "      <td>501.0</td>\n",
       "    </tr>\n",
       "    <tr>\n",
       "      <th>10</th>\n",
       "      <td>10.1016/s0140-6736(20)30567-5</td>\n",
       "      <td>9</td>\n",
       "      <td>How will country-based mitigation measures inf...</td>\n",
       "      <td>2020.0</td>\n",
       "      <td>The Lancet</td>\n",
       "      <td>40.0</td>\n",
       "    </tr>\n",
       "    <tr>\n",
       "      <th>11</th>\n",
       "      <td>10.1056/nejmoa2001316</td>\n",
       "      <td>9</td>\n",
       "      <td>Early Transmission Dynamics in Wuhan, China, o...</td>\n",
       "      <td>2020.0</td>\n",
       "      <td>New England Journal of Medicine</td>\n",
       "      <td>756.0</td>\n",
       "    </tr>\n",
       "    <tr>\n",
       "      <th>12</th>\n",
       "      <td>10.1038/s41591-020-0820-9</td>\n",
       "      <td>9</td>\n",
       "      <td>The proximal origin of SARS-CoV-2</td>\n",
       "      <td>2020.0</td>\n",
       "      <td>Nature Medicine</td>\n",
       "      <td>44.0</td>\n",
       "    </tr>\n",
       "    <tr>\n",
       "      <th>13</th>\n",
       "      <td>10.1056/nejmoa2001191</td>\n",
       "      <td>9</td>\n",
       "      <td>First Case of 2019 Novel Coronavirus in the Un...</td>\n",
       "      <td>2020.0</td>\n",
       "      <td>New England Journal of Medicine</td>\n",
       "      <td>308.0</td>\n",
       "    </tr>\n",
       "    <tr>\n",
       "      <th>14</th>\n",
       "      <td>10.1016/j.pnpbp.2006.01.008</td>\n",
       "      <td>8</td>\n",
       "      <td>Human brain evolution and the “Neuroevolutiona...</td>\n",
       "      <td>2006.0</td>\n",
       "      <td>Progress in Neuro-Psychopharmacology and Biolo...</td>\n",
       "      <td>61.0</td>\n",
       "    </tr>\n",
       "    <tr>\n",
       "      <th>15</th>\n",
       "      <td>10.1086/511159</td>\n",
       "      <td>8</td>\n",
       "      <td>Infectious Diseases Society of America/America...</td>\n",
       "      <td>2007.0</td>\n",
       "      <td>Clin Infect Dis</td>\n",
       "      <td>3878.0</td>\n",
       "    </tr>\n",
       "    <tr>\n",
       "      <th>16</th>\n",
       "      <td>10.1001/jama.2016.17324</td>\n",
       "      <td>8</td>\n",
       "      <td>Prevalence of Depression, Depressive Symptoms,...</td>\n",
       "      <td>2016.0</td>\n",
       "      <td>JAMA</td>\n",
       "      <td>339.0</td>\n",
       "    </tr>\n",
       "    <tr>\n",
       "      <th>17</th>\n",
       "      <td>10.1016/s1473-3099(05)70270-x</td>\n",
       "      <td>7</td>\n",
       "      <td>Understanding the symptoms of the common cold ...</td>\n",
       "      <td>2005.0</td>\n",
       "      <td>The Lancet Infectious Diseases</td>\n",
       "      <td>249.0</td>\n",
       "    </tr>\n",
       "    <tr>\n",
       "      <th>18</th>\n",
       "      <td>10.1016/j.ab.2004.10.003</td>\n",
       "      <td>7</td>\n",
       "      <td>Molecular modeling and chemical modification f...</td>\n",
       "      <td>2005.0</td>\n",
       "      <td>Analytical Biochemistry</td>\n",
       "      <td>46.0</td>\n",
       "    </tr>\n",
       "    <tr>\n",
       "      <th>19</th>\n",
       "      <td>10.3390/diseases4030026</td>\n",
       "      <td>7</td>\n",
       "      <td>Human Coronaviruses: A Review of Virus–Host In...</td>\n",
       "      <td>2016.0</td>\n",
       "      <td>Diseases</td>\n",
       "      <td>30.0</td>\n",
       "    </tr>\n",
       "  </tbody>\n",
       "</table>\n",
       "</div>"
      ],
      "text/plain": [
       "                              doi  wikipedia_id  \\\n",
       "0       10.1007/s00705-012-1299-6            18   \n",
       "1                10.3390/v2081803            15   \n",
       "2     10.1007/978-1-4939-2438-7_1            13   \n",
       "3   10.1016/s0140-6736(20)30183-5            12   \n",
       "4           10.1083/jcb.148.5.931            10   \n",
       "5               10.3390/v11020174            10   \n",
       "6       10.1038/s41422-020-0282-0            10   \n",
       "7      10.1038/d41586-020-00548-w             9   \n",
       "8            10.1128/jvi.06540-11             9   \n",
       "9       10.1038/s41586-020-2012-7             9   \n",
       "10  10.1016/s0140-6736(20)30567-5             9   \n",
       "11          10.1056/nejmoa2001316             9   \n",
       "12      10.1038/s41591-020-0820-9             9   \n",
       "13          10.1056/nejmoa2001191             9   \n",
       "14    10.1016/j.pnpbp.2006.01.008             8   \n",
       "15                 10.1086/511159             8   \n",
       "16        10.1001/jama.2016.17324             8   \n",
       "17  10.1016/s1473-3099(05)70270-x             7   \n",
       "18       10.1016/j.ab.2004.10.003             7   \n",
       "19        10.3390/diseases4030026             7   \n",
       "\n",
       "                                                title  publication_year  \\\n",
       "0   Ratification vote on taxonomic proposals to th...            2012.0   \n",
       "1    Coronavirus Genomics and Bioinformatics Analysis            2010.0   \n",
       "2   Coronaviruses: An Overview of Their Replicatio...            2015.0   \n",
       "3   Clinical features of patients infected with 20...            2020.0   \n",
       "4                                                 NaN               NaN   \n",
       "5            Global Epidemiology of Bat Coronaviruses            2019.0   \n",
       "6   Remdesivir and chloroquine effectively inhibit...            2020.0   \n",
       "7   Mystery deepens over animal source of coronavirus            2020.0   \n",
       "8   Discovery of Seven Novel Mammalian and Avian C...            2012.0   \n",
       "9   A pneumonia outbreak associated with a new cor...            2020.0   \n",
       "10  How will country-based mitigation measures inf...            2020.0   \n",
       "11  Early Transmission Dynamics in Wuhan, China, o...            2020.0   \n",
       "12                  The proximal origin of SARS-CoV-2            2020.0   \n",
       "13  First Case of 2019 Novel Coronavirus in the Un...            2020.0   \n",
       "14  Human brain evolution and the “Neuroevolutiona...            2006.0   \n",
       "15  Infectious Diseases Society of America/America...            2007.0   \n",
       "16  Prevalence of Depression, Depressive Symptoms,...            2016.0   \n",
       "17  Understanding the symptoms of the common cold ...            2005.0   \n",
       "18  Molecular modeling and chemical modification f...            2005.0   \n",
       "19  Human Coronaviruses: A Review of Virus–Host In...            2016.0   \n",
       "\n",
       "                                              journal  times_cited  \n",
       "0                                          Arch Virol        206.0  \n",
       "1                                             Viruses         96.0  \n",
       "2                        Methods in Molecular Biology        128.0  \n",
       "3                                          The Lancet       1307.0  \n",
       "4                                                 NaN          NaN  \n",
       "5                                             Viruses         19.0  \n",
       "6                                       Cell Research        211.0  \n",
       "7                                              Nature          3.0  \n",
       "8                                 Journal of Virology        377.0  \n",
       "9                                              Nature        501.0  \n",
       "10                                         The Lancet         40.0  \n",
       "11                    New England Journal of Medicine        756.0  \n",
       "12                                    Nature Medicine         44.0  \n",
       "13                    New England Journal of Medicine        308.0  \n",
       "14  Progress in Neuro-Psychopharmacology and Biolo...         61.0  \n",
       "15                                    Clin Infect Dis       3878.0  \n",
       "16                                               JAMA        339.0  \n",
       "17                     The Lancet Infectious Diseases        249.0  \n",
       "18                            Analytical Biochemistry         46.0  \n",
       "19                                           Diseases         30.0  "
      ]
     },
     "execution_count": 64,
     "metadata": {},
     "output_type": "execute_result"
    }
   ],
   "source": [
    "df_top_cited[[\"doi\",'wikipedia_id']].merge(df_joined, how=\"left\", right_on=\"doi\", left_on=\"doi\")[[\"doi\",\n",
    "    \"wikipedia_id\",\"title\",\"publication_year\",\"journal\",\"times_cited\"]]"
   ]
  },
  {
   "cell_type": "code",
   "execution_count": 65,
   "metadata": {},
   "outputs": [],
   "source": [
    "# most citing Wiki articles"
   ]
  },
  {
   "cell_type": "code",
   "execution_count": 66,
   "metadata": {},
   "outputs": [],
   "source": [
    "df_top_citing = df_alt_to_wiki.groupby(\"wikipedia_id\").agg('count').sort_values('doi',ascending=False)[:20]\n",
    "df_top_citing.reset_index(inplace=True)"
   ]
  },
  {
   "cell_type": "code",
   "execution_count": 67,
   "metadata": {},
   "outputs": [
    {
     "data": {
      "text/html": [
       "<div>\n",
       "<style scoped>\n",
       "    .dataframe tbody tr th:only-of-type {\n",
       "        vertical-align: middle;\n",
       "    }\n",
       "\n",
       "    .dataframe tbody tr th {\n",
       "        vertical-align: top;\n",
       "    }\n",
       "\n",
       "    .dataframe thead th {\n",
       "        text-align: right;\n",
       "    }\n",
       "</style>\n",
       "<table border=\"1\" class=\"dataframe\">\n",
       "  <thead>\n",
       "    <tr style=\"text-align: right;\">\n",
       "      <th></th>\n",
       "      <th>altmetric_id</th>\n",
       "      <th>wikipedia_id</th>\n",
       "      <th>title</th>\n",
       "      <th>page_url</th>\n",
       "      <th>lang</th>\n",
       "      <th>summary</th>\n",
       "    </tr>\n",
       "  </thead>\n",
       "  <tbody>\n",
       "    <tr>\n",
       "      <th>0</th>\n",
       "      <td>121</td>\n",
       "      <td>63030231</td>\n",
       "      <td>Coronavirus disease 2019</td>\n",
       "      <td>http://en.wikipedia.org/?curid=63030231</td>\n",
       "      <td>en</td>\n",
       "      <td>Recommended measures to prevent infection incl...</td>\n",
       "    </tr>\n",
       "    <tr>\n",
       "      <th>1</th>\n",
       "      <td>51</td>\n",
       "      <td>62786585</td>\n",
       "      <td>Severe acute respiratory syndrome coronavirus 2</td>\n",
       "      <td>http://en.wikipedia.org/?curid=62786585</td>\n",
       "      <td>en</td>\n",
       "      <td>Severe acute respiratory syndrome coronavirus ...</td>\n",
       "    </tr>\n",
       "    <tr>\n",
       "      <th>2</th>\n",
       "      <td>47</td>\n",
       "      <td>62750956</td>\n",
       "      <td>2019–20 coronavirus pandemic</td>\n",
       "      <td>http://en.wikipedia.org/?curid=62750956</td>\n",
       "      <td>en</td>\n",
       "      <td>The 2019–20 coronavirus pandemic is an ongoing...</td>\n",
       "    </tr>\n",
       "    <tr>\n",
       "      <th>3</th>\n",
       "      <td>46</td>\n",
       "      <td>201983</td>\n",
       "      <td>Coronavirus</td>\n",
       "      <td>http://en.wikipedia.org/?curid=201983</td>\n",
       "      <td>en</td>\n",
       "      <td>Coronaviruses are a group of related viruses t...</td>\n",
       "    </tr>\n",
       "    <tr>\n",
       "      <th>4</th>\n",
       "      <td>40</td>\n",
       "      <td>63676463</td>\n",
       "      <td>2019–20 coronavirus pandemic/sandbox</td>\n",
       "      <td>http://en.wikipedia.org/?curid=63676463</td>\n",
       "      <td>en</td>\n",
       "      <td>The 2019–20 coronavirus pandemic is an ongoing...</td>\n",
       "    </tr>\n",
       "    <tr>\n",
       "      <th>5</th>\n",
       "      <td>31</td>\n",
       "      <td>211547</td>\n",
       "      <td>Severe acute respiratory syndrome-related coro...</td>\n",
       "      <td>http://en.wikipedia.org/?curid=211547</td>\n",
       "      <td>en</td>\n",
       "      <td>Severe acute respiratory syndrome-related coro...</td>\n",
       "    </tr>\n",
       "    <tr>\n",
       "      <th>6</th>\n",
       "      <td>27</td>\n",
       "      <td>63435931</td>\n",
       "      <td>COVID-19 drug development</td>\n",
       "      <td>http://en.wikipedia.org/?curid=63435931</td>\n",
       "      <td>en</td>\n",
       "      <td>COVID-19 drug development is the research proc...</td>\n",
       "    </tr>\n",
       "    <tr>\n",
       "      <th>7</th>\n",
       "      <td>26</td>\n",
       "      <td>39532251</td>\n",
       "      <td>Middle East respiratory syndrome</td>\n",
       "      <td>http://en.wikipedia.org/?curid=39532251</td>\n",
       "      <td>en</td>\n",
       "      <td>For PCR testing the WHO recommends obtaining s...</td>\n",
       "    </tr>\n",
       "    <tr>\n",
       "      <th>8</th>\n",
       "      <td>21</td>\n",
       "      <td>19572217</td>\n",
       "      <td>Influenza</td>\n",
       "      <td>http://en.wikipedia.org/?curid=19572217</td>\n",
       "      <td>en</td>\n",
       "      <td>Influenza, commonly known as \"the flu\", is an ...</td>\n",
       "    </tr>\n",
       "    <tr>\n",
       "      <th>9</th>\n",
       "      <td>21</td>\n",
       "      <td>4354646</td>\n",
       "      <td>Emergent virus</td>\n",
       "      <td>http://en.wikipedia.org/?curid=4354646</td>\n",
       "      <td>en</td>\n",
       "      <td>An emergent virus is a virus that either has n...</td>\n",
       "    </tr>\n",
       "    <tr>\n",
       "      <th>10</th>\n",
       "      <td>19</td>\n",
       "      <td>63430824</td>\n",
       "      <td>COVID-19 drug repurposing research</td>\n",
       "      <td>http://en.wikipedia.org/?curid=63430824</td>\n",
       "      <td>en</td>\n",
       "      <td>Several existing antiviral medications, previo...</td>\n",
       "    </tr>\n",
       "    <tr>\n",
       "      <th>11</th>\n",
       "      <td>17</td>\n",
       "      <td>29802394</td>\n",
       "      <td>Social history of viruses</td>\n",
       "      <td>http://en.wikipedia.org/?curid=29802394</td>\n",
       "      <td>en</td>\n",
       "      <td>The social history of viruses describes the in...</td>\n",
       "    </tr>\n",
       "    <tr>\n",
       "      <th>12</th>\n",
       "      <td>18</td>\n",
       "      <td>22693252</td>\n",
       "      <td>Feline coronavirus</td>\n",
       "      <td>http://en.wikipedia.org/?curid=22693252</td>\n",
       "      <td>en</td>\n",
       "      <td>Feline coronavirus (FCoV) is a positive-strand...</td>\n",
       "    </tr>\n",
       "    <tr>\n",
       "      <th>13</th>\n",
       "      <td>16</td>\n",
       "      <td>63319438</td>\n",
       "      <td>COVID-19 vaccine</td>\n",
       "      <td>http://en.wikipedia.org/?curid=63319438</td>\n",
       "      <td>en</td>\n",
       "      <td>A COVID-19 vaccine is a hypothetical vaccine a...</td>\n",
       "    </tr>\n",
       "    <tr>\n",
       "      <th>14</th>\n",
       "      <td>14</td>\n",
       "      <td>2717089</td>\n",
       "      <td>Angiotensin-converting enzyme 2</td>\n",
       "      <td>http://en.wikipedia.org/?curid=2717089</td>\n",
       "      <td>en</td>\n",
       "      <td>Angiotensin converting enzyme 2 (ACE2) is an e...</td>\n",
       "    </tr>\n",
       "    <tr>\n",
       "      <th>15</th>\n",
       "      <td>14</td>\n",
       "      <td>477498</td>\n",
       "      <td>Human metapneumovirus</td>\n",
       "      <td>http://en.wikipedia.org/?curid=477498</td>\n",
       "      <td>en</td>\n",
       "      <td>Human metapneumovirus (HMPV) is a negative sin...</td>\n",
       "    </tr>\n",
       "    <tr>\n",
       "      <th>16</th>\n",
       "      <td>13</td>\n",
       "      <td>22677497</td>\n",
       "      <td>Social distancing</td>\n",
       "      <td>http://en.wikipedia.org/?curid=22677497</td>\n",
       "      <td>en</td>\n",
       "      <td>By reducing the probability that a given uninf...</td>\n",
       "    </tr>\n",
       "    <tr>\n",
       "      <th>17</th>\n",
       "      <td>12</td>\n",
       "      <td>63540396</td>\n",
       "      <td>Social distancing/temp</td>\n",
       "      <td>http://en.wikipedia.org/?curid=63540396</td>\n",
       "      <td>en</td>\n",
       "      <td>By reducing the probability that a given uninf...</td>\n",
       "    </tr>\n",
       "    <tr>\n",
       "      <th>18</th>\n",
       "      <td>12</td>\n",
       "      <td>854589</td>\n",
       "      <td>Coronavirus</td>\n",
       "      <td>http://sv.wikipedia.org/?curid=854589</td>\n",
       "      <td>sv</td>\n",
       "      <td>Coronavirus är en virusgrupp som bland annat o...</td>\n",
       "    </tr>\n",
       "    <tr>\n",
       "      <th>19</th>\n",
       "      <td>12</td>\n",
       "      <td>63415676</td>\n",
       "      <td>COVID-19 in pregnancy</td>\n",
       "      <td>http://en.wikipedia.org/?curid=63415676</td>\n",
       "      <td>en</td>\n",
       "      <td>The effect of COVID-19 infection on pregnancy ...</td>\n",
       "    </tr>\n",
       "  </tbody>\n",
       "</table>\n",
       "</div>"
      ],
      "text/plain": [
       "    altmetric_id wikipedia_id  \\\n",
       "0            121     63030231   \n",
       "1             51     62786585   \n",
       "2             47     62750956   \n",
       "3             46       201983   \n",
       "4             40     63676463   \n",
       "5             31       211547   \n",
       "6             27     63435931   \n",
       "7             26     39532251   \n",
       "8             21     19572217   \n",
       "9             21      4354646   \n",
       "10            19     63430824   \n",
       "11            17     29802394   \n",
       "12            18     22693252   \n",
       "13            16     63319438   \n",
       "14            14      2717089   \n",
       "15            14       477498   \n",
       "16            13     22677497   \n",
       "17            12     63540396   \n",
       "18            12       854589   \n",
       "19            12     63415676   \n",
       "\n",
       "                                                title  \\\n",
       "0                            Coronavirus disease 2019   \n",
       "1     Severe acute respiratory syndrome coronavirus 2   \n",
       "2                        2019–20 coronavirus pandemic   \n",
       "3                                         Coronavirus   \n",
       "4                2019–20 coronavirus pandemic/sandbox   \n",
       "5   Severe acute respiratory syndrome-related coro...   \n",
       "6                           COVID-19 drug development   \n",
       "7                    Middle East respiratory syndrome   \n",
       "8                                           Influenza   \n",
       "9                                      Emergent virus   \n",
       "10                 COVID-19 drug repurposing research   \n",
       "11                          Social history of viruses   \n",
       "12                                 Feline coronavirus   \n",
       "13                                   COVID-19 vaccine   \n",
       "14                    Angiotensin-converting enzyme 2   \n",
       "15                              Human metapneumovirus   \n",
       "16                                  Social distancing   \n",
       "17                             Social distancing/temp   \n",
       "18                                        Coronavirus   \n",
       "19                              COVID-19 in pregnancy   \n",
       "\n",
       "                                   page_url lang  \\\n",
       "0   http://en.wikipedia.org/?curid=63030231   en   \n",
       "1   http://en.wikipedia.org/?curid=62786585   en   \n",
       "2   http://en.wikipedia.org/?curid=62750956   en   \n",
       "3     http://en.wikipedia.org/?curid=201983   en   \n",
       "4   http://en.wikipedia.org/?curid=63676463   en   \n",
       "5     http://en.wikipedia.org/?curid=211547   en   \n",
       "6   http://en.wikipedia.org/?curid=63435931   en   \n",
       "7   http://en.wikipedia.org/?curid=39532251   en   \n",
       "8   http://en.wikipedia.org/?curid=19572217   en   \n",
       "9    http://en.wikipedia.org/?curid=4354646   en   \n",
       "10  http://en.wikipedia.org/?curid=63430824   en   \n",
       "11  http://en.wikipedia.org/?curid=29802394   en   \n",
       "12  http://en.wikipedia.org/?curid=22693252   en   \n",
       "13  http://en.wikipedia.org/?curid=63319438   en   \n",
       "14   http://en.wikipedia.org/?curid=2717089   en   \n",
       "15    http://en.wikipedia.org/?curid=477498   en   \n",
       "16  http://en.wikipedia.org/?curid=22677497   en   \n",
       "17  http://en.wikipedia.org/?curid=63540396   en   \n",
       "18    http://sv.wikipedia.org/?curid=854589   sv   \n",
       "19  http://en.wikipedia.org/?curid=63415676   en   \n",
       "\n",
       "                                              summary  \n",
       "0   Recommended measures to prevent infection incl...  \n",
       "1   Severe acute respiratory syndrome coronavirus ...  \n",
       "2   The 2019–20 coronavirus pandemic is an ongoing...  \n",
       "3   Coronaviruses are a group of related viruses t...  \n",
       "4   The 2019–20 coronavirus pandemic is an ongoing...  \n",
       "5   Severe acute respiratory syndrome-related coro...  \n",
       "6   COVID-19 drug development is the research proc...  \n",
       "7   For PCR testing the WHO recommends obtaining s...  \n",
       "8   Influenza, commonly known as \"the flu\", is an ...  \n",
       "9   An emergent virus is a virus that either has n...  \n",
       "10  Several existing antiviral medications, previo...  \n",
       "11  The social history of viruses describes the in...  \n",
       "12  Feline coronavirus (FCoV) is a positive-strand...  \n",
       "13  A COVID-19 vaccine is a hypothetical vaccine a...  \n",
       "14  Angiotensin converting enzyme 2 (ACE2) is an e...  \n",
       "15  Human metapneumovirus (HMPV) is a negative sin...  \n",
       "16  By reducing the probability that a given uninf...  \n",
       "17  By reducing the probability that a given uninf...  \n",
       "18  Coronavirus är en virusgrupp som bland annat o...  \n",
       "19  The effect of COVID-19 infection on pregnancy ...  "
      ]
     },
     "execution_count": 67,
     "metadata": {},
     "output_type": "execute_result"
    }
   ],
   "source": [
    "df_top_citing[[\"altmetric_id\",'wikipedia_id']].merge(df_wikipedia, how=\"left\", right_on=\"wikipedia_id\", left_on=\"wikipedia_id\")[[\"altmetric_id\",\n",
    "    \"wikipedia_id\",\"title\",\"page_url\",\"lang\",\"summary\"]]"
   ]
  },
  {
   "cell_type": "markdown",
   "metadata": {},
   "source": [
    "## Scite"
   ]
  },
  {
   "cell_type": "code",
   "execution_count": 68,
   "metadata": {},
   "outputs": [],
   "source": [
    "df_scite = pd.read_csv(\"../cord-19/datasets/scite-covid-source-tallies.csv\")"
   ]
  },
  {
   "cell_type": "code",
   "execution_count": 69,
   "metadata": {},
   "outputs": [
    {
     "data": {
      "text/html": [
       "<div>\n",
       "<style scoped>\n",
       "    .dataframe tbody tr th:only-of-type {\n",
       "        vertical-align: middle;\n",
       "    }\n",
       "\n",
       "    .dataframe tbody tr th {\n",
       "        vertical-align: top;\n",
       "    }\n",
       "\n",
       "    .dataframe thead th {\n",
       "        text-align: right;\n",
       "    }\n",
       "</style>\n",
       "<table border=\"1\" class=\"dataframe\">\n",
       "  <thead>\n",
       "    <tr style=\"text-align: right;\">\n",
       "      <th></th>\n",
       "      <th>doi</th>\n",
       "      <th>total</th>\n",
       "      <th>supporting</th>\n",
       "      <th>contradicting</th>\n",
       "      <th>mentioning</th>\n",
       "      <th>unclassified</th>\n",
       "    </tr>\n",
       "  </thead>\n",
       "  <tbody>\n",
       "    <tr>\n",
       "      <th>0</th>\n",
       "      <td>10.1001/archinte.168.22.2489</td>\n",
       "      <td>120</td>\n",
       "      <td>9</td>\n",
       "      <td>3</td>\n",
       "      <td>108</td>\n",
       "      <td>0</td>\n",
       "    </tr>\n",
       "    <tr>\n",
       "      <th>1</th>\n",
       "      <td>10.1001/jama.2010.675</td>\n",
       "      <td>188</td>\n",
       "      <td>31</td>\n",
       "      <td>7</td>\n",
       "      <td>150</td>\n",
       "      <td>0</td>\n",
       "    </tr>\n",
       "    <tr>\n",
       "      <th>2</th>\n",
       "      <td>10.1001/jama.2014.2116</td>\n",
       "      <td>9</td>\n",
       "      <td>0</td>\n",
       "      <td>0</td>\n",
       "      <td>9</td>\n",
       "      <td>0</td>\n",
       "    </tr>\n",
       "    <tr>\n",
       "      <th>3</th>\n",
       "      <td>10.1001/jama.2016.17324</td>\n",
       "      <td>121</td>\n",
       "      <td>6</td>\n",
       "      <td>6</td>\n",
       "      <td>109</td>\n",
       "      <td>0</td>\n",
       "    </tr>\n",
       "    <tr>\n",
       "      <th>4</th>\n",
       "      <td>10.1001/jama.2017.8708</td>\n",
       "      <td>6</td>\n",
       "      <td>1</td>\n",
       "      <td>0</td>\n",
       "      <td>5</td>\n",
       "      <td>0</td>\n",
       "    </tr>\n",
       "  </tbody>\n",
       "</table>\n",
       "</div>"
      ],
      "text/plain": [
       "                            doi  total  supporting  contradicting  mentioning  \\\n",
       "0  10.1001/archinte.168.22.2489    120           9              3         108   \n",
       "1         10.1001/jama.2010.675    188          31              7         150   \n",
       "2        10.1001/jama.2014.2116      9           0              0           9   \n",
       "3       10.1001/jama.2016.17324    121           6              6         109   \n",
       "4        10.1001/jama.2017.8708      6           1              0           5   \n",
       "\n",
       "   unclassified  \n",
       "0             0  \n",
       "1             0  \n",
       "2             0  \n",
       "3             0  \n",
       "4             0  "
      ]
     },
     "execution_count": 69,
     "metadata": {},
     "output_type": "execute_result"
    }
   ],
   "source": [
    "df_scite.head()"
   ]
  },
  {
   "cell_type": "code",
   "execution_count": 70,
   "metadata": {},
   "outputs": [
    {
     "data": {
      "text/plain": [
       "27216"
      ]
     },
     "execution_count": 70,
     "metadata": {},
     "output_type": "execute_result"
    }
   ],
   "source": [
    "len(df_scite.doi.unique())"
   ]
  },
  {
   "cell_type": "code",
   "execution_count": 71,
   "metadata": {},
   "outputs": [],
   "source": [
    "df_joined_t = df_joined.merge(df_scite, how='left', left_on=\"doi\", right_on=\"doi\", copy=False)"
   ]
  },
  {
   "cell_type": "code",
   "execution_count": 72,
   "metadata": {},
   "outputs": [
    {
     "data": {
      "text/plain": [
       "(55875, 29)"
      ]
     },
     "execution_count": 72,
     "metadata": {},
     "output_type": "execute_result"
    }
   ],
   "source": [
    "df_joined_t.shape"
   ]
  },
  {
   "cell_type": "code",
   "execution_count": 73,
   "metadata": {},
   "outputs": [],
   "source": [
    "df_altmetrics.pmid = pd.to_numeric(df_altmetrics.pmid)"
   ]
  },
  {
   "cell_type": "code",
   "execution_count": 74,
   "metadata": {},
   "outputs": [],
   "source": [
    "## join with Altmetrics\n",
    "\n",
    "df_tmp_a = df_altmetrics[pd.isnull(df_altmetrics.doi)] \n",
    "df_tmp_j = df_joined_t[pd.isnull(df_joined_t.doi)] \n",
    "df_joined_all = df_joined_t[pd.notnull(df_joined_t.doi)].merge(df_altmetrics[pd.notnull(df_altmetrics.doi)], suffixes=('','_y'), how=\"left\", left_on=\"doi\", right_on=\"doi\")\n",
    "df_joined_all.drop(columns=['pmid_y', 'year_y', 'title_y'],inplace=True)"
   ]
  },
  {
   "cell_type": "code",
   "execution_count": 75,
   "metadata": {},
   "outputs": [],
   "source": [
    "df_joined_tt = df_tmp_j.merge(df_tmp_a, how=\"left\", suffixes=('','_y'), left_on=\"pmid\", right_on=\"pmid\")\n",
    "df_joined_tt.drop(columns=[\"doi_y\", 'year_y', 'title_y'],inplace=True)\n",
    "df_joined_all = pd.concat([df_joined_all,df_joined_tt])\n",
    "df_joined_all.drop_duplicates(\"pub_id\",inplace=True)\n",
    "df_joined_all.reset_index(inplace=True,drop=True)"
   ]
  },
  {
   "cell_type": "code",
   "execution_count": 76,
   "metadata": {},
   "outputs": [
    {
     "data": {
      "text/plain": [
       "(55875, 44)"
      ]
     },
     "execution_count": 76,
     "metadata": {},
     "output_type": "execute_result"
    }
   ],
   "source": [
    "df_joined_all.shape"
   ]
  },
  {
   "cell_type": "code",
   "execution_count": 77,
   "metadata": {},
   "outputs": [
    {
     "data": {
      "text/plain": [
       "Index(['pub_id', 'title', 'abstract', 'publication_year', 'publication_month',\n",
       "       'journal', 'volume', 'issue', 'pages', 'doi', 'pmid', 'pmcid',\n",
       "       'dimensions_id', 'timestamp', 'id', 'year', 'month', 'publication_date',\n",
       "       'publication_type', 'issn', 'times_cited', 'relative_citation_ratio',\n",
       "       'for_top', 'for_bottom', 'total', 'supporting', 'contradicting',\n",
       "       'mentioning', 'unclassified', 'altmetric_id', 'counts_mendeley',\n",
       "       'counts_news', 'counts_blogs', 'counts_facebook', 'counts_policy',\n",
       "       'counts_wikipedia', 'counts_twitter_count', 'counts_twitter_unique',\n",
       "       'counts_total', 'altmetric_score', 'member_of_the_public', 'researcher',\n",
       "       'practitioner', 'science_communicator'],\n",
       "      dtype='object')"
      ]
     },
     "execution_count": 77,
     "metadata": {},
     "output_type": "execute_result"
    }
   ],
   "source": [
    "df_joined_all.columns"
   ]
  },
  {
   "cell_type": "code",
   "execution_count": 78,
   "metadata": {},
   "outputs": [
    {
     "data": {
      "text/html": [
       "<div>\n",
       "<style scoped>\n",
       "    .dataframe tbody tr th:only-of-type {\n",
       "        vertical-align: middle;\n",
       "    }\n",
       "\n",
       "    .dataframe tbody tr th {\n",
       "        vertical-align: top;\n",
       "    }\n",
       "\n",
       "    .dataframe thead th {\n",
       "        text-align: right;\n",
       "    }\n",
       "</style>\n",
       "<table border=\"1\" class=\"dataframe\">\n",
       "  <thead>\n",
       "    <tr style=\"text-align: right;\">\n",
       "      <th></th>\n",
       "      <th>pub_id</th>\n",
       "      <th>title</th>\n",
       "      <th>abstract</th>\n",
       "      <th>publication_year</th>\n",
       "      <th>publication_month</th>\n",
       "      <th>journal</th>\n",
       "      <th>volume</th>\n",
       "      <th>issue</th>\n",
       "      <th>pages</th>\n",
       "      <th>doi</th>\n",
       "      <th>...</th>\n",
       "      <th>counts_policy</th>\n",
       "      <th>counts_wikipedia</th>\n",
       "      <th>counts_twitter_count</th>\n",
       "      <th>counts_twitter_unique</th>\n",
       "      <th>counts_total</th>\n",
       "      <th>altmetric_score</th>\n",
       "      <th>member_of_the_public</th>\n",
       "      <th>researcher</th>\n",
       "      <th>practitioner</th>\n",
       "      <th>science_communicator</th>\n",
       "    </tr>\n",
       "  </thead>\n",
       "  <tbody>\n",
       "    <tr>\n",
       "      <th>28496</th>\n",
       "      <td>29534</td>\n",
       "      <td>Clinical Characteristics of Covid-19 in China.</td>\n",
       "      <td>NaN</td>\n",
       "      <td>2020.0</td>\n",
       "      <td>3.0</td>\n",
       "      <td>New England Journal of Medicine</td>\n",
       "      <td>382</td>\n",
       "      <td>NaN</td>\n",
       "      <td>NaN</td>\n",
       "      <td>10.1056/nejmc2005203</td>\n",
       "      <td>...</td>\n",
       "      <td>0.0</td>\n",
       "      <td>0.0</td>\n",
       "      <td>363.0</td>\n",
       "      <td>346.0</td>\n",
       "      <td>367.0</td>\n",
       "      <td>285.0</td>\n",
       "      <td>250.0</td>\n",
       "      <td>46.0</td>\n",
       "      <td>39.0</td>\n",
       "      <td>11.0</td>\n",
       "    </tr>\n",
       "  </tbody>\n",
       "</table>\n",
       "<p>1 rows × 44 columns</p>\n",
       "</div>"
      ],
      "text/plain": [
       "       pub_id                                           title abstract  \\\n",
       "28496   29534  Clinical Characteristics of Covid-19 in China.      NaN   \n",
       "\n",
       "       publication_year  publication_month                          journal  \\\n",
       "28496            2020.0                3.0  New England Journal of Medicine   \n",
       "\n",
       "      volume issue pages                   doi  ...  counts_policy  \\\n",
       "28496    382   NaN   NaN  10.1056/nejmc2005203  ...            0.0   \n",
       "\n",
       "      counts_wikipedia counts_twitter_count counts_twitter_unique  \\\n",
       "28496              0.0                363.0                 346.0   \n",
       "\n",
       "      counts_total  altmetric_score  member_of_the_public researcher  \\\n",
       "28496        367.0            285.0                 250.0       46.0   \n",
       "\n",
       "      practitioner science_communicator  \n",
       "28496         39.0                 11.0  \n",
       "\n",
       "[1 rows x 44 columns]"
      ]
     },
     "execution_count": 78,
     "metadata": {},
     "output_type": "execute_result"
    }
   ],
   "source": [
    "df_joined_all[df_joined_all.pub_id==29534]"
   ]
  },
  {
   "cell_type": "code",
   "execution_count": 79,
   "metadata": {},
   "outputs": [],
   "source": [
    "df_joined_all[\"in_wikipedia\"] = df_joined_all[\"counts_wikipedia\"]>0"
   ]
  },
  {
   "cell_type": "code",
   "execution_count": 80,
   "metadata": {},
   "outputs": [],
   "source": [
    "# Profiling"
   ]
  },
  {
   "cell_type": "code",
   "execution_count": 81,
   "metadata": {},
   "outputs": [],
   "source": [
    "from pandas_profiling import ProfileReport\n",
    "which_columns = ['publication_year', 'publication_month',\n",
    "       'journal', 'times_cited', 'relative_citation_ratio',\n",
    "       'supporting',\n",
    "       'contradicting', 'mentioning', \n",
    "       'counts_mendeley', 'counts_news', 'counts_blogs', 'counts_facebook',\n",
    "       'counts_policy', 'counts_wikipedia', 'counts_twitter_count',\n",
    "       'counts_twitter_unique', 'counts_total', 'altmetric_score',\n",
    "       'member_of_the_public', 'researcher', 'practitioner',\n",
    "       'science_communicator', 'in_wikipedia']"
   ]
  },
  {
   "cell_type": "code",
   "execution_count": 82,
   "metadata": {},
   "outputs": [],
   "source": [
    "profile = ProfileReport(df_joined_all[which_columns], title='Pandas Profiling Report', html={'style':{'full_width':True}})"
   ]
  },
  {
   "cell_type": "code",
   "execution_count": 83,
   "metadata": {
    "scrolled": false
   },
   "outputs": [
    {
     "data": {
      "application/vnd.jupyter.widget-view+json": {
       "model_id": "7adc35c07f104180b988d300907141c6",
       "version_major": 2,
       "version_minor": 0
      },
      "text/plain": [
       "Tab(children=(HTML(value='<div id=\"overview-content\" class=\"row variable spacing\">\\n    <div class=\"row\">\\n   …"
      ]
     },
     "metadata": {},
     "output_type": "display_data"
    },
    {
     "data": {
      "text/html": [
       "Report generated with <a href=\"https://github.com/pandas-profiling/pandas-profiling\">pandas-profiling</a>."
      ],
      "text/plain": [
       "<IPython.core.display.HTML object>"
      ]
     },
     "metadata": {},
     "output_type": "display_data"
    }
   ],
   "source": [
    "profile.to_widgets()"
   ]
  },
  {
   "cell_type": "code",
   "execution_count": 84,
   "metadata": {},
   "outputs": [],
   "source": [
    "# save to disk\n",
    "\n",
    "df_joined_all.to_csv(\"data/df_joined_all.csv\", compression=\"gzip\", index=False)"
   ]
  },
  {
   "cell_type": "code",
   "execution_count": 85,
   "metadata": {},
   "outputs": [
    {
     "data": {
      "image/png": "[encoded data removed]",
      "text/plain": [
       "<Figure size 576x396 with 1 Axes>"
      ]
     },
     "metadata": {},
     "output_type": "display_data"
    }
   ],
   "source": [
    "# scatter of citations vs time of publication\n",
    "\n",
    "since_when = 1999\n",
    "\n",
    "sns.scatterplot(x='publication_year',y='times_cited', hue='in_wikipedia', data=df_joined_all[df_joined_all.publication_year>since_when])\n",
    "plt.xlabel(\"Year\", fontsize=15)\n",
    "plt.ylabel(\"Count\", fontsize=15)\n",
    "plt.tight_layout()\n",
    "#plt.savefig(\"figures/dim_citations_year.pdf\")"
   ]
  },
  {
   "cell_type": "code",
   "execution_count": 86,
   "metadata": {},
   "outputs": [
    {
     "data": {
      "text/plain": [
       "<matplotlib.axes._subplots.AxesSubplot at 0x1b429cb5d0>"
      ]
     },
     "execution_count": 86,
     "metadata": {},
     "output_type": "execute_result"
    },
    {
     "data": {
      "image/png": "[encoded data removed]",
      "text/plain": [
       "<Figure size 576x396 with 1 Axes>"
      ]
     },
     "metadata": {},
     "output_type": "display_data"
    }
   ],
   "source": [
    "sns.regplot(x='counts_wikipedia', y='times_cited', data=df_joined_all[df_joined_all.publication_year>since_when])"
   ]
  },
  {
   "cell_type": "code",
   "execution_count": 87,
   "metadata": {},
   "outputs": [
    {
     "data": {
      "text/plain": [
       "<matplotlib.axes._subplots.AxesSubplot at 0x1b3373b790>"
      ]
     },
     "execution_count": 87,
     "metadata": {},
     "output_type": "execute_result"
    },
    {
     "data": {
      "image/png": "[encoded data removed]",
      "text/plain": [
       "<Figure size 576x396 with 1 Axes>"
      ]
     },
     "metadata": {},
     "output_type": "display_data"
    }
   ],
   "source": [
    "sns.regplot(x='counts_wikipedia', y='counts_twitter_count', data=df_joined_all[df_joined_all.publication_year>since_when])"
   ]
  },
  {
   "cell_type": "code",
   "execution_count": 88,
   "metadata": {},
   "outputs": [
    {
     "data": {
      "image/png": "[encoded data removed]",
      "text/plain": [
       "<Figure size 1260x1260 with 56 Axes>"
      ]
     },
     "metadata": {},
     "output_type": "display_data"
    }
   ],
   "source": [
    "sns.pairplot(df_joined_all[[\"publication_year\",\"supporting\",\"contradicting\",\"mentioning\",\"counts_wikipedia\",\"counts_twitter_count\",\"times_cited\"]]);\n"
   ]
  },
  {
   "cell_type": "code",
   "execution_count": null,
   "metadata": {},
   "outputs": [],
   "source": []
  },
  {
   "cell_type": "code",
   "execution_count": 89,
   "metadata": {},
   "outputs": [],
   "source": [
    "# regression experiments"
   ]
  },
  {
   "cell_type": "code",
   "execution_count": 90,
   "metadata": {},
   "outputs": [
    {
     "data": {
      "text/plain": [
       "['publication_year',\n",
       " 'publication_month',\n",
       " 'journal',\n",
       " 'times_cited',\n",
       " 'relative_citation_ratio',\n",
       " 'supporting',\n",
       " 'contradicting',\n",
       " 'mentioning',\n",
       " 'counts_mendeley',\n",
       " 'counts_news',\n",
       " 'counts_blogs',\n",
       " 'counts_facebook',\n",
       " 'counts_policy',\n",
       " 'counts_wikipedia',\n",
       " 'counts_twitter_count',\n",
       " 'counts_twitter_unique',\n",
       " 'counts_total',\n",
       " 'altmetric_score',\n",
       " 'member_of_the_public',\n",
       " 'researcher',\n",
       " 'practitioner',\n",
       " 'science_communicator',\n",
       " 'in_wikipedia']"
      ]
     },
     "execution_count": 90,
     "metadata": {},
     "output_type": "execute_result"
    }
   ],
   "source": [
    "which_columns"
   ]
  },
  {
   "cell_type": "code",
   "execution_count": 148,
   "metadata": {},
   "outputs": [],
   "source": [
    "def to_log(n):\n",
    "    if not n:\n",
    "        n=0\n",
    "    return np.log(n+1)"
   ]
  },
  {
   "cell_type": "code",
   "execution_count": 149,
   "metadata": {},
   "outputs": [],
   "source": [
    "import statsmodels.api as sm\n",
    "from statsmodels.formula.api import logit"
   ]
  },
  {
   "cell_type": "code",
   "execution_count": 150,
   "metadata": {},
   "outputs": [],
   "source": [
    "# add default values of zeros"
   ]
  },
  {
   "cell_type": "code",
   "execution_count": 162,
   "metadata": {},
   "outputs": [],
   "source": [
    "df_reg = df_joined_all[which_columns]\n",
    "df_reg['in_wikipedia'] = df_reg['in_wikipedia'].astype(int)\n",
    "df_reg[pd.isnull(df_reg.mentioning)]['mentioning'] = df_reg[pd.isnull(df_reg.mentioning)]['times_cited']\n",
    "df_reg['times_cited'] = df_reg['times_cited'].apply(to_log)\n",
    "df_reg['relative_citation_ratio'] = df_reg['relative_citation_ratio']#.apply(to_log)\n",
    "df_reg['counts_blogs'] = df_reg['counts_blogs'].apply(to_log)\n",
    "df_reg['counts_mendeley'] = df_reg['counts_mendeley'].apply(to_log)\n",
    "df_reg['counts_news'] = df_reg['counts_news'].apply(to_log)\n",
    "df_reg['counts_policy'] = df_reg['counts_policy'].apply(to_log)\n",
    "df_reg['counts_facebook'] = df_reg['counts_facebook'].apply(to_log)\n",
    "df_reg['counts_twitter_unique'] = df_reg['counts_twitter_unique'].apply(to_log)\n",
    "df_reg['supporting_ratio'] = df_reg['supporting']/(df_reg['supporting']+df_reg['mentioning'])\n",
    "df_reg['contradicting_ratio'] = df_reg['contradicting']/(df_reg['contradicting']+df_reg['mentioning'])\n",
    "df_reg['researcher_ratio'] = df_reg['researcher']/(df_reg['researcher']+df_reg['member_of_the_public'])\n",
    "df_reg['science_communicator_ratio'] = df_reg['science_communicator']/(df_reg['science_communicator']+df_reg['member_of_the_public'])\n",
    "df_reg['expert_ratio'] = (df_reg['researcher']+df_reg['practitioner']+df_reg['science_communicator'])/(df_reg['researcher']+df_reg['practitioner']+df_reg['science_communicator']+df_reg['member_of_the_public'])"
   ]
  },
  {
   "cell_type": "code",
   "execution_count": 163,
   "metadata": {},
   "outputs": [],
   "source": [
    "regr_columns = [\n",
    " 'times_cited',\n",
    " 'relative_citation_ratio',\n",
    " 'supporting',\n",
    " 'contradicting',\n",
    " 'mentioning',\n",
    " 'counts_mendeley',\n",
    " 'counts_news',\n",
    " 'counts_blogs',\n",
    " 'counts_facebook',\n",
    " 'counts_policy',\n",
    " 'counts_wikipedia',\n",
    " 'counts_twitter_count',\n",
    " 'counts_twitter_unique',\n",
    " 'counts_total',\n",
    " 'altmetric_score',\n",
    " 'member_of_the_public',\n",
    " 'researcher',\n",
    " 'practitioner',\n",
    " 'science_communicator','supporting_ratio','contradicting_ratio','researcher_ratio','science_communicator_ratio','expert_ratio']\n",
    "\n",
    "df_reg[regr_columns] = df_reg[regr_columns].fillna(0)"
   ]
  },
  {
   "cell_type": "code",
   "execution_count": 164,
   "metadata": {},
   "outputs": [
    {
     "data": {
      "text/plain": [
       "(15902, 28)"
      ]
     },
     "execution_count": 164,
     "metadata": {},
     "output_type": "execute_result"
    }
   ],
   "source": [
    "df_reg[df_reg['expert_ratio']>0].shape"
   ]
  },
  {
   "cell_type": "code",
   "execution_count": 165,
   "metadata": {},
   "outputs": [
    {
     "data": {
      "text/html": [
       "<div>\n",
       "<style scoped>\n",
       "    .dataframe tbody tr th:only-of-type {\n",
       "        vertical-align: middle;\n",
       "    }\n",
       "\n",
       "    .dataframe tbody tr th {\n",
       "        vertical-align: top;\n",
       "    }\n",
       "\n",
       "    .dataframe thead th {\n",
       "        text-align: right;\n",
       "    }\n",
       "</style>\n",
       "<table border=\"1\" class=\"dataframe\">\n",
       "  <thead>\n",
       "    <tr style=\"text-align: right;\">\n",
       "      <th></th>\n",
       "      <th>publication_year</th>\n",
       "      <th>publication_month</th>\n",
       "      <th>journal</th>\n",
       "      <th>times_cited</th>\n",
       "      <th>relative_citation_ratio</th>\n",
       "      <th>supporting</th>\n",
       "      <th>contradicting</th>\n",
       "      <th>mentioning</th>\n",
       "      <th>counts_mendeley</th>\n",
       "      <th>counts_news</th>\n",
       "      <th>...</th>\n",
       "      <th>member_of_the_public</th>\n",
       "      <th>researcher</th>\n",
       "      <th>practitioner</th>\n",
       "      <th>science_communicator</th>\n",
       "      <th>in_wikipedia</th>\n",
       "      <th>supporting_ratio</th>\n",
       "      <th>contradicting_ratio</th>\n",
       "      <th>researcher_ratio</th>\n",
       "      <th>science_communicator_ratio</th>\n",
       "      <th>expert_ratio</th>\n",
       "    </tr>\n",
       "  </thead>\n",
       "  <tbody>\n",
       "    <tr>\n",
       "      <th>55870</th>\n",
       "      <td>1998.0</td>\n",
       "      <td>7.0</td>\n",
       "      <td>NaN</td>\n",
       "      <td>1.609438</td>\n",
       "      <td>0.18</td>\n",
       "      <td>0.0</td>\n",
       "      <td>0.0</td>\n",
       "      <td>0.0</td>\n",
       "      <td>0.0</td>\n",
       "      <td>0.0</td>\n",
       "      <td>...</td>\n",
       "      <td>0.0</td>\n",
       "      <td>0.0</td>\n",
       "      <td>0.0</td>\n",
       "      <td>0.0</td>\n",
       "      <td>0</td>\n",
       "      <td>0.0</td>\n",
       "      <td>0.0</td>\n",
       "      <td>0.0</td>\n",
       "      <td>0.0</td>\n",
       "      <td>0.0</td>\n",
       "    </tr>\n",
       "    <tr>\n",
       "      <th>55871</th>\n",
       "      <td>1976.0</td>\n",
       "      <td>10.0</td>\n",
       "      <td>NaN</td>\n",
       "      <td>4.718499</td>\n",
       "      <td>0.00</td>\n",
       "      <td>0.0</td>\n",
       "      <td>0.0</td>\n",
       "      <td>0.0</td>\n",
       "      <td>0.0</td>\n",
       "      <td>0.0</td>\n",
       "      <td>...</td>\n",
       "      <td>0.0</td>\n",
       "      <td>0.0</td>\n",
       "      <td>0.0</td>\n",
       "      <td>0.0</td>\n",
       "      <td>0</td>\n",
       "      <td>0.0</td>\n",
       "      <td>0.0</td>\n",
       "      <td>0.0</td>\n",
       "      <td>0.0</td>\n",
       "      <td>0.0</td>\n",
       "    </tr>\n",
       "    <tr>\n",
       "      <th>55872</th>\n",
       "      <td>1998.0</td>\n",
       "      <td>7.0</td>\n",
       "      <td>NaN</td>\n",
       "      <td>2.197225</td>\n",
       "      <td>1.31</td>\n",
       "      <td>0.0</td>\n",
       "      <td>0.0</td>\n",
       "      <td>0.0</td>\n",
       "      <td>0.0</td>\n",
       "      <td>0.0</td>\n",
       "      <td>...</td>\n",
       "      <td>0.0</td>\n",
       "      <td>0.0</td>\n",
       "      <td>0.0</td>\n",
       "      <td>0.0</td>\n",
       "      <td>0</td>\n",
       "      <td>0.0</td>\n",
       "      <td>0.0</td>\n",
       "      <td>0.0</td>\n",
       "      <td>0.0</td>\n",
       "      <td>0.0</td>\n",
       "    </tr>\n",
       "    <tr>\n",
       "      <th>55873</th>\n",
       "      <td>1998.0</td>\n",
       "      <td>10.0</td>\n",
       "      <td>NaN</td>\n",
       "      <td>3.367296</td>\n",
       "      <td>2.16</td>\n",
       "      <td>0.0</td>\n",
       "      <td>0.0</td>\n",
       "      <td>0.0</td>\n",
       "      <td>0.0</td>\n",
       "      <td>0.0</td>\n",
       "      <td>...</td>\n",
       "      <td>0.0</td>\n",
       "      <td>0.0</td>\n",
       "      <td>0.0</td>\n",
       "      <td>0.0</td>\n",
       "      <td>0</td>\n",
       "      <td>0.0</td>\n",
       "      <td>0.0</td>\n",
       "      <td>0.0</td>\n",
       "      <td>0.0</td>\n",
       "      <td>0.0</td>\n",
       "    </tr>\n",
       "    <tr>\n",
       "      <th>55874</th>\n",
       "      <td>1998.0</td>\n",
       "      <td>10.0</td>\n",
       "      <td>NaN</td>\n",
       "      <td>2.484907</td>\n",
       "      <td>0.35</td>\n",
       "      <td>0.0</td>\n",
       "      <td>0.0</td>\n",
       "      <td>0.0</td>\n",
       "      <td>0.0</td>\n",
       "      <td>0.0</td>\n",
       "      <td>...</td>\n",
       "      <td>0.0</td>\n",
       "      <td>0.0</td>\n",
       "      <td>0.0</td>\n",
       "      <td>0.0</td>\n",
       "      <td>0</td>\n",
       "      <td>0.0</td>\n",
       "      <td>0.0</td>\n",
       "      <td>0.0</td>\n",
       "      <td>0.0</td>\n",
       "      <td>0.0</td>\n",
       "    </tr>\n",
       "  </tbody>\n",
       "</table>\n",
       "<p>5 rows × 28 columns</p>\n",
       "</div>"
      ],
      "text/plain": [
       "       publication_year  publication_month journal  times_cited  \\\n",
       "55870            1998.0                7.0     NaN     1.609438   \n",
       "55871            1976.0               10.0     NaN     4.718499   \n",
       "55872            1998.0                7.0     NaN     2.197225   \n",
       "55873            1998.0               10.0     NaN     3.367296   \n",
       "55874            1998.0               10.0     NaN     2.484907   \n",
       "\n",
       "       relative_citation_ratio  supporting  contradicting  mentioning  \\\n",
       "55870                     0.18         0.0            0.0         0.0   \n",
       "55871                     0.00         0.0            0.0         0.0   \n",
       "55872                     1.31         0.0            0.0         0.0   \n",
       "55873                     2.16         0.0            0.0         0.0   \n",
       "55874                     0.35         0.0            0.0         0.0   \n",
       "\n",
       "       counts_mendeley  counts_news  ...  member_of_the_public  researcher  \\\n",
       "55870              0.0          0.0  ...                   0.0         0.0   \n",
       "55871              0.0          0.0  ...                   0.0         0.0   \n",
       "55872              0.0          0.0  ...                   0.0         0.0   \n",
       "55873              0.0          0.0  ...                   0.0         0.0   \n",
       "55874              0.0          0.0  ...                   0.0         0.0   \n",
       "\n",
       "       practitioner  science_communicator  in_wikipedia  supporting_ratio  \\\n",
       "55870           0.0                   0.0             0               0.0   \n",
       "55871           0.0                   0.0             0               0.0   \n",
       "55872           0.0                   0.0             0               0.0   \n",
       "55873           0.0                   0.0             0               0.0   \n",
       "55874           0.0                   0.0             0               0.0   \n",
       "\n",
       "       contradicting_ratio  researcher_ratio  science_communicator_ratio  \\\n",
       "55870                  0.0               0.0                         0.0   \n",
       "55871                  0.0               0.0                         0.0   \n",
       "55872                  0.0               0.0                         0.0   \n",
       "55873                  0.0               0.0                         0.0   \n",
       "55874                  0.0               0.0                         0.0   \n",
       "\n",
       "       expert_ratio  \n",
       "55870           0.0  \n",
       "55871           0.0  \n",
       "55872           0.0  \n",
       "55873           0.0  \n",
       "55874           0.0  \n",
       "\n",
       "[5 rows x 28 columns]"
      ]
     },
     "execution_count": 165,
     "metadata": {},
     "output_type": "execute_result"
    }
   ],
   "source": [
    "df_reg.tail()"
   ]
  },
  {
   "cell_type": "code",
   "execution_count": 166,
   "metadata": {},
   "outputs": [],
   "source": [
    "top_journals = df_reg.journal.value_counts()[:20].index\n",
    "def top_journal(j):\n",
    "    if j in top_journals:\n",
    "        return \"_\".join(j.split())\n",
    "    return \"OTHER\"\n",
    "\n",
    "df_reg[\"top_j\"] = df_reg.journal.apply(top_journal)"
   ]
  },
  {
   "cell_type": "code",
   "execution_count": 167,
   "metadata": {},
   "outputs": [
    {
     "data": {
      "text/plain": [
       "OTHER                             42745\n",
       "Journal_of_Virology                1758\n",
       "PLoS_One                           1558\n",
       "medRxiv                            1227\n",
       "Virology                            866\n",
       "SSRN_Electronic_Journal             799\n",
       "Emerg_Infect_Dis                    737\n",
       "The_Lancet                          652\n",
       "Viruses                             577\n",
       "Arch_Virol                          501\n",
       "Vaccine                             484\n",
       "Sci_Rep                             480\n",
       "Virus_Research                      479\n",
       "Veterinary_Microbiology             443\n",
       "Journal_of_Clinical_Virology        393\n",
       "The_Lancet_Infectious_Diseases      384\n",
       "Journal_of_Virological_Methods      382\n",
       "PLoS_Pathog                         357\n",
       "Virol_J                             356\n",
       "Antiviral_Research                  352\n",
       "bioRxiv                             345\n",
       "Name: top_j, dtype: int64"
      ]
     },
     "execution_count": 167,
     "metadata": {},
     "output_type": "execute_result"
    }
   ],
   "source": [
    "df_reg[\"top_j\"].value_counts()"
   ]
  },
  {
   "cell_type": "code",
   "execution_count": 173,
   "metadata": {},
   "outputs": [
    {
     "name": "stdout",
     "output_type": "stream",
     "text": [
      "Optimization terminated successfully.\n",
      "         Current function value: 0.116922\n",
      "         Iterations 10\n"
     ]
    }
   ],
   "source": [
    "test_mod = logit(\"in_wikipedia ~ publication_year + times_cited + counts_mendeley + counts_blogs + counts_policy\"\n",
    "                   \"+ counts_twitter_unique + counts_news + counts_facebook + expert_ratio + supporting_ratio + contradicting_ratio\"\n",
    "                  \"+ C(top_j)\", df_reg).fit()"
   ]
  },
  {
   "cell_type": "code",
   "execution_count": 174,
   "metadata": {},
   "outputs": [
    {
     "name": "stdout",
     "output_type": "stream",
     "text": [
      "                           Logit Regression Results                           \n",
      "==============================================================================\n",
      "Dep. Variable:           in_wikipedia   No. Observations:                55871\n",
      "Model:                          Logit   Df Residuals:                    55839\n",
      "Method:                           MLE   Df Model:                           31\n",
      "Date:                Wed, 22 Apr 2020   Pseudo R-squ.:                  0.2436\n",
      "Time:                        09:58:09   Log-Likelihood:                -6532.5\n",
      "converged:                       True   LL-Null:                       -8636.7\n",
      "Covariance Type:            nonrobust   LLR p-value:                     0.000\n",
      "==============================================================================================================\n",
      "                                                 coef    std err          z      P>|z|      [0.025      0.975]\n",
      "--------------------------------------------------------------------------------------------------------------\n",
      "Intercept                                      0.6944      9.873      0.070      0.944     -18.656      20.045\n",
      "C(top_j)[T.Arch_Virol]                        -1.1769      0.420     -2.801      0.005      -2.000      -0.354\n",
      "C(top_j)[T.Emerg_Infect_Dis]                  -0.9308      0.268     -3.470      0.001      -1.457      -0.405\n",
      "C(top_j)[T.Journal_of_Clinical_Virology]      -1.2421      0.505     -2.458      0.014      -2.233      -0.251\n",
      "C(top_j)[T.Journal_of_Virological_Methods]    -1.9188      0.627     -3.058      0.002      -3.149      -0.689\n",
      "C(top_j)[T.Journal_of_Virology]               -0.5644      0.239     -2.364      0.018      -1.032      -0.097\n",
      "C(top_j)[T.OTHER]                             -0.7506      0.216     -3.480      0.001      -1.173      -0.328\n",
      "C(top_j)[T.PLoS_One]                          -1.1427      0.265     -4.304      0.000      -1.663      -0.622\n",
      "C(top_j)[T.PLoS_Pathog]                       -0.5427      0.284     -1.914      0.056      -1.098       0.013\n",
      "C(top_j)[T.SSRN_Electronic_Journal]           -1.7521      0.758     -2.312      0.021      -3.237      -0.267\n",
      "C(top_j)[T.Sci_Rep]                           -1.2725      0.363     -3.505      0.000      -1.984      -0.561\n",
      "C(top_j)[T.The_Lancet]                        -0.4752      0.268     -1.772      0.076      -1.001       0.050\n",
      "C(top_j)[T.The_Lancet_Infectious_Diseases]    -0.8458      0.319     -2.648      0.008      -1.472      -0.220\n",
      "C(top_j)[T.Vaccine]                           -1.4822      0.441     -3.358      0.001      -2.347      -0.617\n",
      "C(top_j)[T.Veterinary_Microbiology]           -0.9694      0.420     -2.311      0.021      -1.792      -0.147\n",
      "C(top_j)[T.Virol_J]                           -0.8957      0.374     -2.398      0.017      -1.628      -0.163\n",
      "C(top_j)[T.Virology]                          -0.6928      0.286     -2.421      0.015      -1.254      -0.132\n",
      "C(top_j)[T.Virus_Research]                    -0.5659      0.338     -1.675      0.094      -1.228       0.096\n",
      "C(top_j)[T.Viruses]                           -0.1787      0.283     -0.632      0.528      -0.733       0.376\n",
      "C(top_j)[T.bioRxiv]                           -0.4823      0.356     -1.353      0.176      -1.181       0.216\n",
      "C(top_j)[T.medRxiv]                           -3.3012      0.629     -5.248      0.000      -4.534      -2.068\n",
      "publication_year                              -0.0028      0.005     -0.565      0.572      -0.012       0.007\n",
      "times_cited                                    0.4629      0.025     18.586      0.000       0.414       0.512\n",
      "counts_mendeley                                0.2946      0.018     16.828      0.000       0.260       0.329\n",
      "counts_blogs                                   0.3405      0.064      5.324      0.000       0.215       0.466\n",
      "counts_policy                                 -0.0100      0.067     -0.149      0.881      -0.141       0.121\n",
      "counts_twitter_unique                          0.3539      0.022     16.154      0.000       0.311       0.397\n",
      "counts_news                                    0.1872      0.037      5.035      0.000       0.114       0.260\n",
      "counts_facebook                               -0.1991      0.054     -3.659      0.000      -0.306      -0.092\n",
      "expert_ratio                                  -0.6757      0.123     -5.485      0.000      -0.917      -0.434\n",
      "supporting_ratio                              -2.7201      0.588     -4.626      0.000      -3.873      -1.568\n",
      "contradicting_ratio                           -5.3102      2.212     -2.401      0.016      -9.646      -0.975\n",
      "==============================================================================================================\n"
     ]
    }
   ],
   "source": [
    "print(test_mod.summary())"
   ]
  },
  {
   "cell_type": "code",
   "execution_count": 175,
   "metadata": {},
   "outputs": [
    {
     "data": {
      "text/plain": [
       "array([[53727.,   140.],\n",
       "       [ 1806.,   198.]])"
      ]
     },
     "execution_count": 175,
     "metadata": {},
     "output_type": "execute_result"
    }
   ],
   "source": [
    "test_mod.pred_table()"
   ]
  },
  {
   "cell_type": "code",
   "execution_count": 176,
   "metadata": {},
   "outputs": [
    {
     "name": "stdout",
     "output_type": "stream",
     "text": [
      "        Logit Marginal Effects       \n",
      "=====================================\n",
      "Dep. Variable:           in_wikipedia\n",
      "Method:                          dydx\n",
      "At:                           overall\n",
      "==============================================================================================================\n",
      "                                                dy/dx    std err          z      P>|z|      [0.025      0.975]\n",
      "--------------------------------------------------------------------------------------------------------------\n",
      "C(top_j)[T.Arch_Virol]                        -0.0342      0.012     -2.799      0.005      -0.058      -0.010\n",
      "C(top_j)[T.Emerg_Infect_Dis]                  -0.0270      0.008     -3.468      0.001      -0.042      -0.012\n",
      "C(top_j)[T.Journal_of_Clinical_Virology]      -0.0361      0.015     -2.456      0.014      -0.065      -0.007\n",
      "C(top_j)[T.Journal_of_Virological_Methods]    -0.0557      0.018     -3.055      0.002      -0.092      -0.020\n",
      "C(top_j)[T.Journal_of_Virology]               -0.0164      0.007     -2.363      0.018      -0.030      -0.003\n",
      "C(top_j)[T.OTHER]                             -0.0218      0.006     -3.477      0.001      -0.034      -0.010\n",
      "C(top_j)[T.PLoS_One]                          -0.0332      0.008     -4.298      0.000      -0.048      -0.018\n",
      "C(top_j)[T.PLoS_Pathog]                       -0.0158      0.008     -1.913      0.056      -0.032       0.000\n",
      "C(top_j)[T.SSRN_Electronic_Journal]           -0.0509      0.022     -2.310      0.021      -0.094      -0.008\n",
      "C(top_j)[T.Sci_Rep]                           -0.0370      0.011     -3.501      0.000      -0.058      -0.016\n",
      "C(top_j)[T.The_Lancet]                        -0.0138      0.008     -1.772      0.076      -0.029       0.001\n",
      "C(top_j)[T.The_Lancet_Infectious_Diseases]    -0.0246      0.009     -2.647      0.008      -0.043      -0.006\n",
      "C(top_j)[T.Vaccine]                           -0.0431      0.013     -3.354      0.001      -0.068      -0.018\n",
      "C(top_j)[T.Veterinary_Microbiology]           -0.0282      0.012     -2.310      0.021      -0.052      -0.004\n",
      "C(top_j)[T.Virol_J]                           -0.0260      0.011     -2.396      0.017      -0.047      -0.005\n",
      "C(top_j)[T.Virology]                          -0.0201      0.008     -2.420      0.016      -0.036      -0.004\n",
      "C(top_j)[T.Virus_Research]                    -0.0164      0.010     -1.675      0.094      -0.036       0.003\n",
      "C(top_j)[T.Viruses]                           -0.0052      0.008     -0.632      0.528      -0.021       0.011\n",
      "C(top_j)[T.bioRxiv]                           -0.0140      0.010     -1.353      0.176      -0.034       0.006\n",
      "C(top_j)[T.medRxiv]                           -0.0959      0.018     -5.234      0.000      -0.132      -0.060\n",
      "publication_year                           -8.045e-05      0.000     -0.565      0.572      -0.000       0.000\n",
      "times_cited                                    0.0134      0.001     18.004      0.000       0.012       0.015\n",
      "counts_mendeley                                0.0086      0.001     16.337      0.000       0.008       0.010\n",
      "counts_blogs                                   0.0099      0.002      5.332      0.000       0.006       0.014\n",
      "counts_policy                                 -0.0003      0.002     -0.149      0.881      -0.004       0.004\n",
      "counts_twitter_unique                          0.0103      0.001     15.730      0.000       0.009       0.012\n",
      "counts_news                                    0.0054      0.001      5.032      0.000       0.003       0.008\n",
      "counts_facebook                               -0.0058      0.002     -3.650      0.000      -0.009      -0.003\n",
      "expert_ratio                                  -0.0196      0.004     -5.472      0.000      -0.027      -0.013\n",
      "supporting_ratio                              -0.0790      0.017     -4.616      0.000      -0.113      -0.045\n",
      "contradicting_ratio                           -0.1543      0.064     -2.399      0.016      -0.280      -0.028\n",
      "==============================================================================================================\n"
     ]
    }
   ],
   "source": [
    "mfx = test_mod.get_margeff()\n",
    "print(mfx.summary())"
   ]
  },
  {
   "cell_type": "code",
   "execution_count": null,
   "metadata": {},
   "outputs": [],
   "source": []
  },
  {
   "cell_type": "code",
   "execution_count": 177,
   "metadata": {},
   "outputs": [
    {
     "data": {
      "text/plain": [
       "<matplotlib.legend.Legend at 0x1b49dc2050>"
      ]
     },
     "execution_count": 177,
     "metadata": {},
     "output_type": "execute_result"
    },
    {
     "data": {
      "image/png": "[encoded data removed]",
      "text/plain": [
       "<Figure size 720x576 with 1 Axes>"
      ]
     },
     "metadata": {},
     "output_type": "display_data"
    }
   ],
   "source": [
    "what_to_plot = \"times_cited\"\n",
    "plt.figure(figsize=(10,8))\n",
    "sns.distplot(df_reg[(df_reg.in_wikipedia==1) & (df_reg[what_to_plot]>0)][what_to_plot].values, color=\"green\", kde=True, norm_hist=True, kde_kws={\"shade\": True}, hist=False, label=\"In Wikipedia\")\n",
    "sns.distplot(df_reg[(df_reg.in_wikipedia==0) & (df_reg[what_to_plot]>0)][what_to_plot].values, color=\"blue\", kde=True, norm_hist=True, kde_kws={\"shade\": True}, hist=False, label=\"Not in Wikipedia\")\n",
    "plt.legend(fontsize=15)"
   ]
  },
  {
   "cell_type": "code",
   "execution_count": 276,
   "metadata": {},
   "outputs": [
    {
     "data": {
      "text/plain": [
       "array([       nan, 0.33702882, 0.21481118, ...,        nan, 0.4       ,\n",
       "       0.        ])"
      ]
     },
     "execution_count": 276,
     "metadata": {},
     "output_type": "execute_result"
    }
   ],
   "source": [
    "df_reg[df_reg.in_wikipedia==1].expert_ratio.values"
   ]
  },
  {
   "cell_type": "code",
   "execution_count": null,
   "metadata": {},
   "outputs": [],
   "source": []
  }
 ],
 "metadata": {
  "kernelspec": {
   "display_name": "covid",
   "language": "python",
   "name": "covid"
  },
  "language_info": {
   "codemirror_mode": {
    "name": "ipython",
    "version": 3
   },
   "file_extension": ".py",
   "mimetype": "text/x-python",
   "name": "python",
   "nbconvert_exporter": "python",
   "pygments_lexer": "ipython3",
   "version": "3.7.6"
  }
 },
 "nbformat": 4,
 "nbformat_minor": 4
}
