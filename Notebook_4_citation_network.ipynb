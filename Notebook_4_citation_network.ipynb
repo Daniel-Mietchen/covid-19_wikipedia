{
 "cells": [
  {
   "cell_type": "markdown",
   "metadata": {},
   "source": [
    "# CORD-19 citation network analysis\n",
    "\n",
    "In this notebook, we build a bibliographic coupling citation network of the publications we could match in Dimensions, and perform clustering using the Leiden algorithm. We export cluster partition information, as well as global and local (cluster-specific) centrality measures to use in the regression analysis."
   ]
  },
  {
   "cell_type": "code",
   "execution_count": 2,
   "metadata": {},
   "outputs": [],
   "source": [
    "%matplotlib inline\n",
    "import matplotlib.pyplot as plt\n",
    "\n",
    "# magics and warnings\n",
    "%load_ext autoreload\n",
    "%autoreload 2\n",
    "import warnings; warnings.simplefilter('ignore')\n",
    "\n",
    "import os, random, codecs, time, pickle\n",
    "import ujson as json\n",
    "from tqdm.notebook import tqdm\n",
    "import pandas as pd\n",
    "import numpy as np\n",
    "\n",
    "seed = 99\n",
    "random.seed(seed)\n",
    "np.random.seed(seed)\n",
    "\n",
    "import nltk, sklearn\n",
    "import matplotlib.pyplot as plt\n",
    "import seaborn as sns\n",
    "sns.set(style=\"white\")\n",
    "sns.set_context(\"notebook\", font_scale=1.2, rc={\"lines.linewidth\": 2.5})"
   ]
  },
  {
   "cell_type": "code",
   "execution_count": 3,
   "metadata": {},
   "outputs": [],
   "source": [
    "# dataset Dimensions: source of citation data\n",
    "\n",
    "json_sources = \"../cwts_covid/datasets_output/json_dimensions_cwts\""
   ]
  },
  {
   "cell_type": "code",
   "execution_count": 4,
   "metadata": {
    "scrolled": false
   },
   "outputs": [],
   "source": [
    "# build networks and node metadata\n",
    "# this requires Dimensions data, downloaded following: https://github.com/CWTSLeiden/cwts_covid\n",
    "\n",
    "from collections import OrderedDict\n",
    "import sys\n",
    "\n",
    "metadata = list()\n",
    "metadata_dict = dict()\n",
    "citations = OrderedDict()\n",
    "total_publications = 0\n",
    "\n",
    "for root, dirs, files in os.walk(json_sources):\n",
    "    for f in files:\n",
    "        all_data = codecs.open(os.path.join(root,f)).read()\n",
    "        for line in all_data.split(\"\\n\"):\n",
    "            total_publications += 1\n",
    "            if line:\n",
    "                try:\n",
    "                    data = json.loads(line)\n",
    "                    if \"references\" in data.keys() and len(data[\"references\"])>0: # filter out papers without outbound citations\n",
    "                        title = \"\"\n",
    "                        year = \"\"\n",
    "                        doi = \"\"\n",
    "                        pmid = \"\"\n",
    "                        d_id = \"\"\n",
    "                        times_cited = \"\"\n",
    "                        journal = \"\"\n",
    "                        if \"title\" in data.keys() and data[\"title\"]:\n",
    "                            title = data[\"title\"].replace('\"',\"\")\n",
    "                        if \"journal\" in data.keys() and \"title\" in data[\"journal\"].keys() and data[\"journal\"][\"title\"]:\n",
    "                            jorunal = data[\"journal\"][\"title\"]\n",
    "                        if \"year\" in data.keys() and data[\"year\"]:\n",
    "                            year = str(data[\"year\"])\n",
    "                        if \"doi\" in data.keys() and data[\"doi\"]:\n",
    "                            doi = data[\"doi\"]\n",
    "                        if \"pmid\" in data.keys() and data[\"pmid\"]:\n",
    "                            doi = str(data[\"pmid\"])\n",
    "                        if \"id\" in data.keys() and data[\"id\"]:\n",
    "                            d_id = str(data[\"id\"])\n",
    "                        if \"times_cited\" in data.keys():\n",
    "                            times_cited = str(data[\"times_cited\"])\n",
    "                        metadata.append((d_id,'\"'+title+'\"',year,'\"'+doi+'\"',pmid,'\"'+journal+'\"',times_cited))\n",
    "                        metadata_dict[d_id] = {\"title\":title,\"year\":year,\"doi\":doi,\"journal\":journal,\"times_cited\":times_cited,\n",
    "                                                    \"pmid\":pmid,\"d_id\":d_id}\n",
    "                        citations[data[\"id\"]] = data[\"references\"]\n",
    "                except ValueError:\n",
    "                    print(\"Could not convert data.\")\n",
    "                except:\n",
    "                    print(line)\n",
    "                    continue"
   ]
  },
  {
   "cell_type": "code",
   "execution_count": 5,
   "metadata": {},
   "outputs": [
    {
     "data": {
      "text/plain": [
       "48571"
      ]
     },
     "execution_count": 5,
     "metadata": {},
     "output_type": "execute_result"
    }
   ],
   "source": [
    "len(citations)"
   ]
  },
  {
   "cell_type": "code",
   "execution_count": 6,
   "metadata": {},
   "outputs": [
    {
     "data": {
      "text/plain": [
       "59463"
      ]
     },
     "execution_count": 6,
     "metadata": {},
     "output_type": "execute_result"
    }
   ],
   "source": [
    "total_publications"
   ]
  },
  {
   "cell_type": "code",
   "execution_count": 8,
   "metadata": {},
   "outputs": [
    {
     "data": {
      "application/vnd.jupyter.widget-view+json": {
       "model_id": "26cfd1330fc54cf4af437becb3957094",
       "version_major": 2,
       "version_minor": 0
      },
      "text/plain": [
       "HBox(children=(FloatProgress(value=1.0, bar_style='info', max=1.0), HTML(value='')))"
      ]
     },
     "metadata": {},
     "output_type": "display_data"
    },
    {
     "name": "stdout",
     "output_type": "stream",
     "text": [
      "\n"
     ]
    }
   ],
   "source": [
    "# create bibc network\n",
    "# this is a super naive method, and takes a while\n",
    "\n",
    "bibc_edge_list = list()\n",
    "items = [(k,v) for k,v in citations.items()]\n",
    "\n",
    "for n,(k1,v1) in tqdm(enumerate(items)):\n",
    "    for k2,v2 in items[n+1:]:\n",
    "        edge_weight = len(set(v2).intersection(set(v1))) / len(set(v2).union(set(v1))) # fractional edge weight\n",
    "        if edge_weight > 0:\n",
    "            bibc_edge_list.append((k1,k2,str(edge_weight)))"
   ]
  },
  {
   "cell_type": "code",
   "execution_count": 9,
   "metadata": {},
   "outputs": [],
   "source": [
    "# export in csv (optional)\n",
    "\n",
    "with open(\"data/bib_coupling_edgelist_norm.csv\",\"w\") as f:\n",
    "    f.write(\"Source,Target,Weight\\n\")\n",
    "    for edge in bibc_edge_list:\n",
    "        #if float(edge[2])>1:\n",
    "        f.write(\",\".join(edge)+\"\\n\")"
   ]
  },
  {
   "cell_type": "code",
   "execution_count": 10,
   "metadata": {},
   "outputs": [],
   "source": [
    "with open(\"data/bib_coupling_nodelist.csv\",\"w\") as f:\n",
    "    f.write(\"ID,Title,Year,DOI,PMID,Journal,Times_cited\\n\")\n",
    "    for node in metadata:\n",
    "        f.write(\",\".join(node)+\"\\n\")"
   ]
  },
  {
   "cell_type": "code",
   "execution_count": 11,
   "metadata": {},
   "outputs": [
    {
     "data": {
      "text/plain": [
       "17087380"
      ]
     },
     "execution_count": 11,
     "metadata": {},
     "output_type": "execute_result"
    }
   ],
   "source": [
    "len(bibc_edge_list)"
   ]
  },
  {
   "cell_type": "code",
   "execution_count": 12,
   "metadata": {},
   "outputs": [],
   "source": [
    "weight_list = [float(x[2]) for x in bibc_edge_list if float(x[2])>0]"
   ]
  },
  {
   "cell_type": "code",
   "execution_count": 13,
   "metadata": {},
   "outputs": [
    {
     "data": {
      "text/plain": [
       "0.014925373134328358"
      ]
     },
     "execution_count": 13,
     "metadata": {},
     "output_type": "execute_result"
    }
   ],
   "source": [
    "np.median(weight_list)"
   ]
  },
  {
   "cell_type": "code",
   "execution_count": 14,
   "metadata": {},
   "outputs": [
    {
     "data": {
      "text/plain": [
       "<matplotlib.axes._subplots.AxesSubplot at 0x1afc0f78d0>"
      ]
     },
     "execution_count": 14,
     "metadata": {},
     "output_type": "execute_result"
    },
    {
     "data": {
      "image/png": "[encoded data removed]",
      "text/plain": [
       "<Figure size 432x288 with 1 Axes>"
      ]
     },
     "metadata": {},
     "output_type": "display_data"
    }
   ],
   "source": [
    "sns.distplot(weight_list)"
   ]
  },
  {
   "cell_type": "code",
   "execution_count": 15,
   "metadata": {},
   "outputs": [],
   "source": [
    "# create an igraph graph\n",
    "\n",
    "import igraph as ig\n",
    "ig.set_random_number_generator(random.seed(seed))"
   ]
  },
  {
   "cell_type": "code",
   "execution_count": 16,
   "metadata": {},
   "outputs": [],
   "source": [
    "g = ig.Graph(directed=False)"
   ]
  },
  {
   "cell_type": "code",
   "execution_count": 17,
   "metadata": {},
   "outputs": [],
   "source": [
    "edges = [(int(k[0].replace(\"pub.\",\"\")),int(k[1].replace(\"pub.\",\"\"))) for k in bibc_edge_list]\n",
    "nodes = list(set([k[0] for k in edges]).union(set([k[1] for k in edges])))\n",
    "weights = [float(k[2]) for k in bibc_edge_list]"
   ]
  },
  {
   "cell_type": "code",
   "execution_count": 18,
   "metadata": {},
   "outputs": [],
   "source": [
    "# mapping of nodes to identifiers\n",
    "\n",
    "node_map = {k:n for n,k in enumerate(nodes)}\n",
    "edges_int = [(node_map[k[0]],node_map[k[1]]) for k in edges]\n",
    "nodes_int = [node_map[k] for k in nodes]"
   ]
  },
  {
   "cell_type": "code",
   "execution_count": 19,
   "metadata": {},
   "outputs": [
    {
     "data": {
      "text/plain": [
       "47706"
      ]
     },
     "execution_count": 19,
     "metadata": {},
     "output_type": "execute_result"
    }
   ],
   "source": [
    "len(node_map)"
   ]
  },
  {
   "cell_type": "code",
   "execution_count": 20,
   "metadata": {},
   "outputs": [
    {
     "data": {
      "text/plain": [
       "'There are 865 disconnected publications (with references)'"
      ]
     },
     "execution_count": 20,
     "metadata": {},
     "output_type": "execute_result"
    }
   ],
   "source": [
    "\"There are \"+str(len(citations)-len(node_map))+\" disconnected publications (with references)\""
   ]
  },
  {
   "cell_type": "code",
   "execution_count": 21,
   "metadata": {},
   "outputs": [],
   "source": [
    "inverse_node_map = {n:k for k,n in node_map.items()}"
   ]
  },
  {
   "cell_type": "code",
   "execution_count": 22,
   "metadata": {},
   "outputs": [],
   "source": [
    "# add nodes and edges\n",
    "\n",
    "g.add_vertices(nodes_int)\n",
    "g.add_edges(edges_int)\n",
    "g.es[\"weight\"] = weights\n",
    "g.vs[\"weight\"] = 1\n",
    "g.vs[\"dimensions_id\"] = nodes"
   ]
  },
  {
   "cell_type": "code",
   "execution_count": 23,
   "metadata": {},
   "outputs": [],
   "source": [
    "# clustering \n",
    "import leidenalg as la"
   ]
  },
  {
   "cell_type": "code",
   "execution_count": 24,
   "metadata": {},
   "outputs": [],
   "source": [
    "h = g.components(mode='weak').giant()"
   ]
  },
  {
   "cell_type": "code",
   "execution_count": 50,
   "metadata": {},
   "outputs": [
    {
     "data": {
      "text/plain": [
       "47612"
      ]
     },
     "execution_count": 50,
     "metadata": {},
     "output_type": "execute_result"
    }
   ],
   "source": [
    "len(h.vs)"
   ]
  },
  {
   "cell_type": "code",
   "execution_count": 25,
   "metadata": {},
   "outputs": [],
   "source": [
    "# 0.05 seems to find a relatively high modularity and reasonable sized clusters. Lowering it brings up one or two large clusters.\n",
    "\n",
    "partition = la.find_partition(h, la.CPMVertexPartition, resolution_parameter = 0.05)"
   ]
  },
  {
   "cell_type": "code",
   "execution_count": 26,
   "metadata": {},
   "outputs": [
    {
     "data": {
      "text/plain": [
       "17127582.899999123"
      ]
     },
     "execution_count": 26,
     "metadata": {},
     "output_type": "execute_result"
    }
   ],
   "source": [
    "partition.quality()"
   ]
  },
  {
   "cell_type": "code",
   "execution_count": 27,
   "metadata": {},
   "outputs": [
    {
     "data": {
      "text/plain": [
       "0.3619187844833918"
      ]
     },
     "execution_count": 27,
     "metadata": {},
     "output_type": "execute_result"
    }
   ],
   "source": [
    "partition.q"
   ]
  },
  {
   "cell_type": "code",
   "execution_count": 45,
   "metadata": {},
   "outputs": [
    {
     "data": {
      "image/png": "[encoded data removed]",
      "text/plain": [
       "<Figure size 432x288 with 1 Axes>"
      ]
     },
     "metadata": {},
     "output_type": "display_data"
    }
   ],
   "source": [
    "# distribution of the size of clusters\n",
    "\n",
    "sns.distplot([x for x in partition.membership if x<100], norm_hist=False, kde=False, bins=100)\n",
    "plt.savefig(\"figures/nb4_cluster_size_distr.pdf\")"
   ]
  },
  {
   "cell_type": "code",
   "execution_count": 29,
   "metadata": {},
   "outputs": [],
   "source": [
    "from collections import Counter\n",
    "\n",
    "c = Counter(partition.membership)"
   ]
  },
  {
   "cell_type": "code",
   "execution_count": 30,
   "metadata": {},
   "outputs": [
    {
     "data": {
      "text/plain": [
       "2039"
      ]
     },
     "execution_count": 30,
     "metadata": {},
     "output_type": "execute_result"
    }
   ],
   "source": [
    "len(c)"
   ]
  },
  {
   "cell_type": "code",
   "execution_count": 31,
   "metadata": {},
   "outputs": [
    {
     "data": {
      "text/plain": [
       "[(0, 6917),\n",
       " (1, 3082),\n",
       " (2, 1989),\n",
       " (3, 1693),\n",
       " (4, 1558),\n",
       " (5, 1151),\n",
       " (6, 1043),\n",
       " (7, 986),\n",
       " (8, 970),\n",
       " (9, 808)]"
      ]
     },
     "execution_count": 31,
     "metadata": {},
     "output_type": "execute_result"
    }
   ],
   "source": [
    "c.most_common(10)"
   ]
  },
  {
   "cell_type": "code",
   "execution_count": 32,
   "metadata": {},
   "outputs": [],
   "source": [
    "cluster_sizes = {c:s for c,s in c.most_common()}"
   ]
  },
  {
   "cell_type": "code",
   "execution_count": null,
   "metadata": {},
   "outputs": [],
   "source": [
    "# add note attributes and calculate indicators. This takes some time to compute"
   ]
  },
  {
   "cell_type": "code",
   "execution_count": 33,
   "metadata": {},
   "outputs": [],
   "source": [
    "h.vs['cluster_id'] = partition.membership\n",
    "h.vs['cluster_above_threshold'] = False\n",
    "h.vs['cluster_size'] = [cluster_sizes[x] for x in partition.membership]"
   ]
  },
  {
   "cell_type": "code",
   "execution_count": 34,
   "metadata": {},
   "outputs": [],
   "source": [
    "h.vs['global_degree'] = h.degree()"
   ]
  },
  {
   "cell_type": "code",
   "execution_count": 35,
   "metadata": {},
   "outputs": [],
   "source": [
    "h.vs['global_pagerank'] = h.pagerank(directed=False, weights='weight')"
   ]
  },
  {
   "cell_type": "code",
   "execution_count": null,
   "metadata": {},
   "outputs": [],
   "source": [
    "# TODO: actually calculate closeness (and betweenness)"
   ]
  },
  {
   "cell_type": "code",
   "execution_count": 36,
   "metadata": {},
   "outputs": [],
   "source": [
    "# using a cutoff here\n",
    "#h.vs['global_closeness'] = h.closeness(weights='weight')\n",
    "h.vs['global_closeness'] = np.nan"
   ]
  },
  {
   "cell_type": "code",
   "execution_count": 37,
   "metadata": {},
   "outputs": [],
   "source": [
    "# cluster-specific indicators\n",
    "h.vs['local_degree'] = np.nan\n",
    "h.vs['local_pagerank'] = np.nan\n",
    "h.vs['local_closeness'] = np.nan"
   ]
  },
  {
   "cell_type": "code",
   "execution_count": 38,
   "metadata": {},
   "outputs": [],
   "source": [
    "threshold = 100 # we only calculate indicators for nodes in clusters of size equal of greater than this threshold!\n",
    "\n",
    "for cluster in c.most_common():\n",
    "    c_id = cluster[0]\n",
    "    c_size = cluster[1]\n",
    "    if c_size >= threshold:\n",
    "        t = partition.subgraph(c_id)\n",
    "        t.vs['local_degree'] = t.degree()\n",
    "        t.vs['local_pagerank'] = t.pagerank(directed=False, weights='weight')\n",
    "        #t.vs['local_closeness'] = t.betweenness(directed=False, cutoff=100, weights='weight')\n",
    "        for v in t.vs:\n",
    "            #print(v)\n",
    "            h.vs.find(dimensions_id=v['dimensions_id'])['local_degree'] = v['local_degree']\n",
    "            h.vs.find(dimensions_id=v['dimensions_id'])['local_pagerank'] = v['local_pagerank']\n",
    "            #h.vs.find(dimensions_id=v['dimensions_id'])['local_closeness'] = v['local_closeness']\n",
    "            h.vs.find(dimensions_id=v['dimensions_id'])['cluster_above_threshold'] = True"
   ]
  },
  {
   "cell_type": "code",
   "execution_count": 39,
   "metadata": {},
   "outputs": [],
   "source": [
    "# create and export a data frame\n",
    "df_network = pd.DataFrame.from_dict({\"dimensions_id\": [\"pub.\"+str(i) for i in h.vs['dimensions_id']],\n",
    "                                     \"cluster_id\": h.vs['cluster_id'],\n",
    "                                     \"cluster_above_threshold\": h.vs['cluster_above_threshold'],\n",
    "                                     \"cluster_size\": h.vs['cluster_size'],\n",
    "                                     \"global_degree\": h.vs['global_degree'],\n",
    "                                     \"global_pagerank\": h.vs['global_pagerank'],\n",
    "                                     \"global_closeness\": h.vs['global_closeness'],\n",
    "                                     \"local_degree\": h.vs['local_degree'],\n",
    "                                     \"local_pagerank\": h.vs['local_pagerank'],\n",
    "                                     \"local_closeness\": h.vs['local_closeness']})\n",
    "df_network.to_csv(\"data/df_network.csv\", index=False, compression=\"gzip\")"
   ]
  },
  {
   "cell_type": "code",
   "execution_count": 40,
   "metadata": {},
   "outputs": [],
   "source": [
    "# graph of clusters (optional)\n",
    "\n",
    "H = partition.cluster_graph(combine_vertices={'weight': 'sum'},\n",
    "                                                 combine_edges={'weight': 'mean'})\n",
    "H.write(\"data/network_of_clusters.graphml\",format=\"graphml\")"
   ]
  },
  {
   "cell_type": "markdown",
   "metadata": {},
   "source": [
    "### Plots"
   ]
  },
  {
   "cell_type": "code",
   "execution_count": 41,
   "metadata": {},
   "outputs": [],
   "source": [
    "df_topic_intensity = pd.read_csv(\"data/df_topic_intensity.csv\", compression=\"gzip\")\n",
    "df_joined_all = pd.read_csv(\"data/df_joined_all.csv\", compression=\"gzip\")"
   ]
  },
  {
   "cell_type": "code",
   "execution_count": 42,
   "metadata": {},
   "outputs": [
    {
     "data": {
      "text/html": [
       "<div>\n",
       "<style scoped>\n",
       "    .dataframe tbody tr th:only-of-type {\n",
       "        vertical-align: middle;\n",
       "    }\n",
       "\n",
       "    .dataframe tbody tr th {\n",
       "        vertical-align: top;\n",
       "    }\n",
       "\n",
       "    .dataframe thead th {\n",
       "        text-align: right;\n",
       "    }\n",
       "</style>\n",
       "<table border=\"1\" class=\"dataframe\">\n",
       "  <thead>\n",
       "    <tr style=\"text-align: right;\">\n",
       "      <th></th>\n",
       "      <th>Coronavirus outbreaks</th>\n",
       "      <th>Public health</th>\n",
       "      <th>Epidemics</th>\n",
       "      <th>Animal transmission</th>\n",
       "      <th>Molecular biology</th>\n",
       "      <th>Respiratory diseases</th>\n",
       "      <th>Immunology</th>\n",
       "      <th>Systematic reviews</th>\n",
       "      <th>Diagnosing</th>\n",
       "      <th>year</th>\n",
       "      <th>doi</th>\n",
       "      <th>pub_id</th>\n",
       "    </tr>\n",
       "  </thead>\n",
       "  <tbody>\n",
       "    <tr>\n",
       "      <th>0</th>\n",
       "      <td>0.200656</td>\n",
       "      <td>0.472949</td>\n",
       "      <td>0.246007</td>\n",
       "      <td>0.054535</td>\n",
       "      <td>0.0</td>\n",
       "      <td>0.000000</td>\n",
       "      <td>0.018858</td>\n",
       "      <td>0.000000</td>\n",
       "      <td>0.000000</td>\n",
       "      <td>2020.0</td>\n",
       "      <td>0.1126/science.abb7331</td>\n",
       "      <td>0</td>\n",
       "    </tr>\n",
       "    <tr>\n",
       "      <th>1</th>\n",
       "      <td>0.256909</td>\n",
       "      <td>0.000000</td>\n",
       "      <td>0.000000</td>\n",
       "      <td>0.000000</td>\n",
       "      <td>0.0</td>\n",
       "      <td>0.000000</td>\n",
       "      <td>0.315510</td>\n",
       "      <td>0.347541</td>\n",
       "      <td>0.000000</td>\n",
       "      <td>2020.0</td>\n",
       "      <td>10.0376/cma.j.issn.0376-2491.2020.0002</td>\n",
       "      <td>1</td>\n",
       "    </tr>\n",
       "    <tr>\n",
       "      <th>2</th>\n",
       "      <td>0.000000</td>\n",
       "      <td>0.012961</td>\n",
       "      <td>0.000000</td>\n",
       "      <td>0.000000</td>\n",
       "      <td>0.0</td>\n",
       "      <td>0.982300</td>\n",
       "      <td>0.000000</td>\n",
       "      <td>0.000000</td>\n",
       "      <td>0.000000</td>\n",
       "      <td>2008.0</td>\n",
       "      <td>10.1001/archinte.168.22.2489</td>\n",
       "      <td>2</td>\n",
       "    </tr>\n",
       "    <tr>\n",
       "      <th>3</th>\n",
       "      <td>0.000000</td>\n",
       "      <td>0.026788</td>\n",
       "      <td>0.000000</td>\n",
       "      <td>0.024880</td>\n",
       "      <td>0.0</td>\n",
       "      <td>0.913815</td>\n",
       "      <td>0.015020</td>\n",
       "      <td>0.000000</td>\n",
       "      <td>0.016966</td>\n",
       "      <td>2010.0</td>\n",
       "      <td>10.1001/jama.2010.675</td>\n",
       "      <td>3</td>\n",
       "    </tr>\n",
       "    <tr>\n",
       "      <th>4</th>\n",
       "      <td>0.322807</td>\n",
       "      <td>0.000000</td>\n",
       "      <td>0.000000</td>\n",
       "      <td>0.097959</td>\n",
       "      <td>0.0</td>\n",
       "      <td>0.279916</td>\n",
       "      <td>0.246759</td>\n",
       "      <td>0.000000</td>\n",
       "      <td>0.000000</td>\n",
       "      <td>2014.0</td>\n",
       "      <td>10.1001/jama.2014.2116</td>\n",
       "      <td>4</td>\n",
       "    </tr>\n",
       "  </tbody>\n",
       "</table>\n",
       "</div>"
      ],
      "text/plain": [
       "   Coronavirus outbreaks  Public health  Epidemics  Animal transmission  \\\n",
       "0               0.200656       0.472949   0.246007             0.054535   \n",
       "1               0.256909       0.000000   0.000000             0.000000   \n",
       "2               0.000000       0.012961   0.000000             0.000000   \n",
       "3               0.000000       0.026788   0.000000             0.024880   \n",
       "4               0.322807       0.000000   0.000000             0.097959   \n",
       "\n",
       "   Molecular biology  Respiratory diseases  Immunology  Systematic reviews  \\\n",
       "0                0.0              0.000000    0.018858            0.000000   \n",
       "1                0.0              0.000000    0.315510            0.347541   \n",
       "2                0.0              0.982300    0.000000            0.000000   \n",
       "3                0.0              0.913815    0.015020            0.000000   \n",
       "4                0.0              0.279916    0.246759            0.000000   \n",
       "\n",
       "   Diagnosing    year                                     doi  pub_id  \n",
       "0    0.000000  2020.0                  0.1126/science.abb7331       0  \n",
       "1    0.000000  2020.0  10.0376/cma.j.issn.0376-2491.2020.0002       1  \n",
       "2    0.000000  2008.0            10.1001/archinte.168.22.2489       2  \n",
       "3    0.016966  2010.0                   10.1001/jama.2010.675       3  \n",
       "4    0.000000  2014.0                  10.1001/jama.2014.2116       4  "
      ]
     },
     "execution_count": 42,
     "metadata": {},
     "output_type": "execute_result"
    }
   ],
   "source": [
    "df_topic_intensity.head()"
   ]
  },
  {
   "cell_type": "code",
   "execution_count": 43,
   "metadata": {},
   "outputs": [
    {
     "data": {
      "text/plain": [
       "Index(['Coronavirus outbreaks', 'Public health', 'Epidemics',\n",
       "       'Animal transmission', 'Molecular biology', 'Respiratory diseases',\n",
       "       'Immunology', 'Systematic reviews', 'Diagnosing', 'year', 'doi',\n",
       "       'pub_id'],\n",
       "      dtype='object')"
      ]
     },
     "execution_count": 43,
     "metadata": {},
     "output_type": "execute_result"
    }
   ],
   "source": [
    "df_topic_intensity.columns"
   ]
  },
  {
   "cell_type": "code",
   "execution_count": 44,
   "metadata": {},
   "outputs": [],
   "source": [
    "topic_labels = ['Coronavirus outbreaks', 'Public health', 'Epidemics',\n",
    "       'Animal transmission', 'Molecular biology', 'Respiratory diseases',\n",
    "       'Immunology', 'Systematic reviews', 'Diagnosing']"
   ]
  },
  {
   "cell_type": "code",
   "execution_count": 56,
   "metadata": {},
   "outputs": [],
   "source": [
    "df_embeddings = df_network.merge(df_joined_all[[\"pub_id\",\"id\",\"in_wikipedia\",\"title\"]], how=\"inner\", left_on=\"dimensions_id\", right_on=\"id\")"
   ]
  },
  {
   "cell_type": "code",
   "execution_count": 57,
   "metadata": {},
   "outputs": [
    {
     "data": {
      "text/plain": [
       "(45809, 14)"
      ]
     },
     "execution_count": 57,
     "metadata": {},
     "output_type": "execute_result"
    }
   ],
   "source": [
    "df_embeddings.shape"
   ]
  },
  {
   "cell_type": "code",
   "execution_count": 58,
   "metadata": {},
   "outputs": [],
   "source": [
    "df_embeddings = df_embeddings.merge(df_topic_intensity, how=\"inner\", left_on=\"pub_id\", right_on=\"pub_id\")"
   ]
  },
  {
   "cell_type": "code",
   "execution_count": 59,
   "metadata": {},
   "outputs": [
    {
     "data": {
      "text/plain": [
       "(61482, 12)"
      ]
     },
     "execution_count": 59,
     "metadata": {},
     "output_type": "execute_result"
    }
   ],
   "source": [
    "df_topic_intensity.shape"
   ]
  },
  {
   "cell_type": "code",
   "execution_count": 60,
   "metadata": {},
   "outputs": [
    {
     "data": {
      "text/plain": [
       "(45809, 25)"
      ]
     },
     "execution_count": 60,
     "metadata": {},
     "output_type": "execute_result"
    }
   ],
   "source": [
    "df_embeddings.shape"
   ]
  },
  {
   "cell_type": "code",
   "execution_count": 135,
   "metadata": {},
   "outputs": [
    {
     "data": {
      "text/html": [
       "<div>\n",
       "<style scoped>\n",
       "    .dataframe tbody tr th:only-of-type {\n",
       "        vertical-align: middle;\n",
       "    }\n",
       "\n",
       "    .dataframe tbody tr th {\n",
       "        vertical-align: top;\n",
       "    }\n",
       "\n",
       "    .dataframe thead th {\n",
       "        text-align: right;\n",
       "    }\n",
       "</style>\n",
       "<table border=\"1\" class=\"dataframe\">\n",
       "  <thead>\n",
       "    <tr style=\"text-align: right;\">\n",
       "      <th></th>\n",
       "      <th>dimensions_id</th>\n",
       "      <th>cluster_id</th>\n",
       "      <th>cluster_above_threshold</th>\n",
       "      <th>cluster_size</th>\n",
       "      <th>global_degree</th>\n",
       "      <th>global_pagerank</th>\n",
       "      <th>global_closeness</th>\n",
       "      <th>local_degree</th>\n",
       "      <th>local_pagerank</th>\n",
       "      <th>local_closeness</th>\n",
       "      <th>...</th>\n",
       "      <th>Public health</th>\n",
       "      <th>Epidemics</th>\n",
       "      <th>Animal transmission</th>\n",
       "      <th>Molecular biology</th>\n",
       "      <th>Respiratory diseases</th>\n",
       "      <th>Immunology</th>\n",
       "      <th>Systematic reviews</th>\n",
       "      <th>Diagnosing</th>\n",
       "      <th>year</th>\n",
       "      <th>doi</th>\n",
       "    </tr>\n",
       "  </thead>\n",
       "  <tbody>\n",
       "    <tr>\n",
       "      <th>0</th>\n",
       "      <td>pub.1121976320</td>\n",
       "      <td>166</td>\n",
       "      <td>False</td>\n",
       "      <td>26</td>\n",
       "      <td>32</td>\n",
       "      <td>0.000007</td>\n",
       "      <td>NaN</td>\n",
       "      <td>NaN</td>\n",
       "      <td>NaN</td>\n",
       "      <td>NaN</td>\n",
       "      <td>...</td>\n",
       "      <td>0.064922</td>\n",
       "      <td>0.553747</td>\n",
       "      <td>0.000000</td>\n",
       "      <td>0.013632</td>\n",
       "      <td>0.000000</td>\n",
       "      <td>0.033991</td>\n",
       "      <td>0.237440</td>\n",
       "      <td>0.092494</td>\n",
       "      <td>2019.0</td>\n",
       "      <td>10.3390/s19204561</td>\n",
       "    </tr>\n",
       "    <tr>\n",
       "      <th>1</th>\n",
       "      <td>pub.1103626240</td>\n",
       "      <td>19</td>\n",
       "      <td>True</td>\n",
       "      <td>418</td>\n",
       "      <td>259</td>\n",
       "      <td>0.000010</td>\n",
       "      <td>NaN</td>\n",
       "      <td>145.0</td>\n",
       "      <td>0.002265</td>\n",
       "      <td>NaN</td>\n",
       "      <td>...</td>\n",
       "      <td>0.000000</td>\n",
       "      <td>0.059216</td>\n",
       "      <td>0.185718</td>\n",
       "      <td>0.249018</td>\n",
       "      <td>0.000000</td>\n",
       "      <td>0.258568</td>\n",
       "      <td>0.122377</td>\n",
       "      <td>0.093511</td>\n",
       "      <td>2018.0</td>\n",
       "      <td>10.1038/s41413-018-0014-y</td>\n",
       "    </tr>\n",
       "    <tr>\n",
       "      <th>2</th>\n",
       "      <td>pub.1038352402</td>\n",
       "      <td>5</td>\n",
       "      <td>True</td>\n",
       "      <td>1151</td>\n",
       "      <td>551</td>\n",
       "      <td>0.000015</td>\n",
       "      <td>NaN</td>\n",
       "      <td>295.0</td>\n",
       "      <td>0.000647</td>\n",
       "      <td>NaN</td>\n",
       "      <td>...</td>\n",
       "      <td>0.052206</td>\n",
       "      <td>0.913912</td>\n",
       "      <td>0.000000</td>\n",
       "      <td>0.000000</td>\n",
       "      <td>0.000000</td>\n",
       "      <td>0.000000</td>\n",
       "      <td>0.025135</td>\n",
       "      <td>0.000000</td>\n",
       "      <td>2009.0</td>\n",
       "      <td>10.1155/2009/591935</td>\n",
       "    </tr>\n",
       "    <tr>\n",
       "      <th>3</th>\n",
       "      <td>pub.1026031634</td>\n",
       "      <td>2</td>\n",
       "      <td>True</td>\n",
       "      <td>1989</td>\n",
       "      <td>599</td>\n",
       "      <td>0.000021</td>\n",
       "      <td>NaN</td>\n",
       "      <td>386.0</td>\n",
       "      <td>0.000546</td>\n",
       "      <td>NaN</td>\n",
       "      <td>...</td>\n",
       "      <td>0.076900</td>\n",
       "      <td>0.000000</td>\n",
       "      <td>0.000000</td>\n",
       "      <td>0.000000</td>\n",
       "      <td>0.703958</td>\n",
       "      <td>0.182915</td>\n",
       "      <td>0.000000</td>\n",
       "      <td>0.023946</td>\n",
       "      <td>2016.0</td>\n",
       "      <td>10.1371/journal.pone.0152015</td>\n",
       "    </tr>\n",
       "    <tr>\n",
       "      <th>4</th>\n",
       "      <td>pub.1032847387</td>\n",
       "      <td>53</td>\n",
       "      <td>True</td>\n",
       "      <td>105</td>\n",
       "      <td>100</td>\n",
       "      <td>0.000007</td>\n",
       "      <td>NaN</td>\n",
       "      <td>19.0</td>\n",
       "      <td>0.007314</td>\n",
       "      <td>NaN</td>\n",
       "      <td>...</td>\n",
       "      <td>0.114310</td>\n",
       "      <td>0.000000</td>\n",
       "      <td>0.272439</td>\n",
       "      <td>0.527672</td>\n",
       "      <td>0.000000</td>\n",
       "      <td>0.042534</td>\n",
       "      <td>0.000000</td>\n",
       "      <td>0.031690</td>\n",
       "      <td>2010.0</td>\n",
       "      <td>10.1111/j.1365-2567.2010.03277.x</td>\n",
       "    </tr>\n",
       "  </tbody>\n",
       "</table>\n",
       "<p>5 rows × 25 columns</p>\n",
       "</div>"
      ],
      "text/plain": [
       "    dimensions_id  cluster_id  cluster_above_threshold  cluster_size  \\\n",
       "0  pub.1121976320         166                    False            26   \n",
       "1  pub.1103626240          19                     True           418   \n",
       "2  pub.1038352402           5                     True          1151   \n",
       "3  pub.1026031634           2                     True          1989   \n",
       "4  pub.1032847387          53                     True           105   \n",
       "\n",
       "   global_degree  global_pagerank  global_closeness  local_degree  \\\n",
       "0             32         0.000007               NaN           NaN   \n",
       "1            259         0.000010               NaN         145.0   \n",
       "2            551         0.000015               NaN         295.0   \n",
       "3            599         0.000021               NaN         386.0   \n",
       "4            100         0.000007               NaN          19.0   \n",
       "\n",
       "   local_pagerank  local_closeness  ...  Public health Epidemics  \\\n",
       "0             NaN              NaN  ...       0.064922  0.553747   \n",
       "1        0.002265              NaN  ...       0.000000  0.059216   \n",
       "2        0.000647              NaN  ...       0.052206  0.913912   \n",
       "3        0.000546              NaN  ...       0.076900  0.000000   \n",
       "4        0.007314              NaN  ...       0.114310  0.000000   \n",
       "\n",
       "   Animal transmission Molecular biology  Respiratory diseases  Immunology  \\\n",
       "0             0.000000          0.013632              0.000000    0.033991   \n",
       "1             0.185718          0.249018              0.000000    0.258568   \n",
       "2             0.000000          0.000000              0.000000    0.000000   \n",
       "3             0.000000          0.000000              0.703958    0.182915   \n",
       "4             0.272439          0.527672              0.000000    0.042534   \n",
       "\n",
       "   Systematic reviews  Diagnosing    year                               doi  \n",
       "0            0.237440    0.092494  2019.0                 10.3390/s19204561  \n",
       "1            0.122377    0.093511  2018.0         10.1038/s41413-018-0014-y  \n",
       "2            0.025135    0.000000  2009.0               10.1155/2009/591935  \n",
       "3            0.000000    0.023946  2016.0      10.1371/journal.pone.0152015  \n",
       "4            0.000000    0.031690  2010.0  10.1111/j.1365-2567.2010.03277.x  \n",
       "\n",
       "[5 rows x 25 columns]"
      ]
     },
     "execution_count": 135,
     "metadata": {},
     "output_type": "execute_result"
    }
   ],
   "source": [
    "df_embeddings.head()"
   ]
  },
  {
   "cell_type": "code",
   "execution_count": 141,
   "metadata": {},
   "outputs": [
    {
     "data": {
      "image/png": "[encoded data removed]",
      "text/plain": [
       "<Figure size 720x576 with 1 Axes>"
      ]
     },
     "metadata": {},
     "output_type": "display_data"
    }
   ],
   "source": [
    "# distribution of centralities for papers cited from Wikipedia or not\n",
    "\n",
    "which_centrality = \"global_pagerank\"\n",
    "\n",
    "plt.figure(figsize=(10,8))\n",
    "sns.distplot(df_embeddings[df_embeddings.in_wikipedia==True][which_centrality].values, color=\"green\", kde=True, norm_hist=True, kde_kws={\"shade\": True}, hist=False, label=\"In Wikipedia\")\n",
    "sns.distplot(df_embeddings[df_embeddings.in_wikipedia==False][which_centrality].values, color=\"blue\", kde=True, norm_hist=True, kde_kws={\"shade\": True}, hist=False, label=\"Not in Wikipedia\")\n",
    "plt.legend(fontsize=15)\n",
    "plt.xlabel(\"%s\"%which_centrality,fontsize=15)\n",
    "plt.savefig(\"figures/nb4_%s_in_wiki.pdf\"%which_centrality)"
   ]
  },
  {
   "cell_type": "code",
   "execution_count": 142,
   "metadata": {},
   "outputs": [],
   "source": [
    "# plot cluster % of papers cited from Wikipedia, against cluster size"
   ]
  },
  {
   "cell_type": "code",
   "execution_count": 153,
   "metadata": {},
   "outputs": [],
   "source": [
    "cluster_coverage = list()\n",
    "cluster_size = list()\n",
    "cluster_number = list()\n",
    "below_threshold_size = 0\n",
    "below_threshold_coverage = 0\n",
    "#local_threshold = threshold\n",
    "threshold = 500\n",
    "\n",
    "# also calculate paper centralities wrt. cluster centroid\n",
    "# for every paper, this is 1 - the (cosine) distance wrt. its centroid\n",
    "# we need both similarity and args to index results\n",
    "\n",
    "for cl in c.most_common():\n",
    "    cl_size = cl[1]\n",
    "    inw = df_embeddings[(df_embeddings.in_wikipedia==True)&(df_embeddings.cluster_id==cl[0])].shape[0]\n",
    "    if cl[1]>threshold:\n",
    "        coverage = inw/cl_size\n",
    "        cluster_coverage.append(coverage)\n",
    "        cluster_size.append(cl_size)\n",
    "        cluster_number.append(cl[0])\n",
    "    else:\n",
    "        below_threshold_coverage += inw\n",
    "        below_threshold_size += cl_size\n",
    "#cluster_coverage.append(below_threshold_coverage/below_threshold_size)\n",
    "#cluster_size.append(below_threshold_size)\n",
    "#cluster_number.append(-1)"
   ]
  },
  {
   "cell_type": "code",
   "execution_count": 154,
   "metadata": {},
   "outputs": [
    {
     "data": {
      "image/png": "[encoded data removed]",
      "text/plain": [
       "<Figure size 432x432 with 1 Axes>"
      ]
     },
     "metadata": {},
     "output_type": "display_data"
    }
   ],
   "source": [
    "plt.figure(figsize=(6,6))\n",
    "pl = sns.scatterplot(x=cluster_size,y=cluster_coverage,s=200)\n",
    "# add annotations one by one with a loop\n",
    "for dot in cluster_number:\n",
    "     pl.text(cluster_size[dot]+7, cluster_coverage[dot]+0.002, s=cluster_number[dot], horizontalalignment='left', size='medium', color='black', weight='semibold')\n",
    "plt.ylim((0,0.11))\n",
    "plt.xlim((0,max(cluster_size)+500))\n",
    "#plt.legend(fontsize=15)\n",
    "plt.savefig(\"figures/nb4_cluster_size_vs_wiki_coverage_%d_no_max.pdf\"%local_threshold)"
   ]
  },
  {
   "cell_type": "code",
   "execution_count": 189,
   "metadata": {},
   "outputs": [],
   "source": [
    "which_cluster = 1"
   ]
  },
  {
   "cell_type": "code",
   "execution_count": 190,
   "metadata": {},
   "outputs": [
    {
     "data": {
      "image/png": "[encoded data removed]",
      "text/plain": [
       "<Figure size 432x288 with 1 Axes>"
      ]
     },
     "metadata": {},
     "output_type": "display_data"
    }
   ],
   "source": [
    "sns.distplot(df_embeddings[df_embeddings.cluster_id==which_cluster].year, bins=20, kde=False)\n",
    "plt.tight_layout()\n",
    "plt.savefig(\"figures/nb4_cluster_%d_yeardistr.pdf\"%(which_cluster))"
   ]
  },
  {
   "cell_type": "code",
   "execution_count": 191,
   "metadata": {},
   "outputs": [
    {
     "data": {
      "image/png": "[encoded data removed]",
      "text/plain": [
       "<Figure size 576x360 with 1 Axes>"
      ]
     },
     "metadata": {},
     "output_type": "display_data"
    }
   ],
   "source": [
    "plt.figure(figsize=(8,5))\n",
    "df_sub = df_embeddings[df_embeddings.cluster_id == which_cluster][[mt for mt in topic_labels]].mean()\n",
    "b = sns.barplot(y=df_sub.index,x=df_sub.values)\n",
    "#b.axes.set_title(\"Title\",fontsize=50)\n",
    "b.set_xlabel(\"Proportion\",fontsize=15)\n",
    "b.set_ylabel(\"Macrotopic\",fontsize=15)\n",
    "#b.set_title(\"Clustering\")\n",
    "b.tick_params(labelsize=12)\n",
    "plt.tight_layout()\n",
    "plt.savefig(\"figures/nb4_cluster_%d_to_topicmodel.pdf\"%(which_cluster))"
   ]
  },
  {
   "cell_type": "code",
   "execution_count": 192,
   "metadata": {},
   "outputs": [
    {
     "data": {
      "text/html": [
       "<div>\n",
       "<style scoped>\n",
       "    .dataframe tbody tr th:only-of-type {\n",
       "        vertical-align: middle;\n",
       "    }\n",
       "\n",
       "    .dataframe tbody tr th {\n",
       "        vertical-align: top;\n",
       "    }\n",
       "\n",
       "    .dataframe thead th {\n",
       "        text-align: right;\n",
       "    }\n",
       "</style>\n",
       "<table border=\"1\" class=\"dataframe\">\n",
       "  <thead>\n",
       "    <tr style=\"text-align: right;\">\n",
       "      <th></th>\n",
       "      <th>dimensions_id</th>\n",
       "      <th>cluster_id</th>\n",
       "      <th>cluster_size</th>\n",
       "      <th>global_degree</th>\n",
       "      <th>global_pagerank</th>\n",
       "      <th>title</th>\n",
       "      <th>year</th>\n",
       "    </tr>\n",
       "  </thead>\n",
       "  <tbody>\n",
       "    <tr>\n",
       "      <th>40497</th>\n",
       "      <td>pub.1125880149</td>\n",
       "      <td>1</td>\n",
       "      <td>3082</td>\n",
       "      <td>4591</td>\n",
       "      <td>0.000152</td>\n",
       "      <td>Analysis of 2019 Novel Coronavirus Infection a...</td>\n",
       "      <td>2020.0</td>\n",
       "    </tr>\n",
       "    <tr>\n",
       "      <th>43330</th>\n",
       "      <td>pub.1125107930</td>\n",
       "      <td>1</td>\n",
       "      <td>3082</td>\n",
       "      <td>4252</td>\n",
       "      <td>0.000142</td>\n",
       "      <td>Intrinsic growth rules of patients infected, d...</td>\n",
       "      <td>2020.0</td>\n",
       "    </tr>\n",
       "    <tr>\n",
       "      <th>4783</th>\n",
       "      <td>pub.1125672709</td>\n",
       "      <td>1</td>\n",
       "      <td>3082</td>\n",
       "      <td>4204</td>\n",
       "      <td>0.000140</td>\n",
       "      <td>Anesthetic Management of Patients Undergoing A...</td>\n",
       "      <td>2020.0</td>\n",
       "    </tr>\n",
       "    <tr>\n",
       "      <th>3185</th>\n",
       "      <td>pub.1125925913</td>\n",
       "      <td>1</td>\n",
       "      <td>3082</td>\n",
       "      <td>5151</td>\n",
       "      <td>0.000138</td>\n",
       "      <td>Clinical characteristics of 113 deceased patie...</td>\n",
       "      <td>2020.0</td>\n",
       "    </tr>\n",
       "    <tr>\n",
       "      <th>45345</th>\n",
       "      <td>pub.1125119405</td>\n",
       "      <td>1</td>\n",
       "      <td>3082</td>\n",
       "      <td>2466</td>\n",
       "      <td>0.000123</td>\n",
       "      <td>2019 novel coronavirus: an emerging global threat</td>\n",
       "      <td>2020.0</td>\n",
       "    </tr>\n",
       "    <tr>\n",
       "      <th>24968</th>\n",
       "      <td>pub.1125790938</td>\n",
       "      <td>1</td>\n",
       "      <td>3082</td>\n",
       "      <td>3503</td>\n",
       "      <td>0.000122</td>\n",
       "      <td>2019 novel Coronavirus outbreak: a quiz or fin...</td>\n",
       "      <td>2020.0</td>\n",
       "    </tr>\n",
       "    <tr>\n",
       "      <th>9586</th>\n",
       "      <td>pub.1125700757</td>\n",
       "      <td>1</td>\n",
       "      <td>3082</td>\n",
       "      <td>2759</td>\n",
       "      <td>0.000121</td>\n",
       "      <td>Characteristics of COVID-19 During the Onset S...</td>\n",
       "      <td>2020.0</td>\n",
       "    </tr>\n",
       "    <tr>\n",
       "      <th>40581</th>\n",
       "      <td>pub.1125880404</td>\n",
       "      <td>1</td>\n",
       "      <td>3082</td>\n",
       "      <td>2357</td>\n",
       "      <td>0.000119</td>\n",
       "      <td>Coronavirus Disease-19 Among Children Outside ...</td>\n",
       "      <td>2020.0</td>\n",
       "    </tr>\n",
       "    <tr>\n",
       "      <th>25172</th>\n",
       "      <td>pub.1125792102</td>\n",
       "      <td>1</td>\n",
       "      <td>3082</td>\n",
       "      <td>2044</td>\n",
       "      <td>0.000115</td>\n",
       "      <td>A cured patient with 2019-nCoV pneumonia</td>\n",
       "      <td>2020.0</td>\n",
       "    </tr>\n",
       "    <tr>\n",
       "      <th>43096</th>\n",
       "      <td>pub.1125630978</td>\n",
       "      <td>1</td>\n",
       "      <td>3082</td>\n",
       "      <td>4228</td>\n",
       "      <td>0.000115</td>\n",
       "      <td>Epidemiological, Clinical Characteristics and ...</td>\n",
       "      <td>2020.0</td>\n",
       "    </tr>\n",
       "    <tr>\n",
       "      <th>29803</th>\n",
       "      <td>pub.1124769414</td>\n",
       "      <td>1</td>\n",
       "      <td>3082</td>\n",
       "      <td>2431</td>\n",
       "      <td>0.000114</td>\n",
       "      <td>Clinical characteristics of 2019 novel coronav...</td>\n",
       "      <td>2020.0</td>\n",
       "    </tr>\n",
       "    <tr>\n",
       "      <th>40585</th>\n",
       "      <td>pub.1125880409</td>\n",
       "      <td>1</td>\n",
       "      <td>3082</td>\n",
       "      <td>4212</td>\n",
       "      <td>0.000114</td>\n",
       "      <td>Comparison of Epidemiological and Clinical Fea...</td>\n",
       "      <td>2020.0</td>\n",
       "    </tr>\n",
       "    <tr>\n",
       "      <th>40528</th>\n",
       "      <td>pub.1125880222</td>\n",
       "      <td>1</td>\n",
       "      <td>3082</td>\n",
       "      <td>3749</td>\n",
       "      <td>0.000114</td>\n",
       "      <td>Analysis of 2019-nCoV Infection and Clinical M...</td>\n",
       "      <td>2020.0</td>\n",
       "    </tr>\n",
       "    <tr>\n",
       "      <th>31198</th>\n",
       "      <td>pub.1126088178</td>\n",
       "      <td>1</td>\n",
       "      <td>3082</td>\n",
       "      <td>2625</td>\n",
       "      <td>0.000114</td>\n",
       "      <td>Gastrointestinal symptoms of 95 cases with SAR...</td>\n",
       "      <td>2020.0</td>\n",
       "    </tr>\n",
       "    <tr>\n",
       "      <th>33066</th>\n",
       "      <td>pub.1125837219</td>\n",
       "      <td>1</td>\n",
       "      <td>3082</td>\n",
       "      <td>2558</td>\n",
       "      <td>0.000113</td>\n",
       "      <td>Clinical Characteristics of Coronavirus Diseas...</td>\n",
       "      <td>2020.0</td>\n",
       "    </tr>\n",
       "    <tr>\n",
       "      <th>15674</th>\n",
       "      <td>pub.1125998020</td>\n",
       "      <td>1</td>\n",
       "      <td>3082</td>\n",
       "      <td>2716</td>\n",
       "      <td>0.000113</td>\n",
       "      <td>COVID-19 Pandemic: Public Health Implications ...</td>\n",
       "      <td>2020.0</td>\n",
       "    </tr>\n",
       "    <tr>\n",
       "      <th>28480</th>\n",
       "      <td>pub.1126597165</td>\n",
       "      <td>1</td>\n",
       "      <td>3082</td>\n",
       "      <td>2795</td>\n",
       "      <td>0.000112</td>\n",
       "      <td>Rapid asymptomatic transmission of COVID-19 du...</td>\n",
       "      <td>2020.0</td>\n",
       "    </tr>\n",
       "    <tr>\n",
       "      <th>17323</th>\n",
       "      <td>pub.1125483190</td>\n",
       "      <td>1</td>\n",
       "      <td>3082</td>\n",
       "      <td>2348</td>\n",
       "      <td>0.000112</td>\n",
       "      <td>Positive rate of RT-PCR detection of SARS-CoV-...</td>\n",
       "      <td>2020.0</td>\n",
       "    </tr>\n",
       "    <tr>\n",
       "      <th>29892</th>\n",
       "      <td>pub.1125032026</td>\n",
       "      <td>1</td>\n",
       "      <td>3082</td>\n",
       "      <td>2226</td>\n",
       "      <td>0.000112</td>\n",
       "      <td>Clinical Characteristics and Progression of 20...</td>\n",
       "      <td>2020.0</td>\n",
       "    </tr>\n",
       "    <tr>\n",
       "      <th>17153</th>\n",
       "      <td>pub.1126268782</td>\n",
       "      <td>1</td>\n",
       "      <td>3082</td>\n",
       "      <td>2095</td>\n",
       "      <td>0.000112</td>\n",
       "      <td>Application of refined management in the preve...</td>\n",
       "      <td>2020.0</td>\n",
       "    </tr>\n",
       "  </tbody>\n",
       "</table>\n",
       "</div>"
      ],
      "text/plain": [
       "        dimensions_id  cluster_id  cluster_size  global_degree  \\\n",
       "40497  pub.1125880149           1          3082           4591   \n",
       "43330  pub.1125107930           1          3082           4252   \n",
       "4783   pub.1125672709           1          3082           4204   \n",
       "3185   pub.1125925913           1          3082           5151   \n",
       "45345  pub.1125119405           1          3082           2466   \n",
       "24968  pub.1125790938           1          3082           3503   \n",
       "9586   pub.1125700757           1          3082           2759   \n",
       "40581  pub.1125880404           1          3082           2357   \n",
       "25172  pub.1125792102           1          3082           2044   \n",
       "43096  pub.1125630978           1          3082           4228   \n",
       "29803  pub.1124769414           1          3082           2431   \n",
       "40585  pub.1125880409           1          3082           4212   \n",
       "40528  pub.1125880222           1          3082           3749   \n",
       "31198  pub.1126088178           1          3082           2625   \n",
       "33066  pub.1125837219           1          3082           2558   \n",
       "15674  pub.1125998020           1          3082           2716   \n",
       "28480  pub.1126597165           1          3082           2795   \n",
       "17323  pub.1125483190           1          3082           2348   \n",
       "29892  pub.1125032026           1          3082           2226   \n",
       "17153  pub.1126268782           1          3082           2095   \n",
       "\n",
       "       global_pagerank                                              title  \\\n",
       "40497         0.000152  Analysis of 2019 Novel Coronavirus Infection a...   \n",
       "43330         0.000142  Intrinsic growth rules of patients infected, d...   \n",
       "4783          0.000140  Anesthetic Management of Patients Undergoing A...   \n",
       "3185          0.000138  Clinical characteristics of 113 deceased patie...   \n",
       "45345         0.000123  2019 novel coronavirus: an emerging global threat   \n",
       "24968         0.000122  2019 novel Coronavirus outbreak: a quiz or fin...   \n",
       "9586          0.000121  Characteristics of COVID-19 During the Onset S...   \n",
       "40581         0.000119  Coronavirus Disease-19 Among Children Outside ...   \n",
       "25172         0.000115           A cured patient with 2019-nCoV pneumonia   \n",
       "43096         0.000115  Epidemiological, Clinical Characteristics and ...   \n",
       "29803         0.000114  Clinical characteristics of 2019 novel coronav...   \n",
       "40585         0.000114  Comparison of Epidemiological and Clinical Fea...   \n",
       "40528         0.000114  Analysis of 2019-nCoV Infection and Clinical M...   \n",
       "31198         0.000114  Gastrointestinal symptoms of 95 cases with SAR...   \n",
       "33066         0.000113  Clinical Characteristics of Coronavirus Diseas...   \n",
       "15674         0.000113  COVID-19 Pandemic: Public Health Implications ...   \n",
       "28480         0.000112  Rapid asymptomatic transmission of COVID-19 du...   \n",
       "17323         0.000112  Positive rate of RT-PCR detection of SARS-CoV-...   \n",
       "29892         0.000112  Clinical Characteristics and Progression of 20...   \n",
       "17153         0.000112  Application of refined management in the preve...   \n",
       "\n",
       "         year  \n",
       "40497  2020.0  \n",
       "43330  2020.0  \n",
       "4783   2020.0  \n",
       "3185   2020.0  \n",
       "45345  2020.0  \n",
       "24968  2020.0  \n",
       "9586   2020.0  \n",
       "40581  2020.0  \n",
       "25172  2020.0  \n",
       "43096  2020.0  \n",
       "29803  2020.0  \n",
       "40585  2020.0  \n",
       "40528  2020.0  \n",
       "31198  2020.0  \n",
       "33066  2020.0  \n",
       "15674  2020.0  \n",
       "28480  2020.0  \n",
       "17323  2020.0  \n",
       "29892  2020.0  \n",
       "17153  2020.0  "
      ]
     },
     "execution_count": 192,
     "metadata": {},
     "output_type": "execute_result"
    }
   ],
   "source": [
    "# examples of central papers in a cluster\n",
    "\n",
    "df_embeddings[[\"dimensions_id\",\"cluster_id\",\"cluster_size\",\"global_degree\",\"global_pagerank\",\"title\",\"year\"]][df_embeddings.cluster_id==which_cluster].sort_values(\"global_pagerank\",ascending=False).head(20)"
   ]
  },
  {
   "cell_type": "code",
   "execution_count": 102,
   "metadata": {},
   "outputs": [],
   "source": []
  }
 ],
 "metadata": {
  "kernelspec": {
   "display_name": "Python 3",
   "language": "python",
   "name": "python3"
  }
 },
 "nbformat": 4,
 "nbformat_minor": 4
}
