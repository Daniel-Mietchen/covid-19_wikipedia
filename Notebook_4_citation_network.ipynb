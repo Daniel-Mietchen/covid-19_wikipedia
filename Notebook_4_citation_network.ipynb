{
 "cells": [
  {
   "cell_type": "markdown",
   "metadata": {},
   "source": [
    "# CORD-19 citation network analysis\n",
    "\n",
    "In this notebook, we build a bibliographic coupling citation network of the publications we could match in Dimensions, and perform clustering using the Leiden algorithm. We export cluster partition information, as well as global and local (cluster-specific) centrality measures to use in the regression analysis."
   ]
  },
  {
   "cell_type": "code",
   "execution_count": 15,
   "metadata": {},
   "outputs": [
    {
     "name": "stdout",
     "output_type": "stream",
     "text": [
      "The autoreload extension is already loaded. To reload it, use:\n",
      "  %reload_ext autoreload\n"
     ]
    }
   ],
   "source": [
    "%matplotlib inline\n",
    "import matplotlib.pyplot as plt\n",
    "\n",
    "# magics and warnings\n",
    "%load_ext autoreload\n",
    "%autoreload 2\n",
    "import warnings; warnings.simplefilter('ignore')\n",
    "\n",
    "import os, random, codecs, time, pickle\n",
    "import ujson as json\n",
    "from tqdm.notebook import tqdm\n",
    "import pandas as pd\n",
    "import numpy as np\n",
    "\n",
    "seed = 99\n",
    "random.seed(seed)\n",
    "np.random.seed(seed)\n",
    "\n",
    "import nltk, sklearn\n",
    "import matplotlib.pyplot as plt\n",
    "from  matplotlib.ticker import FuncFormatter\n",
    "import seaborn as sns\n",
    "sns.set(style=\"white\")\n",
    "sns.set_context(\"paper\", font_scale=1.2, rc={\"lines.linewidth\": 2.5})"
   ]
  },
  {
   "cell_type": "code",
   "execution_count": 2,
   "metadata": {},
   "outputs": [],
   "source": [
    "# dataset Dimensions: source of citation data\n",
    "\n",
    "json_sources = \"../cwts_covid/datasets_output/json_dimensions_cwts\""
   ]
  },
  {
   "cell_type": "code",
   "execution_count": 6,
   "metadata": {
    "scrolled": false
   },
   "outputs": [],
   "source": [
    "# build networks and node metadata\n",
    "# this requires Dimensions data, downloaded following: https://github.com/CWTSLeiden/cwts_covid\n",
    "\n",
    "from collections import OrderedDict\n",
    "import sys\n",
    "\n",
    "metadata = list()\n",
    "metadata_dict = dict()\n",
    "citations = OrderedDict()\n",
    "total_publications = 0\n",
    "\n",
    "for root, dirs, files in os.walk(json_sources):\n",
    "    for f in files:\n",
    "        try:\n",
    "            all_data = codecs.open(os.path.join(root,f)).read()\n",
    "        except:\n",
    "            continue\n",
    "        for line in all_data.split(\"\\n\"):\n",
    "            total_publications += 1\n",
    "            if line:\n",
    "                try:\n",
    "                    data = json.loads(line)\n",
    "                    if \"references\" in data.keys() and len(data[\"references\"])>0: # filter out papers without outbound citations\n",
    "                        title = \"\"\n",
    "                        year = \"\"\n",
    "                        doi = \"\"\n",
    "                        pmid = \"\"\n",
    "                        d_id = \"\"\n",
    "                        times_cited = \"\"\n",
    "                        journal = \"\"\n",
    "                        if \"title\" in data.keys() and data[\"title\"]:\n",
    "                            title = data[\"title\"].replace('\"',\"\")\n",
    "                        if \"journal\" in data.keys() and \"title\" in data[\"journal\"].keys() and data[\"journal\"][\"title\"]:\n",
    "                            jorunal = data[\"journal\"][\"title\"]\n",
    "                        if \"year\" in data.keys() and data[\"year\"]:\n",
    "                            year = str(data[\"year\"])\n",
    "                        if \"doi\" in data.keys() and data[\"doi\"]:\n",
    "                            doi = data[\"doi\"]\n",
    "                        if \"pmid\" in data.keys() and data[\"pmid\"]:\n",
    "                            doi = str(data[\"pmid\"])\n",
    "                        if \"id\" in data.keys() and data[\"id\"]:\n",
    "                            d_id = str(data[\"id\"])\n",
    "                        if \"times_cited\" in data.keys():\n",
    "                            times_cited = str(data[\"times_cited\"])\n",
    "                        metadata.append((d_id,'\"'+title+'\"',year,'\"'+doi+'\"',pmid,'\"'+journal+'\"',times_cited))\n",
    "                        metadata_dict[d_id] = {\"title\":title,\"year\":year,\"doi\":doi,\"journal\":journal,\"times_cited\":times_cited,\n",
    "                                                    \"pmid\":pmid,\"d_id\":d_id}\n",
    "                        citations[data[\"id\"]] = data[\"references\"]\n",
    "                except ValueError:\n",
    "                    print(\"Could not convert data.\")\n",
    "                except:\n",
    "                    print(line)\n",
    "                    continue"
   ]
  },
  {
   "cell_type": "code",
   "execution_count": 7,
   "metadata": {},
   "outputs": [
    {
     "data": {
      "text/plain": [
       "118214"
      ]
     },
     "execution_count": 7,
     "metadata": {},
     "output_type": "execute_result"
    }
   ],
   "source": [
    "len(citations)"
   ]
  },
  {
   "cell_type": "code",
   "execution_count": 8,
   "metadata": {},
   "outputs": [
    {
     "data": {
      "text/plain": [
       "150765"
      ]
     },
     "execution_count": 8,
     "metadata": {},
     "output_type": "execute_result"
    }
   ],
   "source": [
    "total_publications"
   ]
  },
  {
   "cell_type": "code",
   "execution_count": 9,
   "metadata": {},
   "outputs": [
    {
     "data": {
      "application/vnd.jupyter.widget-view+json": {
       "model_id": "fe48e5739b3c4c18aabaf5e7c69501e9",
       "version_major": 2,
       "version_minor": 0
      },
      "text/plain": [
       "HBox(children=(FloatProgress(value=1.0, bar_style='info', max=1.0), HTML(value='')))"
      ]
     },
     "metadata": {},
     "output_type": "display_data"
    },
    {
     "name": "stdout",
     "output_type": "stream",
     "text": [
      "\n"
     ]
    }
   ],
   "source": [
    "# create bibc network\n",
    "# this is a super naive method, and takes a while\n",
    "\n",
    "bibc_edge_list = list()\n",
    "items = [(k,v) for k,v in citations.items()]\n",
    "\n",
    "for n,(k1,v1) in tqdm(enumerate(items)):\n",
    "    for k2,v2 in items[n+1:]:\n",
    "        edge_weight = len(set(v2).intersection(set(v1))) / len(set(v2).union(set(v1))) # fractional edge weight\n",
    "        if edge_weight > 0:\n",
    "            bibc_edge_list.append((k1,k2,str(edge_weight)))"
   ]
  },
  {
   "cell_type": "code",
   "execution_count": 10,
   "metadata": {},
   "outputs": [],
   "source": [
    "# export in csv (optional)\n",
    "\n",
    "with open(\"data/bib_coupling_edgelist_norm.csv\",\"w\") as f:\n",
    "    f.write(\"Source,Target,Weight\\n\")\n",
    "    for edge in bibc_edge_list:\n",
    "        #if float(edge[2])>1:\n",
    "        f.write(\",\".join(edge)+\"\\n\")"
   ]
  },
  {
   "cell_type": "code",
   "execution_count": 11,
   "metadata": {},
   "outputs": [],
   "source": [
    "with open(\"data/bib_coupling_nodelist.csv\",\"w\") as f:\n",
    "    f.write(\"ID,Title,Year,DOI,PMID,Journal,Times_cited\\n\")\n",
    "    for node in metadata:\n",
    "        f.write(\",\".join(node)+\"\\n\")"
   ]
  },
  {
   "cell_type": "code",
   "execution_count": 12,
   "metadata": {},
   "outputs": [
    {
     "data": {
      "text/plain": [
       "70091752"
      ]
     },
     "execution_count": 12,
     "metadata": {},
     "output_type": "execute_result"
    }
   ],
   "source": [
    "len(bibc_edge_list)"
   ]
  },
  {
   "cell_type": "code",
   "execution_count": 13,
   "metadata": {},
   "outputs": [],
   "source": [
    "weight_list = [float(x[2]) for x in bibc_edge_list if float(x[2])>0]"
   ]
  },
  {
   "cell_type": "code",
   "execution_count": 14,
   "metadata": {},
   "outputs": [
    {
     "data": {
      "text/plain": [
       "0.021739130434782608"
      ]
     },
     "execution_count": 14,
     "metadata": {},
     "output_type": "execute_result"
    }
   ],
   "source": [
    "np.median(weight_list)"
   ]
  },
  {
   "cell_type": "code",
   "execution_count": 15,
   "metadata": {},
   "outputs": [
    {
     "data": {
      "text/plain": [
       "<matplotlib.axes._subplots.AxesSubplot at 0x1cc744ee50>"
      ]
     },
     "execution_count": 15,
     "metadata": {},
     "output_type": "execute_result"
    },
    {
     "data": {
      "image/png": "[encoded data removed]",
      "text/plain": [
       "<Figure size 432x288 with 1 Axes>"
      ]
     },
     "metadata": {},
     "output_type": "display_data"
    }
   ],
   "source": [
    "sns.distplot(weight_list)"
   ]
  },
  {
   "cell_type": "code",
   "execution_count": 16,
   "metadata": {},
   "outputs": [],
   "source": [
    "# create an igraph graph\n",
    "\n",
    "import igraph as ig\n",
    "ig.set_random_number_generator(random.seed(seed))"
   ]
  },
  {
   "cell_type": "code",
   "execution_count": 17,
   "metadata": {},
   "outputs": [],
   "source": [
    "g = ig.Graph(directed=False)"
   ]
  },
  {
   "cell_type": "code",
   "execution_count": 18,
   "metadata": {},
   "outputs": [],
   "source": [
    "edges = [(int(k[0].replace(\"pub.\",\"\")),int(k[1].replace(\"pub.\",\"\"))) for k in bibc_edge_list]\n",
    "nodes = list(set([k[0] for k in edges]).union(set([k[1] for k in edges])))\n",
    "weights = [float(k[2]) for k in bibc_edge_list]"
   ]
  },
  {
   "cell_type": "code",
   "execution_count": 19,
   "metadata": {},
   "outputs": [],
   "source": [
    "# mapping of nodes to identifiers\n",
    "\n",
    "node_map = {k:n for n,k in enumerate(nodes)}\n",
    "edges_int = [(node_map[k[0]],node_map[k[1]]) for k in edges]\n",
    "nodes_int = [node_map[k] for k in nodes]"
   ]
  },
  {
   "cell_type": "code",
   "execution_count": 20,
   "metadata": {},
   "outputs": [
    {
     "data": {
      "text/plain": [
       "115116"
      ]
     },
     "execution_count": 20,
     "metadata": {},
     "output_type": "execute_result"
    }
   ],
   "source": [
    "len(node_map)"
   ]
  },
  {
   "cell_type": "code",
   "execution_count": 21,
   "metadata": {},
   "outputs": [
    {
     "data": {
      "text/plain": [
       "'There are 3098 disconnected publications (with references)'"
      ]
     },
     "execution_count": 21,
     "metadata": {},
     "output_type": "execute_result"
    }
   ],
   "source": [
    "\"There are \"+str(len(citations)-len(node_map))+\" disconnected publications (with references)\""
   ]
  },
  {
   "cell_type": "code",
   "execution_count": 22,
   "metadata": {},
   "outputs": [],
   "source": [
    "inverse_node_map = {n:k for k,n in node_map.items()}"
   ]
  },
  {
   "cell_type": "code",
   "execution_count": 23,
   "metadata": {},
   "outputs": [],
   "source": [
    "# add nodes and edges\n",
    "\n",
    "g.add_vertices(nodes_int)\n",
    "g.add_edges(edges_int)\n",
    "g.es[\"weight\"] = weights\n",
    "g.vs[\"weight\"] = 1\n",
    "g.vs[\"dimensions_id\"] = nodes"
   ]
  },
  {
   "cell_type": "code",
   "execution_count": 24,
   "metadata": {},
   "outputs": [],
   "source": [
    "# clustering \n",
    "import leidenalg as la"
   ]
  },
  {
   "cell_type": "code",
   "execution_count": 25,
   "metadata": {},
   "outputs": [],
   "source": [
    "h = g.components(mode='weak').giant()"
   ]
  },
  {
   "cell_type": "code",
   "execution_count": 26,
   "metadata": {},
   "outputs": [
    {
     "data": {
      "text/plain": [
       "114829"
      ]
     },
     "execution_count": 26,
     "metadata": {},
     "output_type": "execute_result"
    }
   ],
   "source": [
    "len(h.vs)"
   ]
  },
  {
   "cell_type": "code",
   "execution_count": 27,
   "metadata": {},
   "outputs": [],
   "source": [
    "# 0.05 seems to find a relatively high modularity and reasonable sized clusters. Lowering it brings up one or two large clusters.\n",
    "\n",
    "partition = la.find_partition(h, la.CPMVertexPartition, resolution_parameter = 0.05)"
   ]
  },
  {
   "cell_type": "code",
   "execution_count": 28,
   "metadata": {},
   "outputs": [
    {
     "data": {
      "text/plain": [
       "86016459.00001101"
      ]
     },
     "execution_count": 28,
     "metadata": {},
     "output_type": "execute_result"
    }
   ],
   "source": [
    "partition.quality()"
   ]
  },
  {
   "cell_type": "code",
   "execution_count": 29,
   "metadata": {},
   "outputs": [
    {
     "data": {
      "text/plain": [
       "0.34600157440217927"
      ]
     },
     "execution_count": 29,
     "metadata": {},
     "output_type": "execute_result"
    }
   ],
   "source": [
    "partition.q"
   ]
  },
  {
   "cell_type": "code",
   "execution_count": 30,
   "metadata": {},
   "outputs": [
    {
     "data": {
      "image/png": "[encoded data removed]",
      "text/plain": [
       "<Figure size 432x288 with 1 Axes>"
      ]
     },
     "metadata": {},
     "output_type": "display_data"
    }
   ],
   "source": [
    "# distribution of the size of clusters\n",
    "\n",
    "b = sns.distplot([x for x in partition.membership if x<100], norm_hist=False, kde=False, bins=100)\n",
    "b.set_xlabel(\"Cluster\",fontsize=15)\n",
    "b.set_ylabel(\"Size\",fontsize=15)\n",
    "b.tick_params(labelsize=12)\n",
    "plt.tight_layout()\n",
    "plt.savefig(\"figures/nb4_cluster_size_distr.pdf\")"
   ]
  },
  {
   "cell_type": "code",
   "execution_count": 31,
   "metadata": {},
   "outputs": [],
   "source": [
    "from collections import Counter\n",
    "\n",
    "c = Counter(partition.membership)"
   ]
  },
  {
   "cell_type": "code",
   "execution_count": 32,
   "metadata": {},
   "outputs": [
    {
     "data": {
      "text/plain": [
       "6187"
      ]
     },
     "execution_count": 32,
     "metadata": {},
     "output_type": "execute_result"
    }
   ],
   "source": [
    "len(c)"
   ]
  },
  {
   "cell_type": "code",
   "execution_count": 33,
   "metadata": {},
   "outputs": [
    {
     "data": {
      "text/plain": [
       "[(0, 15749),\n",
       " (1, 8034),\n",
       " (2, 3205),\n",
       " (3, 1816),\n",
       " (4, 1669),\n",
       " (5, 1619),\n",
       " (6, 1522),\n",
       " (7, 1418),\n",
       " (8, 1344),\n",
       " (9, 1153),\n",
       " (10, 1083),\n",
       " (11, 1042),\n",
       " (12, 1014),\n",
       " (13, 1008),\n",
       " (14, 981)]"
      ]
     },
     "execution_count": 33,
     "metadata": {},
     "output_type": "execute_result"
    }
   ],
   "source": [
    "c.most_common(15)"
   ]
  },
  {
   "cell_type": "code",
   "execution_count": 34,
   "metadata": {},
   "outputs": [],
   "source": [
    "cluster_sizes = {c:s for c,s in c.most_common()}"
   ]
  },
  {
   "cell_type": "code",
   "execution_count": 35,
   "metadata": {},
   "outputs": [],
   "source": [
    "# add note attributes and calculate indicators. This takes some time to compute"
   ]
  },
  {
   "cell_type": "code",
   "execution_count": 36,
   "metadata": {},
   "outputs": [],
   "source": [
    "h.vs['cluster_id'] = partition.membership\n",
    "h.vs['cluster_above_threshold'] = False\n",
    "h.vs['cluster_size'] = [cluster_sizes[x] for x in partition.membership]"
   ]
  },
  {
   "cell_type": "code",
   "execution_count": 37,
   "metadata": {},
   "outputs": [],
   "source": [
    "h.vs['global_degree'] = h.degree()"
   ]
  },
  {
   "cell_type": "code",
   "execution_count": 38,
   "metadata": {},
   "outputs": [],
   "source": [
    "h.vs['global_pagerank'] = h.pagerank(directed=False, weights='weight')"
   ]
  },
  {
   "cell_type": "code",
   "execution_count": 39,
   "metadata": {},
   "outputs": [],
   "source": [
    "# using a cutoff here\n",
    "#h.vs['global_closeness'] = h.closeness(weights='weight')"
   ]
  },
  {
   "cell_type": "code",
   "execution_count": 40,
   "metadata": {},
   "outputs": [],
   "source": [
    "# cluster-specific indicators\n",
    "h.vs['local_degree'] = np.nan\n",
    "h.vs['local_pagerank'] = np.nan\n",
    "#h.vs['local_closeness'] = np.nan"
   ]
  },
  {
   "cell_type": "code",
   "execution_count": 47,
   "metadata": {},
   "outputs": [
    {
     "data": {
      "text/plain": [
       "0.507075738707121"
      ]
     },
     "execution_count": 47,
     "metadata": {},
     "output_type": "execute_result"
    }
   ],
   "source": [
    "threshold = 300 # we only calculate indicators for nodes in clusters of size equal of greater than this threshold\n",
    "\n",
    "# we pick a treshold to consider > 50% of the nodes\n",
    "sum([x[1] for x in c.most_common() if x[1]>=threshold])/len(h.vs)"
   ]
  },
  {
   "cell_type": "code",
   "execution_count": 48,
   "metadata": {},
   "outputs": [],
   "source": [
    "for cluster in c.most_common():\n",
    "    c_id = cluster[0]\n",
    "    c_size = cluster[1]\n",
    "    if c_size >= threshold:\n",
    "        t = partition.subgraph(c_id)\n",
    "        t.vs['local_degree'] = t.degree()\n",
    "        t.vs['local_pagerank'] = t.pagerank(directed=False, weights='weight')\n",
    "        for v in t.vs:\n",
    "            h.vs.find(dimensions_id=v['dimensions_id'])['local_degree'] = v['local_degree']\n",
    "            h.vs.find(dimensions_id=v['dimensions_id'])['local_pagerank'] = v['local_pagerank']\n",
    "            h.vs.find(dimensions_id=v['dimensions_id'])['cluster_above_threshold'] = True"
   ]
  },
  {
   "cell_type": "code",
   "execution_count": 49,
   "metadata": {},
   "outputs": [],
   "source": [
    "# create and export a data frame\n",
    "df_network = pd.DataFrame.from_dict({\"dimensions_id\": [\"pub.\"+str(i) for i in h.vs['dimensions_id']],\n",
    "                                     \"network_cluster_id\": h.vs['cluster_id'],\n",
    "                                     \"network_cluster_above_threshold\": h.vs['cluster_above_threshold'],\n",
    "                                     \"network_cluster_size\": h.vs['cluster_size'],\n",
    "                                     \"network_global_degree\": h.vs['global_degree'],\n",
    "                                     \"network_global_pagerank\": h.vs['global_pagerank'],\n",
    "                                     \"network_local_degree\": h.vs['local_degree'],\n",
    "                                     \"network_local_pagerank\": h.vs['local_pagerank']})\n",
    "df_network.to_csv(\"data/df_network.csv\", index=False, compression=\"gzip\")"
   ]
  },
  {
   "cell_type": "code",
   "execution_count": 50,
   "metadata": {},
   "outputs": [],
   "source": [
    "# graph of clusters (optional)\n",
    "\n",
    "H = partition.cluster_graph(combine_vertices={'weight': 'sum'},\n",
    "                                                 combine_edges={'weight': 'mean'})\n",
    "H.write(\"data/network_of_clusters.graphml\",format=\"graphml\")"
   ]
  },
  {
   "cell_type": "markdown",
   "metadata": {},
   "source": [
    "### Plots"
   ]
  },
  {
   "cell_type": "code",
   "execution_count": 2,
   "metadata": {},
   "outputs": [],
   "source": [
    "# you can select here if to use an LDA or a CTM topic model\n",
    "df_topic_intensity = pd.read_csv(\"data/df_topic_intensity.csv\", compression=\"gzip\")\n",
    "#df_topic_intensity = pd.read_csv(\"data/df_topic_intensity_ctm.csv\", compression=\"gzip\")\n",
    "df_joined_all = pd.read_csv(\"data/df_joined_all.csv\", compression=\"gzip\")\n",
    "df_network = pd.read_csv(\"data/df_network.csv\", compression=\"gzip\")"
   ]
  },
  {
   "cell_type": "code",
   "execution_count": 3,
   "metadata": {},
   "outputs": [
    {
     "data": {
      "text/html": [
       "<div>\n",
       "<style scoped>\n",
       "    .dataframe tbody tr th:only-of-type {\n",
       "        vertical-align: middle;\n",
       "    }\n",
       "\n",
       "    .dataframe tbody tr th {\n",
       "        vertical-align: top;\n",
       "    }\n",
       "\n",
       "    .dataframe thead th {\n",
       "        text-align: right;\n",
       "    }\n",
       "</style>\n",
       "<table border=\"1\" class=\"dataframe\">\n",
       "  <thead>\n",
       "    <tr style=\"text-align: right;\">\n",
       "      <th></th>\n",
       "      <th>tm_coronaviruses</th>\n",
       "      <th>tm_epidemics</th>\n",
       "      <th>tm_ph</th>\n",
       "      <th>tm_mbi</th>\n",
       "      <th>tm_clinical_medicine</th>\n",
       "      <th>pub_id</th>\n",
       "    </tr>\n",
       "  </thead>\n",
       "  <tbody>\n",
       "    <tr>\n",
       "      <th>0</th>\n",
       "      <td>0.335269</td>\n",
       "      <td>0.091129</td>\n",
       "      <td>0.111784</td>\n",
       "      <td>0.0</td>\n",
       "      <td>0.457265</td>\n",
       "      <td>0</td>\n",
       "    </tr>\n",
       "    <tr>\n",
       "      <th>1</th>\n",
       "      <td>0.299387</td>\n",
       "      <td>0.000000</td>\n",
       "      <td>0.198364</td>\n",
       "      <td>0.0</td>\n",
       "      <td>0.422208</td>\n",
       "      <td>1</td>\n",
       "    </tr>\n",
       "    <tr>\n",
       "      <th>2</th>\n",
       "      <td>0.000000</td>\n",
       "      <td>0.000000</td>\n",
       "      <td>0.953206</td>\n",
       "      <td>0.0</td>\n",
       "      <td>0.000000</td>\n",
       "      <td>2</td>\n",
       "    </tr>\n",
       "    <tr>\n",
       "      <th>3</th>\n",
       "      <td>0.000000</td>\n",
       "      <td>0.141524</td>\n",
       "      <td>0.674861</td>\n",
       "      <td>0.0</td>\n",
       "      <td>0.165509</td>\n",
       "      <td>3</td>\n",
       "    </tr>\n",
       "    <tr>\n",
       "      <th>4</th>\n",
       "      <td>0.000000</td>\n",
       "      <td>0.676764</td>\n",
       "      <td>0.307801</td>\n",
       "      <td>0.0</td>\n",
       "      <td>0.000000</td>\n",
       "      <td>4</td>\n",
       "    </tr>\n",
       "  </tbody>\n",
       "</table>\n",
       "</div>"
      ],
      "text/plain": [
       "   tm_coronaviruses  tm_epidemics     tm_ph  tm_mbi  tm_clinical_medicine  \\\n",
       "0          0.335269      0.091129  0.111784     0.0              0.457265   \n",
       "1          0.299387      0.000000  0.198364     0.0              0.422208   \n",
       "2          0.000000      0.000000  0.953206     0.0              0.000000   \n",
       "3          0.000000      0.141524  0.674861     0.0              0.165509   \n",
       "4          0.000000      0.676764  0.307801     0.0              0.000000   \n",
       "\n",
       "   pub_id  \n",
       "0       0  \n",
       "1       1  \n",
       "2       2  \n",
       "3       3  \n",
       "4       4  "
      ]
     },
     "execution_count": 3,
     "metadata": {},
     "output_type": "execute_result"
    }
   ],
   "source": [
    "df_topic_intensity.head()"
   ]
  },
  {
   "cell_type": "code",
   "execution_count": 4,
   "metadata": {},
   "outputs": [
    {
     "data": {
      "text/plain": [
       "Index(['tm_coronaviruses', 'tm_epidemics', 'tm_ph', 'tm_mbi',\n",
       "       'tm_clinical_medicine', 'pub_id'],\n",
       "      dtype='object')"
      ]
     },
     "execution_count": 4,
     "metadata": {},
     "output_type": "execute_result"
    }
   ],
   "source": [
    "df_topic_intensity.columns"
   ]
  },
  {
   "cell_type": "code",
   "execution_count": 5,
   "metadata": {},
   "outputs": [],
   "source": [
    "topic_labels = ['tm_coronaviruses', 'tm_epidemics', 'tm_ph', 'tm_mbi',\n",
    "       'tm_clinical_medicine']"
   ]
  },
  {
   "cell_type": "code",
   "execution_count": 6,
   "metadata": {},
   "outputs": [],
   "source": [
    "tm_names = {\"Coronaviruses\": \"tm_coronaviruses\",\n",
    "    \"Epidemics\": \"tm_epidemics\",\n",
    "    \"Public health\": \"tm_ph\",\n",
    "    \"Molecular biology and immunology\": \"tm_mbi\",\n",
    "    \"Clinical medicine\": \"tm_clinical_medicine\"}\n",
    "topic_labels = [x for x in tm_names.keys()]\n",
    "reverse_tm_names = {x:y for y,x in tm_names.items()}\n",
    "df_topic_intensity.rename(columns=reverse_tm_names,inplace=True)"
   ]
  },
  {
   "cell_type": "code",
   "execution_count": 7,
   "metadata": {},
   "outputs": [],
   "source": [
    "df_embeddings = df_network.merge(df_joined_all[[\"pub_id\",\"dimensions_id\",\"in_wikipedia\",\"title\",\"publication_year\"]], how=\"inner\", left_on=\"dimensions_id\", right_on=\"dimensions_id\")"
   ]
  },
  {
   "cell_type": "code",
   "execution_count": 8,
   "metadata": {},
   "outputs": [
    {
     "data": {
      "text/plain": [
       "(108213, 12)"
      ]
     },
     "execution_count": 8,
     "metadata": {},
     "output_type": "execute_result"
    }
   ],
   "source": [
    "df_embeddings.shape"
   ]
  },
  {
   "cell_type": "code",
   "execution_count": 9,
   "metadata": {},
   "outputs": [],
   "source": [
    "df_embeddings = df_embeddings.merge(df_topic_intensity, how=\"inner\", left_on=\"pub_id\", right_on=\"pub_id\")"
   ]
  },
  {
   "cell_type": "code",
   "execution_count": 10,
   "metadata": {},
   "outputs": [
    {
     "data": {
      "text/plain": [
       "(152247, 6)"
      ]
     },
     "execution_count": 10,
     "metadata": {},
     "output_type": "execute_result"
    }
   ],
   "source": [
    "df_topic_intensity.shape"
   ]
  },
  {
   "cell_type": "code",
   "execution_count": 11,
   "metadata": {},
   "outputs": [
    {
     "data": {
      "text/plain": [
       "(105915, 17)"
      ]
     },
     "execution_count": 11,
     "metadata": {},
     "output_type": "execute_result"
    }
   ],
   "source": [
    "df_embeddings.shape"
   ]
  },
  {
   "cell_type": "code",
   "execution_count": 12,
   "metadata": {},
   "outputs": [
    {
     "data": {
      "text/html": [
       "<div>\n",
       "<style scoped>\n",
       "    .dataframe tbody tr th:only-of-type {\n",
       "        vertical-align: middle;\n",
       "    }\n",
       "\n",
       "    .dataframe tbody tr th {\n",
       "        vertical-align: top;\n",
       "    }\n",
       "\n",
       "    .dataframe thead th {\n",
       "        text-align: right;\n",
       "    }\n",
       "</style>\n",
       "<table border=\"1\" class=\"dataframe\">\n",
       "  <thead>\n",
       "    <tr style=\"text-align: right;\">\n",
       "      <th></th>\n",
       "      <th>dimensions_id</th>\n",
       "      <th>network_cluster_id</th>\n",
       "      <th>network_cluster_above_threshold</th>\n",
       "      <th>network_cluster_size</th>\n",
       "      <th>network_global_degree</th>\n",
       "      <th>network_global_pagerank</th>\n",
       "      <th>network_local_degree</th>\n",
       "      <th>network_local_pagerank</th>\n",
       "      <th>pub_id</th>\n",
       "      <th>in_wikipedia</th>\n",
       "      <th>title</th>\n",
       "      <th>publication_year</th>\n",
       "      <th>Coronaviruses</th>\n",
       "      <th>Epidemics</th>\n",
       "      <th>Public health</th>\n",
       "      <th>Molecular biology and immunology</th>\n",
       "      <th>Clinical medicine</th>\n",
       "    </tr>\n",
       "  </thead>\n",
       "  <tbody>\n",
       "    <tr>\n",
       "      <th>0</th>\n",
       "      <td>pub.1121976320</td>\n",
       "      <td>1075</td>\n",
       "      <td>False</td>\n",
       "      <td>12</td>\n",
       "      <td>60</td>\n",
       "      <td>0.000003</td>\n",
       "      <td>NaN</td>\n",
       "      <td>NaN</td>\n",
       "      <td>137626</td>\n",
       "      <td>False</td>\n",
       "      <td>An Exploration of Machine Learning Methods for...</td>\n",
       "      <td>2019.0</td>\n",
       "      <td>0.00000</td>\n",
       "      <td>0.328873</td>\n",
       "      <td>0.397463</td>\n",
       "      <td>0.037389</td>\n",
       "      <td>0.232290</td>\n",
       "    </tr>\n",
       "    <tr>\n",
       "      <th>1</th>\n",
       "      <td>pub.1103626240</td>\n",
       "      <td>36</td>\n",
       "      <td>True</td>\n",
       "      <td>418</td>\n",
       "      <td>320</td>\n",
       "      <td>0.000005</td>\n",
       "      <td>136.0</td>\n",
       "      <td>0.002279</td>\n",
       "      <td>65622</td>\n",
       "      <td>False</td>\n",
       "      <td>Molecularly specific detection of bacterial li...</td>\n",
       "      <td>2018.0</td>\n",
       "      <td>0.00000</td>\n",
       "      <td>0.069453</td>\n",
       "      <td>0.093479</td>\n",
       "      <td>0.506221</td>\n",
       "      <td>0.321498</td>\n",
       "    </tr>\n",
       "    <tr>\n",
       "      <th>2</th>\n",
       "      <td>pub.1049624581</td>\n",
       "      <td>23</td>\n",
       "      <td>True</td>\n",
       "      <td>655</td>\n",
       "      <td>48</td>\n",
       "      <td>0.000005</td>\n",
       "      <td>40.0</td>\n",
       "      <td>0.000637</td>\n",
       "      <td>103417</td>\n",
       "      <td>False</td>\n",
       "      <td>Hemodynamic-morphologic discriminants for intr...</td>\n",
       "      <td>2011.0</td>\n",
       "      <td>0.00000</td>\n",
       "      <td>0.542807</td>\n",
       "      <td>0.064618</td>\n",
       "      <td>0.000000</td>\n",
       "      <td>0.389494</td>\n",
       "    </tr>\n",
       "    <tr>\n",
       "      <th>3</th>\n",
       "      <td>pub.1026031634</td>\n",
       "      <td>2</td>\n",
       "      <td>True</td>\n",
       "      <td>3205</td>\n",
       "      <td>839</td>\n",
       "      <td>0.000009</td>\n",
       "      <td>567.0</td>\n",
       "      <td>0.000303</td>\n",
       "      <td>116401</td>\n",
       "      <td>False</td>\n",
       "      <td>Clinical Presentation and Birth Outcomes Assoc...</td>\n",
       "      <td>2016.0</td>\n",
       "      <td>0.48604</td>\n",
       "      <td>0.056072</td>\n",
       "      <td>0.037600</td>\n",
       "      <td>0.019100</td>\n",
       "      <td>0.397733</td>\n",
       "    </tr>\n",
       "    <tr>\n",
       "      <th>4</th>\n",
       "      <td>pub.1124597780</td>\n",
       "      <td>48</td>\n",
       "      <td>False</td>\n",
       "      <td>275</td>\n",
       "      <td>224</td>\n",
       "      <td>0.000003</td>\n",
       "      <td>NaN</td>\n",
       "      <td>NaN</td>\n",
       "      <td>111089</td>\n",
       "      <td>False</td>\n",
       "      <td>PfSWIB, a potential chromatin regulator for va...</td>\n",
       "      <td>2020.0</td>\n",
       "      <td>0.00000</td>\n",
       "      <td>0.196043</td>\n",
       "      <td>0.035244</td>\n",
       "      <td>0.717387</td>\n",
       "      <td>0.040151</td>\n",
       "    </tr>\n",
       "  </tbody>\n",
       "</table>\n",
       "</div>"
      ],
      "text/plain": [
       "    dimensions_id  network_cluster_id  network_cluster_above_threshold  \\\n",
       "0  pub.1121976320                1075                            False   \n",
       "1  pub.1103626240                  36                             True   \n",
       "2  pub.1049624581                  23                             True   \n",
       "3  pub.1026031634                   2                             True   \n",
       "4  pub.1124597780                  48                            False   \n",
       "\n",
       "   network_cluster_size  network_global_degree  network_global_pagerank  \\\n",
       "0                    12                     60                 0.000003   \n",
       "1                   418                    320                 0.000005   \n",
       "2                   655                     48                 0.000005   \n",
       "3                  3205                    839                 0.000009   \n",
       "4                   275                    224                 0.000003   \n",
       "\n",
       "   network_local_degree  network_local_pagerank  pub_id  in_wikipedia  \\\n",
       "0                   NaN                     NaN  137626         False   \n",
       "1                 136.0                0.002279   65622         False   \n",
       "2                  40.0                0.000637  103417         False   \n",
       "3                 567.0                0.000303  116401         False   \n",
       "4                   NaN                     NaN  111089         False   \n",
       "\n",
       "                                               title  publication_year  \\\n",
       "0  An Exploration of Machine Learning Methods for...            2019.0   \n",
       "1  Molecularly specific detection of bacterial li...            2018.0   \n",
       "2  Hemodynamic-morphologic discriminants for intr...            2011.0   \n",
       "3  Clinical Presentation and Birth Outcomes Assoc...            2016.0   \n",
       "4  PfSWIB, a potential chromatin regulator for va...            2020.0   \n",
       "\n",
       "   Coronaviruses  Epidemics  Public health  Molecular biology and immunology  \\\n",
       "0        0.00000   0.328873       0.397463                          0.037389   \n",
       "1        0.00000   0.069453       0.093479                          0.506221   \n",
       "2        0.00000   0.542807       0.064618                          0.000000   \n",
       "3        0.48604   0.056072       0.037600                          0.019100   \n",
       "4        0.00000   0.196043       0.035244                          0.717387   \n",
       "\n",
       "   Clinical medicine  \n",
       "0           0.232290  \n",
       "1           0.321498  \n",
       "2           0.389494  \n",
       "3           0.397733  \n",
       "4           0.040151  "
      ]
     },
     "execution_count": 12,
     "metadata": {},
     "output_type": "execute_result"
    }
   ],
   "source": [
    "df_embeddings.head()"
   ]
  },
  {
   "cell_type": "code",
   "execution_count": 63,
   "metadata": {},
   "outputs": [
    {
     "data": {
      "image/png": "[encoded data removed]",
      "text/plain": [
       "<Figure size 720x576 with 1 Axes>"
      ]
     },
     "metadata": {},
     "output_type": "display_data"
    }
   ],
   "source": [
    "# distribution of centralities for papers cited from Wikipedia or not\n",
    "\n",
    "which_centrality = \"network_global_degree\"\n",
    "\n",
    "plt.figure(figsize=(10,8))\n",
    "sns.distplot(df_embeddings[df_embeddings.in_wikipedia==True][which_centrality].values, color=\"green\", kde=True, norm_hist=True, kde_kws={\"shade\": True}, hist=False, label=\"In Wikipedia\")\n",
    "sns.distplot(df_embeddings[df_embeddings.in_wikipedia==False][which_centrality].values, color=\"blue\", kde=True, norm_hist=True, kde_kws={\"shade\": True}, hist=False, label=\"Not in Wikipedia\")\n",
    "plt.legend(fontsize=15)\n",
    "plt.xlabel(\"%s\"%which_centrality,fontsize=15)\n",
    "plt.savefig(\"figures/nb4_%s_in_wiki.pdf\"%which_centrality)"
   ]
  },
  {
   "cell_type": "code",
   "execution_count": 64,
   "metadata": {},
   "outputs": [],
   "source": [
    "# plot cluster % of papers cited from Wikipedia, against cluster size"
   ]
  },
  {
   "cell_type": "code",
   "execution_count": 13,
   "metadata": {},
   "outputs": [],
   "source": [
    "threshold = 300 #see above"
   ]
  },
  {
   "cell_type": "code",
   "execution_count": 18,
   "metadata": {},
   "outputs": [],
   "source": [
    "cluster_coverage = list()\n",
    "cluster_size = list()\n",
    "cluster_number = list()\n",
    "below_threshold_size = 0\n",
    "below_threshold_coverage = 0\n",
    "local_threshold = threshold\n",
    "#threshold = 500\n",
    "\n",
    "# also calculate paper centralities wrt. cluster centroid\n",
    "# for every paper, this is 1 - the (cosine) distance wrt. its centroid\n",
    "# we need both similarity and args to index results\n",
    "\n",
    "for cl in list(set(df_embeddings.network_cluster_id.to_list())):\n",
    "    cl_size = df_embeddings[df_embeddings.network_cluster_id == cl].shape[0]\n",
    "    inw = df_embeddings[(df_embeddings.in_wikipedia==True)&(df_embeddings.network_cluster_id==cl)].shape[0]\n",
    "    if cl_size>=threshold:\n",
    "        coverage = inw/cl_size\n",
    "        cluster_coverage.append(coverage)\n",
    "        cluster_size.append(cl_size)\n",
    "        cluster_number.append(cl)\n",
    "    else:\n",
    "        below_threshold_coverage += inw\n",
    "        below_threshold_size += cl_size\n",
    "#cluster_coverage.append(below_threshold_coverage/below_threshold_size)\n",
    "#cluster_size.append(below_threshold_size)\n",
    "#cluster_number.append(-1)"
   ]
  },
  {
   "cell_type": "code",
   "execution_count": 26,
   "metadata": {},
   "outputs": [
    {
     "data": {
      "text/plain": [
       "41"
      ]
     },
     "execution_count": 26,
     "metadata": {},
     "output_type": "execute_result"
    }
   ],
   "source": [
    "len(cluster_coverage)"
   ]
  },
  {
   "cell_type": "code",
   "execution_count": 21,
   "metadata": {},
   "outputs": [
    {
     "data": {
      "image/png": "[encoded data removed]",
      "text/plain": [
       "<Figure size 432x432 with 1 Axes>"
      ]
     },
     "metadata": {},
     "output_type": "display_data"
    }
   ],
   "source": [
    "plt.figure(figsize=(6,6))\n",
    "pl = sns.scatterplot(x=cluster_size,y=cluster_coverage,s=200)\n",
    "# add annotations one by one with a loop\n",
    "for dot in cluster_number:\n",
    "     pl.text(cluster_size[dot]+7, cluster_coverage[dot]+0.002, s=cluster_number[dot], horizontalalignment='left', size='medium', color='black', weight='semibold')\n",
    "plt.ylim((0,0.11))\n",
    "plt.xlim((0,max(cluster_size)+500))\n",
    "#plt.legend(fontsize=15)\n",
    "plt.tick_params(labelsize=12)\n",
    "plt.ylabel(\"% cited from Wikipedia\",fontsize=15)\n",
    "plt.xlabel(\"Cluster size\",fontsize=15)\n",
    "plt.savefig(\"figures/nb4_cluster_size_vs_wiki_coverage_%d_no_max.pdf\"%local_threshold)"
   ]
  },
  {
   "cell_type": "code",
   "execution_count": 43,
   "metadata": {},
   "outputs": [],
   "source": [
    "which_cluster = 31"
   ]
  },
  {
   "cell_type": "code",
   "execution_count": 44,
   "metadata": {},
   "outputs": [
    {
     "data": {
      "image/png": "[encoded data removed]",
      "text/plain": [
       "<Figure size 432x288 with 1 Axes>"
      ]
     },
     "metadata": {},
     "output_type": "display_data"
    }
   ],
   "source": [
    "sns.distplot(df_embeddings[df_embeddings.network_cluster_id == which_cluster].publication_year, bins=20, kde=False)\n",
    "plt.xlabel(\"Year\",fontsize=15)\n",
    "plt.ylabel(\"Count\",fontsize=15)\n",
    "plt.tick_params(labelsize=12)\n",
    "plt.gca().xaxis.set_major_formatter(FuncFormatter(lambda x, _: int(x)))\n",
    "plt.tight_layout()\n",
    "#plt.savefig(\"figures/nb4_cluster_%d_yeardistr.pdf\"%(which_cluster))"
   ]
  },
  {
   "cell_type": "code",
   "execution_count": 45,
   "metadata": {},
   "outputs": [
    {
     "data": {
      "image/png": "[encoded data removed]",
      "text/plain": [
       "<Figure size 576x360 with 1 Axes>"
      ]
     },
     "metadata": {},
     "output_type": "display_data"
    }
   ],
   "source": [
    "plt.figure(figsize=(8,5))\n",
    "df_sub = df_embeddings[df_embeddings.network_cluster_id == which_cluster][[mt for mt in topic_labels]].mean()\n",
    "b = sns.barplot(y=df_sub.index,x=df_sub.values)\n",
    "b.set_xlabel(\"Proportion\",fontsize=15)\n",
    "b.set_ylabel(\"Macrotopic\",fontsize=15)\n",
    "b.tick_params(labelsize=12)\n",
    "plt.tight_layout()\n",
    "#plt.savefig(\"figures/nb4_cluster_%d_to_topicmodel.pdf\"%(which_cluster))"
   ]
  },
  {
   "cell_type": "code",
   "execution_count": 46,
   "metadata": {},
   "outputs": [
    {
     "data": {
      "text/html": [
       "<div>\n",
       "<style scoped>\n",
       "    .dataframe tbody tr th:only-of-type {\n",
       "        vertical-align: middle;\n",
       "    }\n",
       "\n",
       "    .dataframe tbody tr th {\n",
       "        vertical-align: top;\n",
       "    }\n",
       "\n",
       "    .dataframe thead th {\n",
       "        text-align: right;\n",
       "    }\n",
       "</style>\n",
       "<table border=\"1\" class=\"dataframe\">\n",
       "  <thead>\n",
       "    <tr style=\"text-align: right;\">\n",
       "      <th></th>\n",
       "      <th>dimensions_id</th>\n",
       "      <th>network_cluster_id</th>\n",
       "      <th>network_cluster_size</th>\n",
       "      <th>network_global_degree</th>\n",
       "      <th>network_global_pagerank</th>\n",
       "      <th>title</th>\n",
       "      <th>publication_year</th>\n",
       "    </tr>\n",
       "  </thead>\n",
       "  <tbody>\n",
       "    <tr>\n",
       "      <th>8962</th>\n",
       "      <td>pub.1033411825</td>\n",
       "      <td>31</td>\n",
       "      <td>462</td>\n",
       "      <td>1176</td>\n",
       "      <td>0.000013</td>\n",
       "      <td>Characterization of the frameshift signal of E...</td>\n",
       "      <td>2005.0</td>\n",
       "    </tr>\n",
       "    <tr>\n",
       "      <th>61987</th>\n",
       "      <td>pub.1020049797</td>\n",
       "      <td>31</td>\n",
       "      <td>462</td>\n",
       "      <td>879</td>\n",
       "      <td>0.000013</td>\n",
       "      <td>The role of RNA pseudoknot stem 1 length in th...</td>\n",
       "      <td>1999.0</td>\n",
       "    </tr>\n",
       "    <tr>\n",
       "      <th>101359</th>\n",
       "      <td>pub.1041739343</td>\n",
       "      <td>31</td>\n",
       "      <td>462</td>\n",
       "      <td>712</td>\n",
       "      <td>0.000013</td>\n",
       "      <td>Pseudoknot-Dependent Programmed —1 Ribosomal F...</td>\n",
       "      <td>2009.0</td>\n",
       "    </tr>\n",
       "    <tr>\n",
       "      <th>100543</th>\n",
       "      <td>pub.1006608266</td>\n",
       "      <td>31</td>\n",
       "      <td>462</td>\n",
       "      <td>1010</td>\n",
       "      <td>0.000013</td>\n",
       "      <td>The stimulatory RNA of the Visna-Maedi retrovi...</td>\n",
       "      <td>2008.0</td>\n",
       "    </tr>\n",
       "    <tr>\n",
       "      <th>49617</th>\n",
       "      <td>pub.1008977174</td>\n",
       "      <td>31</td>\n",
       "      <td>462</td>\n",
       "      <td>1553</td>\n",
       "      <td>0.000013</td>\n",
       "      <td>Transactivation of programmed ribosomal frames...</td>\n",
       "      <td>2014.0</td>\n",
       "    </tr>\n",
       "    <tr>\n",
       "      <th>100225</th>\n",
       "      <td>pub.1024956862</td>\n",
       "      <td>31</td>\n",
       "      <td>462</td>\n",
       "      <td>864</td>\n",
       "      <td>0.000012</td>\n",
       "      <td>A Genome-Wide Analysis of RNA Pseudoknots That...</td>\n",
       "      <td>2013.0</td>\n",
       "    </tr>\n",
       "    <tr>\n",
       "      <th>53562</th>\n",
       "      <td>pub.1000083772</td>\n",
       "      <td>31</td>\n",
       "      <td>462</td>\n",
       "      <td>826</td>\n",
       "      <td>0.000012</td>\n",
       "      <td>Identification and analysis of the gag-pol rib...</td>\n",
       "      <td>1992.0</td>\n",
       "    </tr>\n",
       "    <tr>\n",
       "      <th>62079</th>\n",
       "      <td>pub.1049934732</td>\n",
       "      <td>31</td>\n",
       "      <td>462</td>\n",
       "      <td>762</td>\n",
       "      <td>0.000011</td>\n",
       "      <td>V, 2.Ribosomal frameshifting in astroviruses</td>\n",
       "      <td>2004.0</td>\n",
       "    </tr>\n",
       "    <tr>\n",
       "      <th>102514</th>\n",
       "      <td>pub.1052229334</td>\n",
       "      <td>31</td>\n",
       "      <td>462</td>\n",
       "      <td>502</td>\n",
       "      <td>0.000011</td>\n",
       "      <td>An intermolecular RNA triplex provides insight...</td>\n",
       "      <td>2009.0</td>\n",
       "    </tr>\n",
       "    <tr>\n",
       "      <th>104115</th>\n",
       "      <td>pub.1028642862</td>\n",
       "      <td>31</td>\n",
       "      <td>462</td>\n",
       "      <td>895</td>\n",
       "      <td>0.000011</td>\n",
       "      <td>The many paths to frameshifting: kinetic model...</td>\n",
       "      <td>2010.0</td>\n",
       "    </tr>\n",
       "    <tr>\n",
       "      <th>103888</th>\n",
       "      <td>pub.1006621416</td>\n",
       "      <td>31</td>\n",
       "      <td>462</td>\n",
       "      <td>1095</td>\n",
       "      <td>0.000010</td>\n",
       "      <td>An Extended Signal Involved in Eukaryotic −1 F...</td>\n",
       "      <td>2005.0</td>\n",
       "    </tr>\n",
       "    <tr>\n",
       "      <th>23614</th>\n",
       "      <td>pub.1012522136</td>\n",
       "      <td>31</td>\n",
       "      <td>462</td>\n",
       "      <td>726</td>\n",
       "      <td>0.000010</td>\n",
       "      <td>HIV-1 frameshift efficiency is primarily deter...</td>\n",
       "      <td>2012.0</td>\n",
       "    </tr>\n",
       "    <tr>\n",
       "      <th>29792</th>\n",
       "      <td>pub.1004688837</td>\n",
       "      <td>31</td>\n",
       "      <td>462</td>\n",
       "      <td>960</td>\n",
       "      <td>0.000010</td>\n",
       "      <td>Possible involvement of coaxially stacked doub...</td>\n",
       "      <td>2015.0</td>\n",
       "    </tr>\n",
       "    <tr>\n",
       "      <th>52624</th>\n",
       "      <td>pub.1038351719</td>\n",
       "      <td>31</td>\n",
       "      <td>462</td>\n",
       "      <td>794</td>\n",
       "      <td>0.000010</td>\n",
       "      <td>Evidence for an RNA pseudoknot loop-helix inte...</td>\n",
       "      <td>1999.0</td>\n",
       "    </tr>\n",
       "    <tr>\n",
       "      <th>2003</th>\n",
       "      <td>pub.1044390457</td>\n",
       "      <td>31</td>\n",
       "      <td>462</td>\n",
       "      <td>428</td>\n",
       "      <td>0.000010</td>\n",
       "      <td>Programmed -1 frameshifting efficiency correla...</td>\n",
       "      <td>2012.0</td>\n",
       "    </tr>\n",
       "    <tr>\n",
       "      <th>66487</th>\n",
       "      <td>pub.1040519453</td>\n",
       "      <td>31</td>\n",
       "      <td>462</td>\n",
       "      <td>664</td>\n",
       "      <td>0.000010</td>\n",
       "      <td>Prokaryotic-style frameshifting in a plant tra...</td>\n",
       "      <td>2003.0</td>\n",
       "    </tr>\n",
       "    <tr>\n",
       "      <th>38065</th>\n",
       "      <td>pub.1090714842</td>\n",
       "      <td>31</td>\n",
       "      <td>462</td>\n",
       "      <td>854</td>\n",
       "      <td>0.000010</td>\n",
       "      <td>Determination of Ferret Enteric Coronavirus Ge...</td>\n",
       "      <td>2017.0</td>\n",
       "    </tr>\n",
       "    <tr>\n",
       "      <th>71506</th>\n",
       "      <td>pub.1006468765</td>\n",
       "      <td>31</td>\n",
       "      <td>462</td>\n",
       "      <td>622</td>\n",
       "      <td>0.000010</td>\n",
       "      <td>Identification of RNA pseudoknot-binding ligan...</td>\n",
       "      <td>2011.0</td>\n",
       "    </tr>\n",
       "    <tr>\n",
       "      <th>50201</th>\n",
       "      <td>pub.1052495971</td>\n",
       "      <td>31</td>\n",
       "      <td>462</td>\n",
       "      <td>492</td>\n",
       "      <td>0.000010</td>\n",
       "      <td>Translating old drugs into new treatments: rib...</td>\n",
       "      <td>1998.0</td>\n",
       "    </tr>\n",
       "    <tr>\n",
       "      <th>62071</th>\n",
       "      <td>pub.1000651620</td>\n",
       "      <td>31</td>\n",
       "      <td>462</td>\n",
       "      <td>719</td>\n",
       "      <td>0.000009</td>\n",
       "      <td>Frameshifting RNA Pseudoknots: Structure and M...</td>\n",
       "      <td>2009.0</td>\n",
       "    </tr>\n",
       "  </tbody>\n",
       "</table>\n",
       "</div>"
      ],
      "text/plain": [
       "         dimensions_id  network_cluster_id  network_cluster_size  \\\n",
       "8962    pub.1033411825                  31                   462   \n",
       "61987   pub.1020049797                  31                   462   \n",
       "101359  pub.1041739343                  31                   462   \n",
       "100543  pub.1006608266                  31                   462   \n",
       "49617   pub.1008977174                  31                   462   \n",
       "100225  pub.1024956862                  31                   462   \n",
       "53562   pub.1000083772                  31                   462   \n",
       "62079   pub.1049934732                  31                   462   \n",
       "102514  pub.1052229334                  31                   462   \n",
       "104115  pub.1028642862                  31                   462   \n",
       "103888  pub.1006621416                  31                   462   \n",
       "23614   pub.1012522136                  31                   462   \n",
       "29792   pub.1004688837                  31                   462   \n",
       "52624   pub.1038351719                  31                   462   \n",
       "2003    pub.1044390457                  31                   462   \n",
       "66487   pub.1040519453                  31                   462   \n",
       "38065   pub.1090714842                  31                   462   \n",
       "71506   pub.1006468765                  31                   462   \n",
       "50201   pub.1052495971                  31                   462   \n",
       "62071   pub.1000651620                  31                   462   \n",
       "\n",
       "        network_global_degree  network_global_pagerank  \\\n",
       "8962                     1176                 0.000013   \n",
       "61987                     879                 0.000013   \n",
       "101359                    712                 0.000013   \n",
       "100543                   1010                 0.000013   \n",
       "49617                    1553                 0.000013   \n",
       "100225                    864                 0.000012   \n",
       "53562                     826                 0.000012   \n",
       "62079                     762                 0.000011   \n",
       "102514                    502                 0.000011   \n",
       "104115                    895                 0.000011   \n",
       "103888                   1095                 0.000010   \n",
       "23614                     726                 0.000010   \n",
       "29792                     960                 0.000010   \n",
       "52624                     794                 0.000010   \n",
       "2003                      428                 0.000010   \n",
       "66487                     664                 0.000010   \n",
       "38065                     854                 0.000010   \n",
       "71506                     622                 0.000010   \n",
       "50201                     492                 0.000010   \n",
       "62071                     719                 0.000009   \n",
       "\n",
       "                                                    title  publication_year  \n",
       "8962    Characterization of the frameshift signal of E...            2005.0  \n",
       "61987   The role of RNA pseudoknot stem 1 length in th...            1999.0  \n",
       "101359  Pseudoknot-Dependent Programmed —1 Ribosomal F...            2009.0  \n",
       "100543  The stimulatory RNA of the Visna-Maedi retrovi...            2008.0  \n",
       "49617   Transactivation of programmed ribosomal frames...            2014.0  \n",
       "100225  A Genome-Wide Analysis of RNA Pseudoknots That...            2013.0  \n",
       "53562   Identification and analysis of the gag-pol rib...            1992.0  \n",
       "62079        V, 2.Ribosomal frameshifting in astroviruses            2004.0  \n",
       "102514  An intermolecular RNA triplex provides insight...            2009.0  \n",
       "104115  The many paths to frameshifting: kinetic model...            2010.0  \n",
       "103888  An Extended Signal Involved in Eukaryotic −1 F...            2005.0  \n",
       "23614   HIV-1 frameshift efficiency is primarily deter...            2012.0  \n",
       "29792   Possible involvement of coaxially stacked doub...            2015.0  \n",
       "52624   Evidence for an RNA pseudoknot loop-helix inte...            1999.0  \n",
       "2003    Programmed -1 frameshifting efficiency correla...            2012.0  \n",
       "66487   Prokaryotic-style frameshifting in a plant tra...            2003.0  \n",
       "38065   Determination of Ferret Enteric Coronavirus Ge...            2017.0  \n",
       "71506   Identification of RNA pseudoknot-binding ligan...            2011.0  \n",
       "50201   Translating old drugs into new treatments: rib...            1998.0  \n",
       "62071   Frameshifting RNA Pseudoknots: Structure and M...            2009.0  "
      ]
     },
     "execution_count": 46,
     "metadata": {},
     "output_type": "execute_result"
    }
   ],
   "source": [
    "# examples of central papers in a cluster\n",
    "\n",
    "df_embeddings[[\"dimensions_id\",\"network_cluster_id\",\"network_cluster_size\",\"network_global_degree\",\"network_global_pagerank\",\"title\",\"publication_year\"]][df_embeddings.network_cluster_id==which_cluster].sort_values(\"network_global_pagerank\",ascending=False).head(20)"
   ]
  },
  {
   "cell_type": "code",
   "execution_count": null,
   "metadata": {},
   "outputs": [],
   "source": []
  },
  {
   "cell_type": "code",
   "execution_count": null,
   "metadata": {},
   "outputs": [],
   "source": []
  }
 ],
 "metadata": {
  "kernelspec": {
   "display_name": "Python 3",
   "language": "python",
   "name": "python3"
  },
  "language_info": {
   "codemirror_mode": {
    "name": "ipython",
    "version": 3
   },
   "file_extension": ".py",
   "mimetype": "text/x-python",
   "name": "python",
   "nbconvert_exporter": "python",
   "pygments_lexer": "ipython3",
   "version": "3.7.6"
  }
 },
 "nbformat": 4,
 "nbformat_minor": 4
}
