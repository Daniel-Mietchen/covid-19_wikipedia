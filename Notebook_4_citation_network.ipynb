{
 "cells": [
  {
   "cell_type": "markdown",
   "metadata": {},
   "source": [
    "# CORD-19 citation network analysis\n",
    "\n",
    "In this notebook, we build a bibliographic coupling citation network of the publications we could match in Dimensions, and perform clustering using the Leiden algorithm. We export cluster partition information, as well as global and local (cluster-specific) centrality measures to use in the regression analysis."
   ]
  },
  {
   "cell_type": "code",
   "execution_count": 1,
   "metadata": {},
   "outputs": [],
   "source": [
    "%matplotlib inline\n",
    "import matplotlib.pyplot as plt\n",
    "\n",
    "# magics and warnings\n",
    "%load_ext autoreload\n",
    "%autoreload 2\n",
    "import warnings; warnings.simplefilter('ignore')\n",
    "\n",
    "import os, random, codecs, time, pickle\n",
    "import ujson as json\n",
    "from tqdm.notebook import tqdm\n",
    "import pandas as pd\n",
    "import numpy as np\n",
    "\n",
    "seed = 99\n",
    "random.seed(seed)\n",
    "np.random.seed(seed)\n",
    "\n",
    "import nltk, sklearn\n",
    "import matplotlib.pyplot as plt\n",
    "from  matplotlib.ticker import FuncFormatter\n",
    "import seaborn as sns\n",
    "sns.set(style=\"white\")\n",
    "sns.set_context(\"paper\", font_scale=1.2, rc={\"lines.linewidth\": 2.5})"
   ]
  },
  {
   "cell_type": "code",
   "execution_count": 2,
   "metadata": {},
   "outputs": [],
   "source": [
    "# dataset Dimensions: source of citation data\n",
    "\n",
    "json_sources = \"../cwts_covid/datasets_output/json_dimensions_cwts\""
   ]
  },
  {
   "cell_type": "code",
   "execution_count": 3,
   "metadata": {
    "scrolled": false
   },
   "outputs": [],
   "source": [
    "# build networks and node metadata\n",
    "# this requires Dimensions data, downloaded following: https://github.com/CWTSLeiden/cwts_covid\n",
    "\n",
    "from collections import OrderedDict\n",
    "import sys\n",
    "\n",
    "metadata = list()\n",
    "metadata_dict = dict()\n",
    "citations = OrderedDict()\n",
    "total_publications = 0\n",
    "\n",
    "for root, dirs, files in os.walk(json_sources):\n",
    "    for f in files:\n",
    "        all_data = codecs.open(os.path.join(root,f)).read()\n",
    "        for line in all_data.split(\"\\n\"):\n",
    "            total_publications += 1\n",
    "            if line:\n",
    "                try:\n",
    "                    data = json.loads(line)\n",
    "                    if \"references\" in data.keys() and len(data[\"references\"])>0: # filter out papers without outbound citations\n",
    "                        title = \"\"\n",
    "                        year = \"\"\n",
    "                        doi = \"\"\n",
    "                        pmid = \"\"\n",
    "                        d_id = \"\"\n",
    "                        times_cited = \"\"\n",
    "                        journal = \"\"\n",
    "                        if \"title\" in data.keys() and data[\"title\"]:\n",
    "                            title = data[\"title\"].replace('\"',\"\")\n",
    "                        if \"journal\" in data.keys() and \"title\" in data[\"journal\"].keys() and data[\"journal\"][\"title\"]:\n",
    "                            jorunal = data[\"journal\"][\"title\"]\n",
    "                        if \"year\" in data.keys() and data[\"year\"]:\n",
    "                            year = str(data[\"year\"])\n",
    "                        if \"doi\" in data.keys() and data[\"doi\"]:\n",
    "                            doi = data[\"doi\"]\n",
    "                        if \"pmid\" in data.keys() and data[\"pmid\"]:\n",
    "                            doi = str(data[\"pmid\"])\n",
    "                        if \"id\" in data.keys() and data[\"id\"]:\n",
    "                            d_id = str(data[\"id\"])\n",
    "                        if \"times_cited\" in data.keys():\n",
    "                            times_cited = str(data[\"times_cited\"])\n",
    "                        metadata.append((d_id,'\"'+title+'\"',year,'\"'+doi+'\"',pmid,'\"'+journal+'\"',times_cited))\n",
    "                        metadata_dict[d_id] = {\"title\":title,\"year\":year,\"doi\":doi,\"journal\":journal,\"times_cited\":times_cited,\n",
    "                                                    \"pmid\":pmid,\"d_id\":d_id}\n",
    "                        citations[data[\"id\"]] = data[\"references\"]\n",
    "                except ValueError:\n",
    "                    print(\"Could not convert data.\")\n",
    "                except:\n",
    "                    print(line)\n",
    "                    continue"
   ]
  },
  {
   "cell_type": "code",
   "execution_count": 4,
   "metadata": {},
   "outputs": [
    {
     "data": {
      "text/plain": [
       "54293"
      ]
     },
     "execution_count": 4,
     "metadata": {},
     "output_type": "execute_result"
    }
   ],
   "source": [
    "len(citations)"
   ]
  },
  {
   "cell_type": "code",
   "execution_count": 5,
   "metadata": {},
   "outputs": [
    {
     "data": {
      "text/plain": [
       "68309"
      ]
     },
     "execution_count": 5,
     "metadata": {},
     "output_type": "execute_result"
    }
   ],
   "source": [
    "total_publications"
   ]
  },
  {
   "cell_type": "code",
   "execution_count": 6,
   "metadata": {},
   "outputs": [
    {
     "data": {
      "application/vnd.jupyter.widget-view+json": {
       "model_id": "7e3898a7bbd94ee68c0858be416f6d46",
       "version_major": 2,
       "version_minor": 0
      },
      "text/plain": [
       "HBox(children=(FloatProgress(value=1.0, bar_style='info', max=1.0), HTML(value='')))"
      ]
     },
     "metadata": {},
     "output_type": "display_data"
    },
    {
     "name": "stdout",
     "output_type": "stream",
     "text": [
      "\n"
     ]
    }
   ],
   "source": [
    "# create bibc network\n",
    "# this is a super naive method, and takes a while\n",
    "\n",
    "bibc_edge_list = list()\n",
    "items = [(k,v) for k,v in citations.items()]\n",
    "\n",
    "for n,(k1,v1) in tqdm(enumerate(items)):\n",
    "    for k2,v2 in items[n+1:]:\n",
    "        edge_weight = len(set(v2).intersection(set(v1))) / len(set(v2).union(set(v1))) # fractional edge weight\n",
    "        if edge_weight > 0:\n",
    "            bibc_edge_list.append((k1,k2,str(edge_weight)))"
   ]
  },
  {
   "cell_type": "code",
   "execution_count": 7,
   "metadata": {},
   "outputs": [],
   "source": [
    "# export in csv (optional)\n",
    "\n",
    "with open(\"data/bib_coupling_edgelist_norm.csv\",\"w\") as f:\n",
    "    f.write(\"Source,Target,Weight\\n\")\n",
    "    for edge in bibc_edge_list:\n",
    "        #if float(edge[2])>1:\n",
    "        f.write(\",\".join(edge)+\"\\n\")"
   ]
  },
  {
   "cell_type": "code",
   "execution_count": 8,
   "metadata": {},
   "outputs": [],
   "source": [
    "with open(\"data/bib_coupling_nodelist.csv\",\"w\") as f:\n",
    "    f.write(\"ID,Title,Year,DOI,PMID,Journal,Times_cited\\n\")\n",
    "    for node in metadata:\n",
    "        f.write(\",\".join(node)+\"\\n\")"
   ]
  },
  {
   "cell_type": "code",
   "execution_count": 9,
   "metadata": {},
   "outputs": [
    {
     "data": {
      "text/plain": [
       "21078418"
      ]
     },
     "execution_count": 9,
     "metadata": {},
     "output_type": "execute_result"
    }
   ],
   "source": [
    "len(bibc_edge_list)"
   ]
  },
  {
   "cell_type": "code",
   "execution_count": 10,
   "metadata": {},
   "outputs": [],
   "source": [
    "weight_list = [float(x[2]) for x in bibc_edge_list if float(x[2])>0]"
   ]
  },
  {
   "cell_type": "code",
   "execution_count": 11,
   "metadata": {},
   "outputs": [
    {
     "data": {
      "text/plain": [
       "0.015625"
      ]
     },
     "execution_count": 11,
     "metadata": {},
     "output_type": "execute_result"
    }
   ],
   "source": [
    "np.median(weight_list)"
   ]
  },
  {
   "cell_type": "code",
   "execution_count": 12,
   "metadata": {},
   "outputs": [
    {
     "data": {
      "text/plain": [
       "<matplotlib.axes._subplots.AxesSubplot at 0x105755810>"
      ]
     },
     "execution_count": 12,
     "metadata": {},
     "output_type": "execute_result"
    },
    {
     "data": {
      "image/png": "[encoded data removed]",
      "text/plain": [
       "<Figure size 432x288 with 1 Axes>"
      ]
     },
     "metadata": {},
     "output_type": "display_data"
    }
   ],
   "source": [
    "sns.distplot(weight_list)"
   ]
  },
  {
   "cell_type": "code",
   "execution_count": 13,
   "metadata": {},
   "outputs": [],
   "source": [
    "# create an igraph graph\n",
    "\n",
    "import igraph as ig\n",
    "ig.set_random_number_generator(random.seed(seed))"
   ]
  },
  {
   "cell_type": "code",
   "execution_count": 14,
   "metadata": {},
   "outputs": [],
   "source": [
    "g = ig.Graph(directed=False)"
   ]
  },
  {
   "cell_type": "code",
   "execution_count": 15,
   "metadata": {},
   "outputs": [],
   "source": [
    "edges = [(int(k[0].replace(\"pub.\",\"\")),int(k[1].replace(\"pub.\",\"\"))) for k in bibc_edge_list]\n",
    "nodes = list(set([k[0] for k in edges]).union(set([k[1] for k in edges])))\n",
    "weights = [float(k[2]) for k in bibc_edge_list]"
   ]
  },
  {
   "cell_type": "code",
   "execution_count": 16,
   "metadata": {},
   "outputs": [],
   "source": [
    "# mapping of nodes to identifiers\n",
    "\n",
    "node_map = {k:n for n,k in enumerate(nodes)}\n",
    "edges_int = [(node_map[k[0]],node_map[k[1]]) for k in edges]\n",
    "nodes_int = [node_map[k] for k in nodes]"
   ]
  },
  {
   "cell_type": "code",
   "execution_count": 17,
   "metadata": {},
   "outputs": [
    {
     "data": {
      "text/plain": [
       "53252"
      ]
     },
     "execution_count": 17,
     "metadata": {},
     "output_type": "execute_result"
    }
   ],
   "source": [
    "len(node_map)"
   ]
  },
  {
   "cell_type": "code",
   "execution_count": 18,
   "metadata": {},
   "outputs": [
    {
     "data": {
      "text/plain": [
       "'There are 1041 disconnected publications (with references)'"
      ]
     },
     "execution_count": 18,
     "metadata": {},
     "output_type": "execute_result"
    }
   ],
   "source": [
    "\"There are \"+str(len(citations)-len(node_map))+\" disconnected publications (with references)\""
   ]
  },
  {
   "cell_type": "code",
   "execution_count": 19,
   "metadata": {},
   "outputs": [],
   "source": [
    "inverse_node_map = {n:k for k,n in node_map.items()}"
   ]
  },
  {
   "cell_type": "code",
   "execution_count": 20,
   "metadata": {},
   "outputs": [],
   "source": [
    "# add nodes and edges\n",
    "\n",
    "g.add_vertices(nodes_int)\n",
    "g.add_edges(edges_int)\n",
    "g.es[\"weight\"] = weights\n",
    "g.vs[\"weight\"] = 1\n",
    "g.vs[\"dimensions_id\"] = nodes"
   ]
  },
  {
   "cell_type": "code",
   "execution_count": 21,
   "metadata": {},
   "outputs": [],
   "source": [
    "# clustering \n",
    "import leidenalg as la"
   ]
  },
  {
   "cell_type": "code",
   "execution_count": 22,
   "metadata": {},
   "outputs": [],
   "source": [
    "h = g.components(mode='weak').giant()"
   ]
  },
  {
   "cell_type": "code",
   "execution_count": 23,
   "metadata": {},
   "outputs": [
    {
     "data": {
      "text/plain": [
       "53131"
      ]
     },
     "execution_count": 23,
     "metadata": {},
     "output_type": "execute_result"
    }
   ],
   "source": [
    "len(h.vs)"
   ]
  },
  {
   "cell_type": "code",
   "execution_count": 24,
   "metadata": {},
   "outputs": [],
   "source": [
    "# 0.05 seems to find a relatively high modularity and reasonable sized clusters. Lowering it brings up one or two large clusters.\n",
    "\n",
    "partition = la.find_partition(h, la.CPMVertexPartition, resolution_parameter = 0.05)"
   ]
  },
  {
   "cell_type": "code",
   "execution_count": 25,
   "metadata": {},
   "outputs": [
    {
     "data": {
      "text/plain": [
       "21566583.499999005"
      ]
     },
     "execution_count": 25,
     "metadata": {},
     "output_type": "execute_result"
    }
   ],
   "source": [
    "partition.quality()"
   ]
  },
  {
   "cell_type": "code",
   "execution_count": 26,
   "metadata": {},
   "outputs": [
    {
     "data": {
      "text/plain": [
       "0.3886989085767341"
      ]
     },
     "execution_count": 26,
     "metadata": {},
     "output_type": "execute_result"
    }
   ],
   "source": [
    "partition.q"
   ]
  },
  {
   "cell_type": "code",
   "execution_count": 27,
   "metadata": {},
   "outputs": [
    {
     "data": {
      "image/png": "[encoded data removed]",
      "text/plain": [
       "<Figure size 432x288 with 1 Axes>"
      ]
     },
     "metadata": {},
     "output_type": "display_data"
    }
   ],
   "source": [
    "# distribution of the size of clusters\n",
    "\n",
    "b = sns.distplot([x for x in partition.membership if x<100], norm_hist=False, kde=False, bins=100)\n",
    "b.set_xlabel(\"Cluster\",fontsize=15)\n",
    "b.set_ylabel(\"Size\",fontsize=15)\n",
    "b.tick_params(labelsize=12)\n",
    "plt.tight_layout()\n",
    "plt.savefig(\"figures/nb4_cluster_size_distr.pdf\")"
   ]
  },
  {
   "cell_type": "code",
   "execution_count": 28,
   "metadata": {},
   "outputs": [],
   "source": [
    "from collections import Counter\n",
    "\n",
    "c = Counter(partition.membership)"
   ]
  },
  {
   "cell_type": "code",
   "execution_count": 29,
   "metadata": {},
   "outputs": [
    {
     "data": {
      "text/plain": [
       "2296"
      ]
     },
     "execution_count": 29,
     "metadata": {},
     "output_type": "execute_result"
    }
   ],
   "source": [
    "len(c)"
   ]
  },
  {
   "cell_type": "code",
   "execution_count": 167,
   "metadata": {},
   "outputs": [
    {
     "data": {
      "text/plain": [
       "[(0, 7371),\n",
       " (1, 4208),\n",
       " (2, 2805),\n",
       " (3, 1831),\n",
       " (4, 1558),\n",
       " (5, 1202),\n",
       " (6, 1179),\n",
       " (7, 1125),\n",
       " (8, 1003),\n",
       " (9, 950),\n",
       " (10, 869),\n",
       " (11, 861),\n",
       " (12, 846),\n",
       " (13, 828),\n",
       " (14, 701)]"
      ]
     },
     "execution_count": 167,
     "metadata": {},
     "output_type": "execute_result"
    }
   ],
   "source": [
    "c.most_common(15)"
   ]
  },
  {
   "cell_type": "code",
   "execution_count": 31,
   "metadata": {},
   "outputs": [],
   "source": [
    "cluster_sizes = {c:s for c,s in c.most_common()}"
   ]
  },
  {
   "cell_type": "code",
   "execution_count": 32,
   "metadata": {},
   "outputs": [],
   "source": [
    "# add note attributes and calculate indicators. This takes some time to compute"
   ]
  },
  {
   "cell_type": "code",
   "execution_count": 33,
   "metadata": {},
   "outputs": [],
   "source": [
    "h.vs['cluster_id'] = partition.membership\n",
    "h.vs['cluster_above_threshold'] = False\n",
    "h.vs['cluster_size'] = [cluster_sizes[x] for x in partition.membership]"
   ]
  },
  {
   "cell_type": "code",
   "execution_count": 34,
   "metadata": {},
   "outputs": [],
   "source": [
    "h.vs['global_degree'] = h.degree()"
   ]
  },
  {
   "cell_type": "code",
   "execution_count": 35,
   "metadata": {},
   "outputs": [],
   "source": [
    "h.vs['global_pagerank'] = h.pagerank(directed=False, weights='weight')"
   ]
  },
  {
   "cell_type": "code",
   "execution_count": 36,
   "metadata": {},
   "outputs": [],
   "source": [
    "# using a cutoff here\n",
    "#h.vs['global_closeness'] = h.closeness(weights='weight')"
   ]
  },
  {
   "cell_type": "code",
   "execution_count": 37,
   "metadata": {},
   "outputs": [],
   "source": [
    "# cluster-specific indicators\n",
    "h.vs['local_degree'] = np.nan\n",
    "h.vs['local_pagerank'] = np.nan\n",
    "#h.vs['local_closeness'] = np.nan"
   ]
  },
  {
   "cell_type": "code",
   "execution_count": 57,
   "metadata": {},
   "outputs": [
    {
     "data": {
      "text/plain": [
       "0.5013269089608703"
      ]
     },
     "execution_count": 57,
     "metadata": {},
     "output_type": "execute_result"
    }
   ],
   "source": [
    "threshold = 800 # we only calculate indicators for nodes in clusters of size equal of greater than this threshold\n",
    "\n",
    "# we pick a treshold to consider > 50% of the nodes\n",
    "sum([x[1] for x in c.most_common() if x[1]>=threshold])/len(h.vs)"
   ]
  },
  {
   "cell_type": "code",
   "execution_count": 58,
   "metadata": {},
   "outputs": [],
   "source": [
    "for cluster in c.most_common():\n",
    "    c_id = cluster[0]\n",
    "    c_size = cluster[1]\n",
    "    if c_size >= threshold:\n",
    "        t = partition.subgraph(c_id)\n",
    "        t.vs['local_degree'] = t.degree()\n",
    "        t.vs['local_pagerank'] = t.pagerank(directed=False, weights='weight')\n",
    "        for v in t.vs:\n",
    "            h.vs.find(dimensions_id=v['dimensions_id'])['local_degree'] = v['local_degree']\n",
    "            h.vs.find(dimensions_id=v['dimensions_id'])['local_pagerank'] = v['local_pagerank']\n",
    "            h.vs.find(dimensions_id=v['dimensions_id'])['cluster_above_threshold'] = True"
   ]
  },
  {
   "cell_type": "code",
   "execution_count": 60,
   "metadata": {},
   "outputs": [],
   "source": [
    "# create and export a data frame\n",
    "df_network = pd.DataFrame.from_dict({\"dimensions_id\": [\"pub.\"+str(i) for i in h.vs['dimensions_id']],\n",
    "                                     \"network_cluster_id\": h.vs['cluster_id'],\n",
    "                                     \"network_cluster_above_threshold\": h.vs['cluster_above_threshold'],\n",
    "                                     \"network_cluster_size\": h.vs['cluster_size'],\n",
    "                                     \"network_global_degree\": h.vs['global_degree'],\n",
    "                                     \"network_global_pagerank\": h.vs['global_pagerank'],\n",
    "                                     \"network_local_degree\": h.vs['local_degree'],\n",
    "                                     \"network_local_pagerank\": h.vs['local_pagerank']})\n",
    "df_network.to_csv(\"data/df_network.csv\", index=False, compression=\"gzip\")"
   ]
  },
  {
   "cell_type": "code",
   "execution_count": 61,
   "metadata": {},
   "outputs": [],
   "source": [
    "# graph of clusters (optional)\n",
    "\n",
    "H = partition.cluster_graph(combine_vertices={'weight': 'sum'},\n",
    "                                                 combine_edges={'weight': 'mean'})\n",
    "H.write(\"data/network_of_clusters.graphml\",format=\"graphml\")"
   ]
  },
  {
   "cell_type": "markdown",
   "metadata": {},
   "source": [
    "### Plots"
   ]
  },
  {
   "cell_type": "code",
   "execution_count": 3,
   "metadata": {},
   "outputs": [],
   "source": [
    "# you can select here if to use an LDA or a CTM topic model\n",
    "df_topic_intensity = pd.read_csv(\"data/df_topic_intensity.csv\", compression=\"gzip\")\n",
    "#df_topic_intensity = pd.read_csv(\"data/df_topic_intensity_ctm.csv\", compression=\"gzip\")\n",
    "df_joined_all = pd.read_csv(\"data/df_joined_all.csv\", compression=\"gzip\")\n",
    "df_network = pd.read_csv(\"data/df_network.csv\", compression=\"gzip\")"
   ]
  },
  {
   "cell_type": "code",
   "execution_count": 4,
   "metadata": {},
   "outputs": [
    {
     "data": {
      "text/html": [
       "<div>\n",
       "<style scoped>\n",
       "    .dataframe tbody tr th:only-of-type {\n",
       "        vertical-align: middle;\n",
       "    }\n",
       "\n",
       "    .dataframe tbody tr th {\n",
       "        vertical-align: top;\n",
       "    }\n",
       "\n",
       "    .dataframe thead th {\n",
       "        text-align: right;\n",
       "    }\n",
       "</style>\n",
       "<table border=\"1\" class=\"dataframe\">\n",
       "  <thead>\n",
       "    <tr style=\"text-align: right;\">\n",
       "      <th></th>\n",
       "      <th>tm_coronaviruses</th>\n",
       "      <th>tm_transmission</th>\n",
       "      <th>tm_phe</th>\n",
       "      <th>tm_molecular_biology</th>\n",
       "      <th>tm_respiratory_diseases</th>\n",
       "      <th>tm_immunology</th>\n",
       "      <th>tm_clinical_medicine</th>\n",
       "      <th>pub_id</th>\n",
       "    </tr>\n",
       "  </thead>\n",
       "  <tbody>\n",
       "    <tr>\n",
       "      <th>0</th>\n",
       "      <td>0.166054</td>\n",
       "      <td>0.000000</td>\n",
       "      <td>0.782990</td>\n",
       "      <td>0.000000</td>\n",
       "      <td>0.000000</td>\n",
       "      <td>0.043276</td>\n",
       "      <td>0.000000</td>\n",
       "      <td>0</td>\n",
       "    </tr>\n",
       "    <tr>\n",
       "      <th>1</th>\n",
       "      <td>0.381396</td>\n",
       "      <td>0.104781</td>\n",
       "      <td>0.114435</td>\n",
       "      <td>0.325978</td>\n",
       "      <td>0.000000</td>\n",
       "      <td>0.000000</td>\n",
       "      <td>0.000000</td>\n",
       "      <td>1</td>\n",
       "    </tr>\n",
       "    <tr>\n",
       "      <th>2</th>\n",
       "      <td>0.427406</td>\n",
       "      <td>0.000000</td>\n",
       "      <td>0.000000</td>\n",
       "      <td>0.000000</td>\n",
       "      <td>0.304966</td>\n",
       "      <td>0.000000</td>\n",
       "      <td>0.258405</td>\n",
       "      <td>2</td>\n",
       "    </tr>\n",
       "    <tr>\n",
       "      <th>3</th>\n",
       "      <td>0.639613</td>\n",
       "      <td>0.011437</td>\n",
       "      <td>0.000000</td>\n",
       "      <td>0.000000</td>\n",
       "      <td>0.202549</td>\n",
       "      <td>0.017787</td>\n",
       "      <td>0.126117</td>\n",
       "      <td>3</td>\n",
       "    </tr>\n",
       "    <tr>\n",
       "      <th>4</th>\n",
       "      <td>0.191039</td>\n",
       "      <td>0.000000</td>\n",
       "      <td>0.000000</td>\n",
       "      <td>0.145550</td>\n",
       "      <td>0.285993</td>\n",
       "      <td>0.000000</td>\n",
       "      <td>0.326059</td>\n",
       "      <td>4</td>\n",
       "    </tr>\n",
       "  </tbody>\n",
       "</table>\n",
       "</div>"
      ],
      "text/plain": [
       "   tm_coronaviruses  tm_transmission    tm_phe  tm_molecular_biology  \\\n",
       "0          0.166054         0.000000  0.782990              0.000000   \n",
       "1          0.381396         0.104781  0.114435              0.325978   \n",
       "2          0.427406         0.000000  0.000000              0.000000   \n",
       "3          0.639613         0.011437  0.000000              0.000000   \n",
       "4          0.191039         0.000000  0.000000              0.145550   \n",
       "\n",
       "   tm_respiratory_diseases  tm_immunology  tm_clinical_medicine  pub_id  \n",
       "0                 0.000000       0.043276              0.000000       0  \n",
       "1                 0.000000       0.000000              0.000000       1  \n",
       "2                 0.304966       0.000000              0.258405       2  \n",
       "3                 0.202549       0.017787              0.126117       3  \n",
       "4                 0.285993       0.000000              0.326059       4  "
      ]
     },
     "execution_count": 4,
     "metadata": {},
     "output_type": "execute_result"
    }
   ],
   "source": [
    "df_topic_intensity.head()"
   ]
  },
  {
   "cell_type": "code",
   "execution_count": 5,
   "metadata": {},
   "outputs": [
    {
     "data": {
      "text/plain": [
       "Index(['tm_coronaviruses', 'tm_transmission', 'tm_phe', 'tm_molecular_biology',\n",
       "       'tm_respiratory_diseases', 'tm_immunology', 'tm_clinical_medicine',\n",
       "       'pub_id'],\n",
       "      dtype='object')"
      ]
     },
     "execution_count": 5,
     "metadata": {},
     "output_type": "execute_result"
    }
   ],
   "source": [
    "df_topic_intensity.columns"
   ]
  },
  {
   "cell_type": "code",
   "execution_count": 6,
   "metadata": {},
   "outputs": [],
   "source": [
    "topic_labels = ['tm_coronaviruses', 'tm_phe',\n",
    "       'tm_transmission', 'tm_molecular_biology',\n",
    "       'tm_respiratory_diseases', 'tm_immunology', 'tm_clinical_medicine']"
   ]
  },
  {
   "cell_type": "code",
   "execution_count": 7,
   "metadata": {},
   "outputs": [],
   "source": [
    "tm_names = {\"Coronaviruses\": \"tm_coronaviruses\",\n",
    "    \"Public health and epidemics\": \"tm_phe\",\n",
    "    \"Transmission\": \"tm_transmission\",\n",
    "    \"Molecular biology\": \"tm_molecular_biology\",\n",
    "    \"Respiratory diseases\": \"tm_respiratory_diseases\",\n",
    "    \"Immunology\": \"tm_immunology\",\n",
    "    \"Clinical medicine\": \"tm_clinical_medicine\"}\n",
    "topic_labels = [x for x in tm_names.keys()]\n",
    "reverse_tm_names = {x:y for y,x in tm_names.items()}\n",
    "df_topic_intensity.rename(columns=reverse_tm_names,inplace=True)"
   ]
  },
  {
   "cell_type": "code",
   "execution_count": 8,
   "metadata": {},
   "outputs": [],
   "source": [
    "df_embeddings = df_network.merge(df_joined_all[[\"pub_id\",\"dimensions_id\",\"in_wikipedia\",\"title\",\"publication_year\"]], how=\"inner\", left_on=\"dimensions_id\", right_on=\"dimensions_id\")"
   ]
  },
  {
   "cell_type": "code",
   "execution_count": 9,
   "metadata": {},
   "outputs": [
    {
     "data": {
      "text/plain": [
       "(51324, 12)"
      ]
     },
     "execution_count": 9,
     "metadata": {},
     "output_type": "execute_result"
    }
   ],
   "source": [
    "df_embeddings.shape"
   ]
  },
  {
   "cell_type": "code",
   "execution_count": 10,
   "metadata": {},
   "outputs": [],
   "source": [
    "df_embeddings = df_embeddings.merge(df_topic_intensity, how=\"inner\", left_on=\"pub_id\", right_on=\"pub_id\")"
   ]
  },
  {
   "cell_type": "code",
   "execution_count": 11,
   "metadata": {},
   "outputs": [
    {
     "data": {
      "text/plain": [
       "(66915, 8)"
      ]
     },
     "execution_count": 11,
     "metadata": {},
     "output_type": "execute_result"
    }
   ],
   "source": [
    "df_topic_intensity.shape"
   ]
  },
  {
   "cell_type": "code",
   "execution_count": 12,
   "metadata": {},
   "outputs": [
    {
     "data": {
      "text/plain": [
       "(50174, 19)"
      ]
     },
     "execution_count": 12,
     "metadata": {},
     "output_type": "execute_result"
    }
   ],
   "source": [
    "df_embeddings.shape"
   ]
  },
  {
   "cell_type": "code",
   "execution_count": 13,
   "metadata": {},
   "outputs": [
    {
     "data": {
      "text/html": [
       "<div>\n",
       "<style scoped>\n",
       "    .dataframe tbody tr th:only-of-type {\n",
       "        vertical-align: middle;\n",
       "    }\n",
       "\n",
       "    .dataframe tbody tr th {\n",
       "        vertical-align: top;\n",
       "    }\n",
       "\n",
       "    .dataframe thead th {\n",
       "        text-align: right;\n",
       "    }\n",
       "</style>\n",
       "<table border=\"1\" class=\"dataframe\">\n",
       "  <thead>\n",
       "    <tr style=\"text-align: right;\">\n",
       "      <th></th>\n",
       "      <th>dimensions_id</th>\n",
       "      <th>network_cluster_id</th>\n",
       "      <th>network_cluster_above_threshold</th>\n",
       "      <th>network_cluster_size</th>\n",
       "      <th>network_global_degree</th>\n",
       "      <th>network_global_pagerank</th>\n",
       "      <th>network_local_degree</th>\n",
       "      <th>network_local_pagerank</th>\n",
       "      <th>pub_id</th>\n",
       "      <th>in_wikipedia</th>\n",
       "      <th>title</th>\n",
       "      <th>publication_year</th>\n",
       "      <th>Coronaviruses</th>\n",
       "      <th>Transmission</th>\n",
       "      <th>Public health and epidemics</th>\n",
       "      <th>Molecular biology</th>\n",
       "      <th>Respiratory diseases</th>\n",
       "      <th>Immunology</th>\n",
       "      <th>Clinical medicine</th>\n",
       "    </tr>\n",
       "  </thead>\n",
       "  <tbody>\n",
       "    <tr>\n",
       "      <th>0</th>\n",
       "      <td>pub.1103626240</td>\n",
       "      <td>18</td>\n",
       "      <td>False</td>\n",
       "      <td>412</td>\n",
       "      <td>264</td>\n",
       "      <td>0.000009</td>\n",
       "      <td>NaN</td>\n",
       "      <td>NaN</td>\n",
       "      <td>31796</td>\n",
       "      <td>False</td>\n",
       "      <td>Molecularly specific detection of bacterial li...</td>\n",
       "      <td>2018.0</td>\n",
       "      <td>0.094277</td>\n",
       "      <td>0.010803</td>\n",
       "      <td>0.054898</td>\n",
       "      <td>0.279896</td>\n",
       "      <td>0.067304</td>\n",
       "      <td>0.323404</td>\n",
       "      <td>0.167419</td>\n",
       "    </tr>\n",
       "    <tr>\n",
       "      <th>1</th>\n",
       "      <td>pub.1121976320</td>\n",
       "      <td>174</td>\n",
       "      <td>False</td>\n",
       "      <td>28</td>\n",
       "      <td>34</td>\n",
       "      <td>0.000006</td>\n",
       "      <td>NaN</td>\n",
       "      <td>NaN</td>\n",
       "      <td>60836</td>\n",
       "      <td>False</td>\n",
       "      <td>An Exploration of Machine Learning Methods for...</td>\n",
       "      <td>2019.0</td>\n",
       "      <td>0.021636</td>\n",
       "      <td>0.000000</td>\n",
       "      <td>0.581015</td>\n",
       "      <td>0.000000</td>\n",
       "      <td>0.000000</td>\n",
       "      <td>0.124919</td>\n",
       "      <td>0.267546</td>\n",
       "    </tr>\n",
       "    <tr>\n",
       "      <th>2</th>\n",
       "      <td>pub.1038352402</td>\n",
       "      <td>6</td>\n",
       "      <td>True</td>\n",
       "      <td>1179</td>\n",
       "      <td>583</td>\n",
       "      <td>0.000013</td>\n",
       "      <td>296.0</td>\n",
       "      <td>0.000626</td>\n",
       "      <td>46876</td>\n",
       "      <td>False</td>\n",
       "      <td>Smallpox and Season: Reanalysis of Historical ...</td>\n",
       "      <td>2009.0</td>\n",
       "      <td>0.210432</td>\n",
       "      <td>0.000000</td>\n",
       "      <td>0.632429</td>\n",
       "      <td>0.000000</td>\n",
       "      <td>0.000000</td>\n",
       "      <td>0.000000</td>\n",
       "      <td>0.149465</td>\n",
       "    </tr>\n",
       "    <tr>\n",
       "      <th>3</th>\n",
       "      <td>pub.1026031634</td>\n",
       "      <td>2</td>\n",
       "      <td>True</td>\n",
       "      <td>2805</td>\n",
       "      <td>686</td>\n",
       "      <td>0.000019</td>\n",
       "      <td>488.0</td>\n",
       "      <td>0.000373</td>\n",
       "      <td>52694</td>\n",
       "      <td>False</td>\n",
       "      <td>Clinical Presentation and Birth Outcomes Assoc...</td>\n",
       "      <td>2016.0</td>\n",
       "      <td>0.286207</td>\n",
       "      <td>0.000000</td>\n",
       "      <td>0.000000</td>\n",
       "      <td>0.000000</td>\n",
       "      <td>0.261411</td>\n",
       "      <td>0.025059</td>\n",
       "      <td>0.423279</td>\n",
       "    </tr>\n",
       "    <tr>\n",
       "      <th>4</th>\n",
       "      <td>pub.1032847387</td>\n",
       "      <td>52</td>\n",
       "      <td>False</td>\n",
       "      <td>118</td>\n",
       "      <td>109</td>\n",
       "      <td>0.000007</td>\n",
       "      <td>NaN</td>\n",
       "      <td>NaN</td>\n",
       "      <td>41213</td>\n",
       "      <td>False</td>\n",
       "      <td>CD4(+) T cells against human papillomavirus-18...</td>\n",
       "      <td>2010.0</td>\n",
       "      <td>0.038589</td>\n",
       "      <td>0.185210</td>\n",
       "      <td>0.000000</td>\n",
       "      <td>0.473719</td>\n",
       "      <td>0.033090</td>\n",
       "      <td>0.047457</td>\n",
       "      <td>0.218224</td>\n",
       "    </tr>\n",
       "  </tbody>\n",
       "</table>\n",
       "</div>"
      ],
      "text/plain": [
       "    dimensions_id  network_cluster_id  network_cluster_above_threshold  \\\n",
       "0  pub.1103626240                  18                            False   \n",
       "1  pub.1121976320                 174                            False   \n",
       "2  pub.1038352402                   6                             True   \n",
       "3  pub.1026031634                   2                             True   \n",
       "4  pub.1032847387                  52                            False   \n",
       "\n",
       "   network_cluster_size  network_global_degree  network_global_pagerank  \\\n",
       "0                   412                    264                 0.000009   \n",
       "1                    28                     34                 0.000006   \n",
       "2                  1179                    583                 0.000013   \n",
       "3                  2805                    686                 0.000019   \n",
       "4                   118                    109                 0.000007   \n",
       "\n",
       "   network_local_degree  network_local_pagerank  pub_id  in_wikipedia  \\\n",
       "0                   NaN                     NaN   31796         False   \n",
       "1                   NaN                     NaN   60836         False   \n",
       "2                 296.0                0.000626   46876         False   \n",
       "3                 488.0                0.000373   52694         False   \n",
       "4                   NaN                     NaN   41213         False   \n",
       "\n",
       "                                               title  publication_year  \\\n",
       "0  Molecularly specific detection of bacterial li...            2018.0   \n",
       "1  An Exploration of Machine Learning Methods for...            2019.0   \n",
       "2  Smallpox and Season: Reanalysis of Historical ...            2009.0   \n",
       "3  Clinical Presentation and Birth Outcomes Assoc...            2016.0   \n",
       "4  CD4(+) T cells against human papillomavirus-18...            2010.0   \n",
       "\n",
       "   Coronaviruses  Transmission  Public health and epidemics  \\\n",
       "0       0.094277      0.010803                     0.054898   \n",
       "1       0.021636      0.000000                     0.581015   \n",
       "2       0.210432      0.000000                     0.632429   \n",
       "3       0.286207      0.000000                     0.000000   \n",
       "4       0.038589      0.185210                     0.000000   \n",
       "\n",
       "   Molecular biology  Respiratory diseases  Immunology  Clinical medicine  \n",
       "0           0.279896              0.067304    0.323404           0.167419  \n",
       "1           0.000000              0.000000    0.124919           0.267546  \n",
       "2           0.000000              0.000000    0.000000           0.149465  \n",
       "3           0.000000              0.261411    0.025059           0.423279  \n",
       "4           0.473719              0.033090    0.047457           0.218224  "
      ]
     },
     "execution_count": 13,
     "metadata": {},
     "output_type": "execute_result"
    }
   ],
   "source": [
    "df_embeddings.head()"
   ]
  },
  {
   "cell_type": "code",
   "execution_count": 14,
   "metadata": {},
   "outputs": [
    {
     "data": {
      "image/png": "[encoded data removed]",
      "text/plain": [
       "<Figure size 720x576 with 1 Axes>"
      ]
     },
     "metadata": {},
     "output_type": "display_data"
    }
   ],
   "source": [
    "# distribution of centralities for papers cited from Wikipedia or not\n",
    "\n",
    "which_centrality = \"network_global_degree\"\n",
    "\n",
    "plt.figure(figsize=(10,8))\n",
    "sns.distplot(df_embeddings[df_embeddings.in_wikipedia==True][which_centrality].values, color=\"green\", kde=True, norm_hist=True, kde_kws={\"shade\": True}, hist=False, label=\"In Wikipedia\")\n",
    "sns.distplot(df_embeddings[df_embeddings.in_wikipedia==False][which_centrality].values, color=\"blue\", kde=True, norm_hist=True, kde_kws={\"shade\": True}, hist=False, label=\"Not in Wikipedia\")\n",
    "plt.legend(fontsize=15)\n",
    "plt.xlabel(\"%s\"%which_centrality,fontsize=15)\n",
    "plt.savefig(\"figures/nb4_%s_in_wiki.pdf\"%which_centrality)"
   ]
  },
  {
   "cell_type": "code",
   "execution_count": 15,
   "metadata": {},
   "outputs": [],
   "source": [
    "# plot cluster % of papers cited from Wikipedia, against cluster size"
   ]
  },
  {
   "cell_type": "code",
   "execution_count": 18,
   "metadata": {},
   "outputs": [],
   "source": [
    "threshold = 800 #see above"
   ]
  },
  {
   "cell_type": "code",
   "execution_count": 19,
   "metadata": {},
   "outputs": [
    {
     "ename": "NameError",
     "evalue": "name 'c' is not defined",
     "output_type": "error",
     "traceback": [
      "\u001b[0;31m---------------------------------------------------------------------------\u001b[0m",
      "\u001b[0;31mNameError\u001b[0m                                 Traceback (most recent call last)",
      "\u001b[0;32m<ipython-input-19-3fceaf54adeb>\u001b[0m in \u001b[0;36m<module>\u001b[0;34m\u001b[0m\n\u001b[1;32m     11\u001b[0m \u001b[0;31m# we need both similarity and args to index results\u001b[0m\u001b[0;34m\u001b[0m\u001b[0;34m\u001b[0m\u001b[0;34m\u001b[0m\u001b[0m\n\u001b[1;32m     12\u001b[0m \u001b[0;34m\u001b[0m\u001b[0m\n\u001b[0;32m---> 13\u001b[0;31m \u001b[0;32mfor\u001b[0m \u001b[0mcl\u001b[0m \u001b[0;32min\u001b[0m \u001b[0mc\u001b[0m\u001b[0;34m.\u001b[0m\u001b[0mmost_common\u001b[0m\u001b[0;34m(\u001b[0m\u001b[0;34m)\u001b[0m\u001b[0;34m:\u001b[0m\u001b[0;34m\u001b[0m\u001b[0;34m\u001b[0m\u001b[0m\n\u001b[0m\u001b[1;32m     14\u001b[0m     \u001b[0mcl_size\u001b[0m \u001b[0;34m=\u001b[0m \u001b[0mcl\u001b[0m\u001b[0;34m[\u001b[0m\u001b[0;36m1\u001b[0m\u001b[0;34m]\u001b[0m\u001b[0;34m\u001b[0m\u001b[0;34m\u001b[0m\u001b[0m\n\u001b[1;32m     15\u001b[0m     \u001b[0minw\u001b[0m \u001b[0;34m=\u001b[0m \u001b[0mdf_embeddings\u001b[0m\u001b[0;34m[\u001b[0m\u001b[0;34m(\u001b[0m\u001b[0mdf_embeddings\u001b[0m\u001b[0;34m.\u001b[0m\u001b[0min_wikipedia\u001b[0m\u001b[0;34m==\u001b[0m\u001b[0;32mTrue\u001b[0m\u001b[0;34m)\u001b[0m\u001b[0;34m&\u001b[0m\u001b[0;34m(\u001b[0m\u001b[0mdf_embeddings\u001b[0m\u001b[0;34m.\u001b[0m\u001b[0mnetwork_cluster_id\u001b[0m\u001b[0;34m==\u001b[0m\u001b[0mcl\u001b[0m\u001b[0;34m[\u001b[0m\u001b[0;36m0\u001b[0m\u001b[0;34m]\u001b[0m\u001b[0;34m)\u001b[0m\u001b[0;34m]\u001b[0m\u001b[0;34m.\u001b[0m\u001b[0mshape\u001b[0m\u001b[0;34m[\u001b[0m\u001b[0;36m0\u001b[0m\u001b[0;34m]\u001b[0m\u001b[0;34m\u001b[0m\u001b[0;34m\u001b[0m\u001b[0m\n",
      "\u001b[0;31mNameError\u001b[0m: name 'c' is not defined"
     ]
    }
   ],
   "source": [
    "cluster_coverage = list()\n",
    "cluster_size = list()\n",
    "cluster_number = list()\n",
    "below_threshold_size = 0\n",
    "below_threshold_coverage = 0\n",
    "local_threshold = threshold\n",
    "#threshold = 500\n",
    "\n",
    "# also calculate paper centralities wrt. cluster centroid\n",
    "# for every paper, this is 1 - the (cosine) distance wrt. its centroid\n",
    "# we need both similarity and args to index results\n",
    "\n",
    "for cl in c.most_common():\n",
    "    cl_size = cl[1]\n",
    "    inw = df_embeddings[(df_embeddings.in_wikipedia==True)&(df_embeddings.network_cluster_id==cl[0])].shape[0]\n",
    "    if cl[1]>=threshold:\n",
    "        coverage = inw/cl_size\n",
    "        cluster_coverage.append(coverage)\n",
    "        cluster_size.append(cl_size)\n",
    "        cluster_number.append(cl[0])\n",
    "    else:\n",
    "        below_threshold_coverage += inw\n",
    "        below_threshold_size += cl_size\n",
    "#cluster_coverage.append(below_threshold_coverage/below_threshold_size)\n",
    "#cluster_size.append(below_threshold_size)\n",
    "#cluster_number.append(-1)"
   ]
  },
  {
   "cell_type": "code",
   "execution_count": 169,
   "metadata": {},
   "outputs": [
    {
     "data": {
      "image/png": "[encoded data removed]",
      "text/plain": [
       "<Figure size 432x432 with 1 Axes>"
      ]
     },
     "metadata": {},
     "output_type": "display_data"
    }
   ],
   "source": [
    "plt.figure(figsize=(6,6))\n",
    "pl = sns.scatterplot(x=cluster_size,y=cluster_coverage,s=200)\n",
    "# add annotations one by one with a loop\n",
    "for dot in cluster_number:\n",
    "     pl.text(cluster_size[dot]+7, cluster_coverage[dot]+0.002, s=cluster_number[dot], horizontalalignment='left', size='medium', color='black', weight='semibold')\n",
    "plt.ylim((0,0.08))\n",
    "plt.xlim((0,max(cluster_size)+500))\n",
    "#plt.legend(fontsize=15)\n",
    "#plt.savefig(\"figures/nb4_cluster_size_vs_wiki_coverage_%d_no_max.pdf\"%local_threshold)"
   ]
  },
  {
   "cell_type": "code",
   "execution_count": 20,
   "metadata": {},
   "outputs": [],
   "source": [
    "which_cluster = 11"
   ]
  },
  {
   "cell_type": "code",
   "execution_count": 21,
   "metadata": {},
   "outputs": [
    {
     "data": {
      "image/png": "[encoded data removed]",
      "text/plain": [
       "<Figure size 432x288 with 1 Axes>"
      ]
     },
     "metadata": {},
     "output_type": "display_data"
    }
   ],
   "source": [
    "sns.distplot(df_embeddings[df_embeddings.network_cluster_id == which_cluster].publication_year, bins=17, kde=False)\n",
    "plt.xlabel(\"Year\",fontsize=15)\n",
    "plt.ylabel(\"Count\",fontsize=15)\n",
    "plt.tick_params(labelsize=12)\n",
    "plt.gca().xaxis.set_major_formatter(FuncFormatter(lambda x, _: int(x)))\n",
    "plt.tight_layout()\n",
    "#plt.savefig(\"figures/nb4_cluster_%d_yeardistr.pdf\"%(which_cluster))"
   ]
  },
  {
   "cell_type": "code",
   "execution_count": 22,
   "metadata": {},
   "outputs": [
    {
     "data": {
      "image/png": "[encoded data removed]",
      "text/plain": [
       "<Figure size 576x360 with 1 Axes>"
      ]
     },
     "metadata": {},
     "output_type": "display_data"
    }
   ],
   "source": [
    "plt.figure(figsize=(8,5))\n",
    "df_sub = df_embeddings[df_embeddings.network_cluster_id == which_cluster][[mt for mt in topic_labels]].mean()\n",
    "b = sns.barplot(y=df_sub.index,x=df_sub.values)\n",
    "b.set_xlabel(\"Proportion\",fontsize=15)\n",
    "b.set_ylabel(\"Macrotopic\",fontsize=15)\n",
    "b.tick_params(labelsize=12)\n",
    "plt.tight_layout()\n",
    "#plt.savefig(\"figures/nb4_cluster_%d_to_topicmodel.pdf\"%(which_cluster))"
   ]
  },
  {
   "cell_type": "code",
   "execution_count": 23,
   "metadata": {},
   "outputs": [
    {
     "data": {
      "text/html": [
       "<div>\n",
       "<style scoped>\n",
       "    .dataframe tbody tr th:only-of-type {\n",
       "        vertical-align: middle;\n",
       "    }\n",
       "\n",
       "    .dataframe tbody tr th {\n",
       "        vertical-align: top;\n",
       "    }\n",
       "\n",
       "    .dataframe thead th {\n",
       "        text-align: right;\n",
       "    }\n",
       "</style>\n",
       "<table border=\"1\" class=\"dataframe\">\n",
       "  <thead>\n",
       "    <tr style=\"text-align: right;\">\n",
       "      <th></th>\n",
       "      <th>dimensions_id</th>\n",
       "      <th>network_cluster_id</th>\n",
       "      <th>network_cluster_size</th>\n",
       "      <th>network_global_degree</th>\n",
       "      <th>network_global_pagerank</th>\n",
       "      <th>title</th>\n",
       "      <th>publication_year</th>\n",
       "    </tr>\n",
       "  </thead>\n",
       "  <tbody>\n",
       "    <tr>\n",
       "      <th>34468</th>\n",
       "      <td>pub.1078379372</td>\n",
       "      <td>11</td>\n",
       "      <td>861</td>\n",
       "      <td>1156</td>\n",
       "      <td>0.000047</td>\n",
       "      <td>Recent Trends in Emerging Infectious Diseases</td>\n",
       "      <td>2009.0</td>\n",
       "    </tr>\n",
       "    <tr>\n",
       "      <th>8494</th>\n",
       "      <td>pub.1039182086</td>\n",
       "      <td>11</td>\n",
       "      <td>861</td>\n",
       "      <td>1799</td>\n",
       "      <td>0.000045</td>\n",
       "      <td>Human viruses: discovery and emergence</td>\n",
       "      <td>2012.0</td>\n",
       "    </tr>\n",
       "    <tr>\n",
       "      <th>15474</th>\n",
       "      <td>pub.1000945380</td>\n",
       "      <td>11</td>\n",
       "      <td>861</td>\n",
       "      <td>1176</td>\n",
       "      <td>0.000043</td>\n",
       "      <td>Temporal trends in the discovery of human viruses</td>\n",
       "      <td>2008.0</td>\n",
       "    </tr>\n",
       "    <tr>\n",
       "      <th>28889</th>\n",
       "      <td>pub.1039290262</td>\n",
       "      <td>11</td>\n",
       "      <td>861</td>\n",
       "      <td>1116</td>\n",
       "      <td>0.000043</td>\n",
       "      <td>Emerging infectious diseases</td>\n",
       "      <td>2014.0</td>\n",
       "    </tr>\n",
       "    <tr>\n",
       "      <th>46141</th>\n",
       "      <td>pub.1038331952</td>\n",
       "      <td>11</td>\n",
       "      <td>861</td>\n",
       "      <td>1238</td>\n",
       "      <td>0.000042</td>\n",
       "      <td>Spillover and pandemic properties of zoonotic ...</td>\n",
       "      <td>2015.0</td>\n",
       "    </tr>\n",
       "    <tr>\n",
       "      <th>687</th>\n",
       "      <td>pub.1071123465</td>\n",
       "      <td>11</td>\n",
       "      <td>861</td>\n",
       "      <td>1911</td>\n",
       "      <td>0.000041</td>\n",
       "      <td>Assessing the Epidemic Potential of RNA and DN...</td>\n",
       "      <td>2016.0</td>\n",
       "    </tr>\n",
       "    <tr>\n",
       "      <th>34828</th>\n",
       "      <td>pub.1092537083</td>\n",
       "      <td>11</td>\n",
       "      <td>861</td>\n",
       "      <td>1488</td>\n",
       "      <td>0.000040</td>\n",
       "      <td>Stochastic dynamics of an epidemics with recur...</td>\n",
       "      <td>2017.0</td>\n",
       "    </tr>\n",
       "    <tr>\n",
       "      <th>30311</th>\n",
       "      <td>pub.1015443089</td>\n",
       "      <td>11</td>\n",
       "      <td>861</td>\n",
       "      <td>1138</td>\n",
       "      <td>0.000040</td>\n",
       "      <td>Global trends in emerging infectious diseases</td>\n",
       "      <td>2008.0</td>\n",
       "    </tr>\n",
       "    <tr>\n",
       "      <th>36983</th>\n",
       "      <td>pub.1121122319</td>\n",
       "      <td>11</td>\n",
       "      <td>861</td>\n",
       "      <td>1502</td>\n",
       "      <td>0.000040</td>\n",
       "      <td>Chapter 4 Human Viruses: Emergence and Evolution</td>\n",
       "      <td>2020.0</td>\n",
       "    </tr>\n",
       "    <tr>\n",
       "      <th>5450</th>\n",
       "      <td>pub.1060399641</td>\n",
       "      <td>11</td>\n",
       "      <td>861</td>\n",
       "      <td>2279</td>\n",
       "      <td>0.000040</td>\n",
       "      <td>Faecal virome of cats in an animal shelter</td>\n",
       "      <td>2014.0</td>\n",
       "    </tr>\n",
       "    <tr>\n",
       "      <th>32792</th>\n",
       "      <td>pub.1013358687</td>\n",
       "      <td>11</td>\n",
       "      <td>861</td>\n",
       "      <td>1589</td>\n",
       "      <td>0.000039</td>\n",
       "      <td>The Origin and Prevention of Pandemics</td>\n",
       "      <td>2010.0</td>\n",
       "    </tr>\n",
       "    <tr>\n",
       "      <th>38205</th>\n",
       "      <td>pub.1106186580</td>\n",
       "      <td>11</td>\n",
       "      <td>861</td>\n",
       "      <td>1556</td>\n",
       "      <td>0.000038</td>\n",
       "      <td>Stochastic dynamics of an epidemic with recurr...</td>\n",
       "      <td>2018.0</td>\n",
       "    </tr>\n",
       "    <tr>\n",
       "      <th>8869</th>\n",
       "      <td>pub.1086107929</td>\n",
       "      <td>11</td>\n",
       "      <td>861</td>\n",
       "      <td>1934</td>\n",
       "      <td>0.000038</td>\n",
       "      <td>Host and viral traits predict zoonotic spillov...</td>\n",
       "      <td>2017.0</td>\n",
       "    </tr>\n",
       "    <tr>\n",
       "      <th>39244</th>\n",
       "      <td>pub.1047995641</td>\n",
       "      <td>11</td>\n",
       "      <td>861</td>\n",
       "      <td>1700</td>\n",
       "      <td>0.000037</td>\n",
       "      <td>Inference of R (0) and Transmission Heterogene...</td>\n",
       "      <td>2013.0</td>\n",
       "    </tr>\n",
       "    <tr>\n",
       "      <th>6608</th>\n",
       "      <td>pub.1014268501</td>\n",
       "      <td>11</td>\n",
       "      <td>861</td>\n",
       "      <td>1357</td>\n",
       "      <td>0.000037</td>\n",
       "      <td>Distinguishing Between Reservoir Exposure and ...</td>\n",
       "      <td>2014.0</td>\n",
       "    </tr>\n",
       "    <tr>\n",
       "      <th>39667</th>\n",
       "      <td>pub.1091776277</td>\n",
       "      <td>11</td>\n",
       "      <td>861</td>\n",
       "      <td>1428</td>\n",
       "      <td>0.000037</td>\n",
       "      <td>Detection of Bovine Coronavirus in Healthy and...</td>\n",
       "      <td>2017.0</td>\n",
       "    </tr>\n",
       "    <tr>\n",
       "      <th>40487</th>\n",
       "      <td>pub.1126645439</td>\n",
       "      <td>11</td>\n",
       "      <td>861</td>\n",
       "      <td>1521</td>\n",
       "      <td>0.000037</td>\n",
       "      <td>Viral zoonotic risk is homogenous among taxono...</td>\n",
       "      <td>2020.0</td>\n",
       "    </tr>\n",
       "    <tr>\n",
       "      <th>13271</th>\n",
       "      <td>pub.1101859655</td>\n",
       "      <td>11</td>\n",
       "      <td>861</td>\n",
       "      <td>1439</td>\n",
       "      <td>0.000036</td>\n",
       "      <td>Building a global atlas of zoonotic viruses</td>\n",
       "      <td>2018.0</td>\n",
       "    </tr>\n",
       "    <tr>\n",
       "      <th>50072</th>\n",
       "      <td>pub.1062731272</td>\n",
       "      <td>11</td>\n",
       "      <td>861</td>\n",
       "      <td>1292</td>\n",
       "      <td>0.000036</td>\n",
       "      <td>RNA viruses: a case study of the biology of em...</td>\n",
       "      <td>2013.0</td>\n",
       "    </tr>\n",
       "    <tr>\n",
       "      <th>373</th>\n",
       "      <td>pub.1059325481</td>\n",
       "      <td>11</td>\n",
       "      <td>861</td>\n",
       "      <td>1210</td>\n",
       "      <td>0.000036</td>\n",
       "      <td>Targeting Transmission Pathways for Emerging Z...</td>\n",
       "      <td>2015.0</td>\n",
       "    </tr>\n",
       "  </tbody>\n",
       "</table>\n",
       "</div>"
      ],
      "text/plain": [
       "        dimensions_id  network_cluster_id  network_cluster_size  \\\n",
       "34468  pub.1078379372                  11                   861   \n",
       "8494   pub.1039182086                  11                   861   \n",
       "15474  pub.1000945380                  11                   861   \n",
       "28889  pub.1039290262                  11                   861   \n",
       "46141  pub.1038331952                  11                   861   \n",
       "687    pub.1071123465                  11                   861   \n",
       "34828  pub.1092537083                  11                   861   \n",
       "30311  pub.1015443089                  11                   861   \n",
       "36983  pub.1121122319                  11                   861   \n",
       "5450   pub.1060399641                  11                   861   \n",
       "32792  pub.1013358687                  11                   861   \n",
       "38205  pub.1106186580                  11                   861   \n",
       "8869   pub.1086107929                  11                   861   \n",
       "39244  pub.1047995641                  11                   861   \n",
       "6608   pub.1014268501                  11                   861   \n",
       "39667  pub.1091776277                  11                   861   \n",
       "40487  pub.1126645439                  11                   861   \n",
       "13271  pub.1101859655                  11                   861   \n",
       "50072  pub.1062731272                  11                   861   \n",
       "373    pub.1059325481                  11                   861   \n",
       "\n",
       "       network_global_degree  network_global_pagerank  \\\n",
       "34468                   1156                 0.000047   \n",
       "8494                    1799                 0.000045   \n",
       "15474                   1176                 0.000043   \n",
       "28889                   1116                 0.000043   \n",
       "46141                   1238                 0.000042   \n",
       "687                     1911                 0.000041   \n",
       "34828                   1488                 0.000040   \n",
       "30311                   1138                 0.000040   \n",
       "36983                   1502                 0.000040   \n",
       "5450                    2279                 0.000040   \n",
       "32792                   1589                 0.000039   \n",
       "38205                   1556                 0.000038   \n",
       "8869                    1934                 0.000038   \n",
       "39244                   1700                 0.000037   \n",
       "6608                    1357                 0.000037   \n",
       "39667                   1428                 0.000037   \n",
       "40487                   1521                 0.000037   \n",
       "13271                   1439                 0.000036   \n",
       "50072                   1292                 0.000036   \n",
       "373                     1210                 0.000036   \n",
       "\n",
       "                                                   title  publication_year  \n",
       "34468      Recent Trends in Emerging Infectious Diseases            2009.0  \n",
       "8494              Human viruses: discovery and emergence            2012.0  \n",
       "15474  Temporal trends in the discovery of human viruses            2008.0  \n",
       "28889                       Emerging infectious diseases            2014.0  \n",
       "46141  Spillover and pandemic properties of zoonotic ...            2015.0  \n",
       "687    Assessing the Epidemic Potential of RNA and DN...            2016.0  \n",
       "34828  Stochastic dynamics of an epidemics with recur...            2017.0  \n",
       "30311      Global trends in emerging infectious diseases            2008.0  \n",
       "36983   Chapter 4 Human Viruses: Emergence and Evolution            2020.0  \n",
       "5450          Faecal virome of cats in an animal shelter            2014.0  \n",
       "32792             The Origin and Prevention of Pandemics            2010.0  \n",
       "38205  Stochastic dynamics of an epidemic with recurr...            2018.0  \n",
       "8869   Host and viral traits predict zoonotic spillov...            2017.0  \n",
       "39244  Inference of R (0) and Transmission Heterogene...            2013.0  \n",
       "6608   Distinguishing Between Reservoir Exposure and ...            2014.0  \n",
       "39667  Detection of Bovine Coronavirus in Healthy and...            2017.0  \n",
       "40487  Viral zoonotic risk is homogenous among taxono...            2020.0  \n",
       "13271        Building a global atlas of zoonotic viruses            2018.0  \n",
       "50072  RNA viruses: a case study of the biology of em...            2013.0  \n",
       "373    Targeting Transmission Pathways for Emerging Z...            2015.0  "
      ]
     },
     "execution_count": 23,
     "metadata": {},
     "output_type": "execute_result"
    }
   ],
   "source": [
    "# examples of central papers in a cluster\n",
    "\n",
    "df_embeddings[[\"dimensions_id\",\"network_cluster_id\",\"network_cluster_size\",\"network_global_degree\",\"network_global_pagerank\",\"title\",\"publication_year\"]][df_embeddings.network_cluster_id==which_cluster].sort_values(\"network_global_pagerank\",ascending=False).head(20)"
   ]
  },
  {
   "cell_type": "code",
   "execution_count": null,
   "metadata": {},
   "outputs": [],
   "source": []
  },
  {
   "cell_type": "code",
   "execution_count": null,
   "metadata": {},
   "outputs": [],
   "source": []
  }
 ],
 "metadata": {
  "kernelspec": {
   "display_name": "Python 3",
   "language": "python",
   "name": "python3"
  },
  "language_info": {
   "codemirror_mode": {
    "name": "ipython",
    "version": 3
   },
   "file_extension": ".py",
   "mimetype": "text/x-python",
   "name": "python",
   "nbconvert_exporter": "python",
   "pygments_lexer": "ipython3",
   "version": "3.7.6"
  }
 },
 "nbformat": 4,
 "nbformat_minor": 4
}
